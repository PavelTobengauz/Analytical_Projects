{
 "cells": [
  {
   "cell_type": "markdown",
   "metadata": {},
   "source": [
    "# A/B test results analysis"
   ]
  },
  {
   "cell_type": "markdown",
   "metadata": {},
   "source": [
    "**The main goal:** to test the changes connected with the introduction of an improved recommender system.\n",
    "\n",
    "**Tasks:**\n",
    "* To check the correctness of the A / B test.\n",
    "* To check conversion improvement in product card view.\n",
    "* To check cart views improvement.\n",
    "* To check purchases improvement.\n",
    "\n",
    "**Terms of reference**\n",
    "* Test name: recommender_system_test;\n",
    "* groups: A - control, B - new payment funnel;\n",
    "* launch date: 2020-12-07;\n",
    "* date of stopping the recruitment of new users: 2020-12-21;\n",
    "* stop date: 2021-01-04;\n",
    "* audience: 15% of new users from the EU region should be selected for the test;\n",
    "* purpose of the test: testing changes associated with the introduction of an improved recommender system;\n",
    "* expected number of test participants: 6000\n",
    "* expected effect: in 14 days from the moment of the registration, users will show an improvement in each metric by at least 10%:\n",
    "     * conversions to view product cards: product_page,\n",
    "     * cart views: product_cart,\n",
    "     * purchases."
   ]
  },
  {
   "cell_type": "markdown",
   "metadata": {},
   "source": [
    "## Data loading and preprocessing"
   ]
  },
  {
   "cell_type": "code",
   "execution_count": 1,
   "metadata": {},
   "outputs": [],
   "source": [
    "# libraries\n",
    "import pandas as pd\n",
    "import numpy as np\n",
    "import matplotlib.pyplot as plt\n",
    "import seaborn as sns\n",
    "import math as mth\n",
    "from scipy import stats as st\n",
    "import datetime as dt\n",
    "from datetime import timedelta as td"
   ]
  },
  {
   "cell_type": "markdown",
   "metadata": {},
   "source": [
    "### Projects data"
   ]
  },
  {
   "cell_type": "code",
   "execution_count": 2,
   "metadata": {},
   "outputs": [
    {
     "name": "stdout",
     "output_type": "stream",
     "text": [
      "<class 'pandas.core.frame.DataFrame'>\n",
      "RangeIndex: 14 entries, 0 to 13\n",
      "Data columns (total 4 columns):\n",
      " #   Column     Non-Null Count  Dtype         \n",
      "---  ------     --------------  -----         \n",
      " 0   name       14 non-null     object        \n",
      " 1   regions    14 non-null     object        \n",
      " 2   start_dt   14 non-null     datetime64[ns]\n",
      " 3   finish_dt  14 non-null     datetime64[ns]\n",
      "dtypes: datetime64[ns](2), object(2)\n",
      "memory usage: 576.0+ bytes\n",
      "\n",
      "Duplicates amount:  0\n",
      "\n"
     ]
    },
    {
     "data": {
      "text/html": [
       "<div>\n",
       "<style scoped>\n",
       "    .dataframe tbody tr th:only-of-type {\n",
       "        vertical-align: middle;\n",
       "    }\n",
       "\n",
       "    .dataframe tbody tr th {\n",
       "        vertical-align: top;\n",
       "    }\n",
       "\n",
       "    .dataframe thead th {\n",
       "        text-align: right;\n",
       "    }\n",
       "</style>\n",
       "<table border=\"1\" class=\"dataframe\">\n",
       "  <thead>\n",
       "    <tr style=\"text-align: right;\">\n",
       "      <th></th>\n",
       "      <th>name</th>\n",
       "      <th>regions</th>\n",
       "      <th>start_dt</th>\n",
       "      <th>finish_dt</th>\n",
       "    </tr>\n",
       "  </thead>\n",
       "  <tbody>\n",
       "    <tr>\n",
       "      <th>0</th>\n",
       "      <td>Christmas&amp;New Year Promo</td>\n",
       "      <td>EU, N.America</td>\n",
       "      <td>2020-12-25</td>\n",
       "      <td>2021-01-03</td>\n",
       "    </tr>\n",
       "    <tr>\n",
       "      <th>1</th>\n",
       "      <td>St. Valentine's Day Giveaway</td>\n",
       "      <td>EU, CIS, APAC, N.America</td>\n",
       "      <td>2020-02-14</td>\n",
       "      <td>2020-02-16</td>\n",
       "    </tr>\n",
       "    <tr>\n",
       "      <th>2</th>\n",
       "      <td>St. Patric's Day Promo</td>\n",
       "      <td>EU, N.America</td>\n",
       "      <td>2020-03-17</td>\n",
       "      <td>2020-03-19</td>\n",
       "    </tr>\n",
       "    <tr>\n",
       "      <th>3</th>\n",
       "      <td>Easter Promo</td>\n",
       "      <td>EU, CIS, APAC, N.America</td>\n",
       "      <td>2020-04-12</td>\n",
       "      <td>2020-04-19</td>\n",
       "    </tr>\n",
       "    <tr>\n",
       "      <th>4</th>\n",
       "      <td>4th of July Promo</td>\n",
       "      <td>N.America</td>\n",
       "      <td>2020-07-04</td>\n",
       "      <td>2020-07-11</td>\n",
       "    </tr>\n",
       "  </tbody>\n",
       "</table>\n",
       "</div>"
      ],
      "text/plain": [
       "                           name                   regions   start_dt  \\\n",
       "0      Christmas&New Year Promo             EU, N.America 2020-12-25   \n",
       "1  St. Valentine's Day Giveaway  EU, CIS, APAC, N.America 2020-02-14   \n",
       "2        St. Patric's Day Promo             EU, N.America 2020-03-17   \n",
       "3                  Easter Promo  EU, CIS, APAC, N.America 2020-04-12   \n",
       "4             4th of July Promo                 N.America 2020-07-04   \n",
       "\n",
       "   finish_dt  \n",
       "0 2021-01-03  \n",
       "1 2020-02-16  \n",
       "2 2020-03-19  \n",
       "3 2020-04-19  \n",
       "4 2020-07-11  "
      ]
     },
     "execution_count": 2,
     "metadata": {},
     "output_type": "execute_result"
    }
   ],
   "source": [
    "# loading data\n",
    "projects = pd.read_csv('/datasets/ab_project_marketing_events.csv')\n",
    "\n",
    "# data types\n",
    "projects['start_dt'] = pd.to_datetime(projects['start_dt'])\n",
    "projects['finish_dt'] = pd.to_datetime(projects['finish_dt'])\n",
    "\n",
    "# looking at the data\n",
    "projects.info()\n",
    "print()\n",
    "print('Duplicates amount: ', projects.duplicated().sum())\n",
    "print()\n",
    "projects.head()"
   ]
  },
  {
   "cell_type": "markdown",
   "metadata": {},
   "source": [
    "**CONCLUSIONS:**\n",
    "* We have uploaded campaign data.\n",
    "* There are 14 campaigns in the data.\n",
    "* No passes.\n",
    "* No duplicates.\n",
    "* Formats are correct."
   ]
  },
  {
   "cell_type": "markdown",
   "metadata": {},
   "source": [
    "### Users data\n",
    "All the users who registered in the online store from December 7, 2020 to December 21, 2020"
   ]
  },
  {
   "cell_type": "code",
   "execution_count": 3,
   "metadata": {},
   "outputs": [
    {
     "name": "stdout",
     "output_type": "stream",
     "text": [
      "<class 'pandas.core.frame.DataFrame'>\n",
      "RangeIndex: 61733 entries, 0 to 61732\n",
      "Data columns (total 4 columns):\n",
      " #   Column      Non-Null Count  Dtype         \n",
      "---  ------      --------------  -----         \n",
      " 0   user_id     61733 non-null  object        \n",
      " 1   first_date  61733 non-null  datetime64[ns]\n",
      " 2   region      61733 non-null  object        \n",
      " 3   device      61733 non-null  object        \n",
      "dtypes: datetime64[ns](1), object(3)\n",
      "memory usage: 1.9+ MB\n",
      "\n",
      "Max date:  2020-12-23 00:00:00\n",
      "Min date:  2020-12-07 00:00:00\n",
      "\n",
      "Duplicates amount:  0\n",
      "\n"
     ]
    },
    {
     "data": {
      "text/html": [
       "<div>\n",
       "<style scoped>\n",
       "    .dataframe tbody tr th:only-of-type {\n",
       "        vertical-align: middle;\n",
       "    }\n",
       "\n",
       "    .dataframe tbody tr th {\n",
       "        vertical-align: top;\n",
       "    }\n",
       "\n",
       "    .dataframe thead th {\n",
       "        text-align: right;\n",
       "    }\n",
       "</style>\n",
       "<table border=\"1\" class=\"dataframe\">\n",
       "  <thead>\n",
       "    <tr style=\"text-align: right;\">\n",
       "      <th></th>\n",
       "      <th>user_id</th>\n",
       "      <th>first_date</th>\n",
       "      <th>region</th>\n",
       "      <th>device</th>\n",
       "    </tr>\n",
       "  </thead>\n",
       "  <tbody>\n",
       "    <tr>\n",
       "      <th>0</th>\n",
       "      <td>D72A72121175D8BE</td>\n",
       "      <td>2020-12-07</td>\n",
       "      <td>EU</td>\n",
       "      <td>PC</td>\n",
       "    </tr>\n",
       "    <tr>\n",
       "      <th>1</th>\n",
       "      <td>F1C668619DFE6E65</td>\n",
       "      <td>2020-12-07</td>\n",
       "      <td>N.America</td>\n",
       "      <td>Android</td>\n",
       "    </tr>\n",
       "    <tr>\n",
       "      <th>2</th>\n",
       "      <td>2E1BF1D4C37EA01F</td>\n",
       "      <td>2020-12-07</td>\n",
       "      <td>EU</td>\n",
       "      <td>PC</td>\n",
       "    </tr>\n",
       "    <tr>\n",
       "      <th>3</th>\n",
       "      <td>50734A22C0C63768</td>\n",
       "      <td>2020-12-07</td>\n",
       "      <td>EU</td>\n",
       "      <td>iPhone</td>\n",
       "    </tr>\n",
       "    <tr>\n",
       "      <th>4</th>\n",
       "      <td>E1BDDCE0DAFA2679</td>\n",
       "      <td>2020-12-07</td>\n",
       "      <td>N.America</td>\n",
       "      <td>iPhone</td>\n",
       "    </tr>\n",
       "  </tbody>\n",
       "</table>\n",
       "</div>"
      ],
      "text/plain": [
       "            user_id first_date     region   device\n",
       "0  D72A72121175D8BE 2020-12-07         EU       PC\n",
       "1  F1C668619DFE6E65 2020-12-07  N.America  Android\n",
       "2  2E1BF1D4C37EA01F 2020-12-07         EU       PC\n",
       "3  50734A22C0C63768 2020-12-07         EU   iPhone\n",
       "4  E1BDDCE0DAFA2679 2020-12-07  N.America   iPhone"
      ]
     },
     "execution_count": 3,
     "metadata": {},
     "output_type": "execute_result"
    }
   ],
   "source": [
    "# loading data\n",
    "users = pd.read_csv('/datasets/final_ab_new_users.csv')\n",
    "\n",
    "# data types\n",
    "users['first_date'] = pd.to_datetime(users['first_date'])\n",
    "\n",
    "users.info()\n",
    "print()\n",
    "print('Max date: ', users['first_date'].max())\n",
    "print('Min date: ', users['first_date'].min())\n",
    "print()\n",
    "print('Duplicates amount: ', users.duplicated().sum())\n",
    "print()\n",
    "users.head()"
   ]
  },
  {
   "cell_type": "markdown",
   "metadata": {},
   "source": [
    "**CONCLUSIONS:**\n",
    "* We have uploaded the data.\n",
    "* There are 61733 users in the data.\n",
    "* The data is about users registered from 7 to 23 December.\n",
    "* No duplicates.\n",
    "* No passes.\n",
    "* Formats are correct."
   ]
  },
  {
   "cell_type": "markdown",
   "metadata": {},
   "source": [
    "### Events data\n",
    "All new user events between December 7, 2020 and January 4, 2021"
   ]
  },
  {
   "cell_type": "code",
   "execution_count": 4,
   "metadata": {},
   "outputs": [
    {
     "name": "stdout",
     "output_type": "stream",
     "text": [
      "<class 'pandas.core.frame.DataFrame'>\n",
      "RangeIndex: 440317 entries, 0 to 440316\n",
      "Data columns (total 5 columns):\n",
      " #   Column      Non-Null Count   Dtype         \n",
      "---  ------      --------------   -----         \n",
      " 0   user_id     440317 non-null  object        \n",
      " 1   event_dt    440317 non-null  datetime64[ns]\n",
      " 2   event_name  440317 non-null  object        \n",
      " 3   details     62740 non-null   float64       \n",
      " 4   date        440317 non-null  datetime64[ns]\n",
      "dtypes: datetime64[ns](2), float64(1), object(2)\n",
      "memory usage: 16.8+ MB\n",
      "\n",
      "     event_name   count  details\n",
      "0         login  189552        0\n",
      "1  product_cart   62462        0\n",
      "2  product_page  125563        0\n",
      "3      purchase   62740    62740\n",
      "\n",
      "Max date:  2020-12-30 00:00:00\n",
      "Min date:  2020-12-07 00:00:00\n",
      "\n",
      "Duplicates amount:  0\n",
      "\n"
     ]
    },
    {
     "data": {
      "text/html": [
       "<div>\n",
       "<style scoped>\n",
       "    .dataframe tbody tr th:only-of-type {\n",
       "        vertical-align: middle;\n",
       "    }\n",
       "\n",
       "    .dataframe tbody tr th {\n",
       "        vertical-align: top;\n",
       "    }\n",
       "\n",
       "    .dataframe thead th {\n",
       "        text-align: right;\n",
       "    }\n",
       "</style>\n",
       "<table border=\"1\" class=\"dataframe\">\n",
       "  <thead>\n",
       "    <tr style=\"text-align: right;\">\n",
       "      <th></th>\n",
       "      <th>user_id</th>\n",
       "      <th>event_dt</th>\n",
       "      <th>event_name</th>\n",
       "      <th>details</th>\n",
       "      <th>date</th>\n",
       "    </tr>\n",
       "  </thead>\n",
       "  <tbody>\n",
       "    <tr>\n",
       "      <th>0</th>\n",
       "      <td>E1BDDCE0DAFA2679</td>\n",
       "      <td>2020-12-07 20:22:03</td>\n",
       "      <td>purchase</td>\n",
       "      <td>99.99</td>\n",
       "      <td>2020-12-07</td>\n",
       "    </tr>\n",
       "    <tr>\n",
       "      <th>1</th>\n",
       "      <td>7B6452F081F49504</td>\n",
       "      <td>2020-12-07 09:22:53</td>\n",
       "      <td>purchase</td>\n",
       "      <td>9.99</td>\n",
       "      <td>2020-12-07</td>\n",
       "    </tr>\n",
       "    <tr>\n",
       "      <th>2</th>\n",
       "      <td>9CD9F34546DF254C</td>\n",
       "      <td>2020-12-07 12:59:29</td>\n",
       "      <td>purchase</td>\n",
       "      <td>4.99</td>\n",
       "      <td>2020-12-07</td>\n",
       "    </tr>\n",
       "    <tr>\n",
       "      <th>3</th>\n",
       "      <td>96F27A054B191457</td>\n",
       "      <td>2020-12-07 04:02:40</td>\n",
       "      <td>purchase</td>\n",
       "      <td>4.99</td>\n",
       "      <td>2020-12-07</td>\n",
       "    </tr>\n",
       "    <tr>\n",
       "      <th>4</th>\n",
       "      <td>1FD7660FDF94CA1F</td>\n",
       "      <td>2020-12-07 10:15:09</td>\n",
       "      <td>purchase</td>\n",
       "      <td>4.99</td>\n",
       "      <td>2020-12-07</td>\n",
       "    </tr>\n",
       "  </tbody>\n",
       "</table>\n",
       "</div>"
      ],
      "text/plain": [
       "            user_id            event_dt event_name  details       date\n",
       "0  E1BDDCE0DAFA2679 2020-12-07 20:22:03   purchase    99.99 2020-12-07\n",
       "1  7B6452F081F49504 2020-12-07 09:22:53   purchase     9.99 2020-12-07\n",
       "2  9CD9F34546DF254C 2020-12-07 12:59:29   purchase     4.99 2020-12-07\n",
       "3  96F27A054B191457 2020-12-07 04:02:40   purchase     4.99 2020-12-07\n",
       "4  1FD7660FDF94CA1F 2020-12-07 10:15:09   purchase     4.99 2020-12-07"
      ]
     },
     "execution_count": 4,
     "metadata": {},
     "output_type": "execute_result"
    }
   ],
   "source": [
    "# loading data\n",
    "events = pd.read_csv('/datasets/final_ab_events.csv')\n",
    "\n",
    "# setting data types and creating the column 'date'\n",
    "events['event_dt'] = pd.to_datetime(events['event_dt'])\n",
    "events['date'] = events['event_dt'].dt.date\n",
    "events['date'] = pd.to_datetime(events['date'])\n",
    "\n",
    "events.info()\n",
    "print()\n",
    "\n",
    "# looking at where are the gaps\n",
    "print(\n",
    "    events.groupby('event_name', as_index=False)\n",
    "    .agg({'user_id': 'count', 'details': 'count'})\n",
    "    .rename(columns={'user_id': 'count'})\n",
    ")\n",
    "print()\n",
    "print('Max date: ', events['date'].max())\n",
    "print('Min date: ', events['date'].min())\n",
    "print()\n",
    "print('Duplicates amount: ', events.duplicated().sum())\n",
    "print()\n",
    "events.head()"
   ]
  },
  {
   "cell_type": "markdown",
   "metadata": {},
   "source": [
    "Checking the gaps by details"
   ]
  },
  {
   "cell_type": "code",
   "execution_count": 5,
   "metadata": {},
   "outputs": [
    {
     "data": {
      "text/html": [
       "<div>\n",
       "<style scoped>\n",
       "    .dataframe tbody tr th:only-of-type {\n",
       "        vertical-align: middle;\n",
       "    }\n",
       "\n",
       "    .dataframe tbody tr th {\n",
       "        vertical-align: top;\n",
       "    }\n",
       "\n",
       "    .dataframe thead th {\n",
       "        text-align: right;\n",
       "    }\n",
       "</style>\n",
       "<table border=\"1\" class=\"dataframe\">\n",
       "  <thead>\n",
       "    <tr style=\"text-align: right;\">\n",
       "      <th></th>\n",
       "      <th>event_name</th>\n",
       "      <th>total_count</th>\n",
       "      <th>details_count</th>\n",
       "      <th>details_gaps</th>\n",
       "    </tr>\n",
       "  </thead>\n",
       "  <tbody>\n",
       "    <tr>\n",
       "      <th>0</th>\n",
       "      <td>login</td>\n",
       "      <td>189552</td>\n",
       "      <td>0</td>\n",
       "      <td>189552</td>\n",
       "    </tr>\n",
       "    <tr>\n",
       "      <th>1</th>\n",
       "      <td>product_cart</td>\n",
       "      <td>62462</td>\n",
       "      <td>0</td>\n",
       "      <td>62462</td>\n",
       "    </tr>\n",
       "    <tr>\n",
       "      <th>2</th>\n",
       "      <td>product_page</td>\n",
       "      <td>125563</td>\n",
       "      <td>0</td>\n",
       "      <td>125563</td>\n",
       "    </tr>\n",
       "    <tr>\n",
       "      <th>3</th>\n",
       "      <td>purchase</td>\n",
       "      <td>62740</td>\n",
       "      <td>62740</td>\n",
       "      <td>0</td>\n",
       "    </tr>\n",
       "  </tbody>\n",
       "</table>\n",
       "</div>"
      ],
      "text/plain": [
       "     event_name  total_count  details_count  details_gaps\n",
       "0         login       189552              0        189552\n",
       "1  product_cart        62462              0         62462\n",
       "2  product_page       125563              0        125563\n",
       "3      purchase        62740          62740             0"
      ]
     },
     "execution_count": 5,
     "metadata": {},
     "output_type": "execute_result"
    }
   ],
   "source": [
    "# checking what data is empty\n",
    "details = (\n",
    "    events.groupby('event_name', as_index=False)\n",
    "    .agg({'user_id': 'count', 'details': 'count'})\n",
    "    .rename(columns={'user_id': 'total_count', 'details': 'details_count'})\n",
    ")\n",
    "details['details_gaps'] = details['total_count'] - details['details_count']\n",
    "details"
   ]
  },
  {
   "cell_type": "markdown",
   "metadata": {},
   "source": [
    "**CONCLUSIONS:**\n",
    "* We have uploaded the data.\n",
    "* There are 440,317 events in the data.\n",
    "* The data is from December 7th to December 30th.\n",
    "* No duplicates.\n",
    "* In the details column, data is only for purchases.\n",
    "* No passes.\n",
    "* Formats are correct."
   ]
  },
  {
   "cell_type": "markdown",
   "metadata": {},
   "source": [
    "### Test participants data"
   ]
  },
  {
   "cell_type": "code",
   "execution_count": 6,
   "metadata": {},
   "outputs": [
    {
     "name": "stdout",
     "output_type": "stream",
     "text": [
      "<class 'pandas.core.frame.DataFrame'>\n",
      "RangeIndex: 18268 entries, 0 to 18267\n",
      "Data columns (total 3 columns):\n",
      " #   Column   Non-Null Count  Dtype \n",
      "---  ------   --------------  ----- \n",
      " 0   user_id  18268 non-null  object\n",
      " 1   group    18268 non-null  object\n",
      " 2   ab_test  18268 non-null  object\n",
      "dtypes: object(3)\n",
      "memory usage: 428.3+ KB\n",
      "\n",
      "Duplicates amount:  0\n",
      "\n"
     ]
    },
    {
     "data": {
      "text/html": [
       "<div>\n",
       "<style scoped>\n",
       "    .dataframe tbody tr th:only-of-type {\n",
       "        vertical-align: middle;\n",
       "    }\n",
       "\n",
       "    .dataframe tbody tr th {\n",
       "        vertical-align: top;\n",
       "    }\n",
       "\n",
       "    .dataframe thead th {\n",
       "        text-align: right;\n",
       "    }\n",
       "</style>\n",
       "<table border=\"1\" class=\"dataframe\">\n",
       "  <thead>\n",
       "    <tr style=\"text-align: right;\">\n",
       "      <th></th>\n",
       "      <th>user_id</th>\n",
       "      <th>group</th>\n",
       "      <th>ab_test</th>\n",
       "    </tr>\n",
       "  </thead>\n",
       "  <tbody>\n",
       "    <tr>\n",
       "      <th>0</th>\n",
       "      <td>D1ABA3E2887B6A73</td>\n",
       "      <td>A</td>\n",
       "      <td>recommender_system_test</td>\n",
       "    </tr>\n",
       "    <tr>\n",
       "      <th>1</th>\n",
       "      <td>A7A3664BD6242119</td>\n",
       "      <td>A</td>\n",
       "      <td>recommender_system_test</td>\n",
       "    </tr>\n",
       "    <tr>\n",
       "      <th>2</th>\n",
       "      <td>DABC14FDDFADD29E</td>\n",
       "      <td>A</td>\n",
       "      <td>recommender_system_test</td>\n",
       "    </tr>\n",
       "    <tr>\n",
       "      <th>3</th>\n",
       "      <td>04988C5DF189632E</td>\n",
       "      <td>A</td>\n",
       "      <td>recommender_system_test</td>\n",
       "    </tr>\n",
       "    <tr>\n",
       "      <th>4</th>\n",
       "      <td>482F14783456D21B</td>\n",
       "      <td>B</td>\n",
       "      <td>recommender_system_test</td>\n",
       "    </tr>\n",
       "  </tbody>\n",
       "</table>\n",
       "</div>"
      ],
      "text/plain": [
       "            user_id group                  ab_test\n",
       "0  D1ABA3E2887B6A73     A  recommender_system_test\n",
       "1  A7A3664BD6242119     A  recommender_system_test\n",
       "2  DABC14FDDFADD29E     A  recommender_system_test\n",
       "3  04988C5DF189632E     A  recommender_system_test\n",
       "4  482F14783456D21B     B  recommender_system_test"
      ]
     },
     "execution_count": 6,
     "metadata": {},
     "output_type": "execute_result"
    }
   ],
   "source": [
    "# loading data\n",
    "participants = pd.read_csv('/datasets/final_ab_participants.csv')\n",
    "\n",
    "participants.info()\n",
    "print()\n",
    "print('Duplicates amount: ', participants.duplicated().sum())\n",
    "print()\n",
    "participants.head()"
   ]
  },
  {
   "cell_type": "markdown",
   "metadata": {},
   "source": [
    "**CONCLUSIONS:**\n",
    "* We have uploaded data.\n",
    "* No duplicates.\n",
    "* Formats are correct."
   ]
  },
  {
   "cell_type": "markdown",
   "metadata": {},
   "source": [
    "## Verification of compliance with the requirements of the Terms of reference"
   ]
  },
  {
   "cell_type": "code",
   "execution_count": 7,
   "metadata": {},
   "outputs": [
    {
     "data": {
      "text/html": [
       "<div>\n",
       "<style scoped>\n",
       "    .dataframe tbody tr th:only-of-type {\n",
       "        vertical-align: middle;\n",
       "    }\n",
       "\n",
       "    .dataframe tbody tr th {\n",
       "        vertical-align: top;\n",
       "    }\n",
       "\n",
       "    .dataframe thead th {\n",
       "        text-align: right;\n",
       "    }\n",
       "</style>\n",
       "<table border=\"1\" class=\"dataframe\">\n",
       "  <thead>\n",
       "    <tr style=\"text-align: right;\">\n",
       "      <th></th>\n",
       "      <th>user_id</th>\n",
       "      <th>group</th>\n",
       "      <th>ab_test</th>\n",
       "      <th>first_date</th>\n",
       "      <th>region</th>\n",
       "      <th>device</th>\n",
       "    </tr>\n",
       "  </thead>\n",
       "  <tbody>\n",
       "    <tr>\n",
       "      <th>0</th>\n",
       "      <td>D1ABA3E2887B6A73</td>\n",
       "      <td>A</td>\n",
       "      <td>recommender_system_test</td>\n",
       "      <td>2020-12-07</td>\n",
       "      <td>EU</td>\n",
       "      <td>PC</td>\n",
       "    </tr>\n",
       "    <tr>\n",
       "      <th>1</th>\n",
       "      <td>A7A3664BD6242119</td>\n",
       "      <td>A</td>\n",
       "      <td>recommender_system_test</td>\n",
       "      <td>2020-12-20</td>\n",
       "      <td>EU</td>\n",
       "      <td>iPhone</td>\n",
       "    </tr>\n",
       "    <tr>\n",
       "      <th>2</th>\n",
       "      <td>DABC14FDDFADD29E</td>\n",
       "      <td>A</td>\n",
       "      <td>recommender_system_test</td>\n",
       "      <td>2020-12-08</td>\n",
       "      <td>EU</td>\n",
       "      <td>Mac</td>\n",
       "    </tr>\n",
       "    <tr>\n",
       "      <th>3</th>\n",
       "      <td>04988C5DF189632E</td>\n",
       "      <td>A</td>\n",
       "      <td>recommender_system_test</td>\n",
       "      <td>2020-12-14</td>\n",
       "      <td>EU</td>\n",
       "      <td>iPhone</td>\n",
       "    </tr>\n",
       "    <tr>\n",
       "      <th>4</th>\n",
       "      <td>482F14783456D21B</td>\n",
       "      <td>B</td>\n",
       "      <td>recommender_system_test</td>\n",
       "      <td>2020-12-14</td>\n",
       "      <td>EU</td>\n",
       "      <td>PC</td>\n",
       "    </tr>\n",
       "  </tbody>\n",
       "</table>\n",
       "</div>"
      ],
      "text/plain": [
       "            user_id group                  ab_test first_date region  device\n",
       "0  D1ABA3E2887B6A73     A  recommender_system_test 2020-12-07     EU      PC\n",
       "1  A7A3664BD6242119     A  recommender_system_test 2020-12-20     EU  iPhone\n",
       "2  DABC14FDDFADD29E     A  recommender_system_test 2020-12-08     EU     Mac\n",
       "3  04988C5DF189632E     A  recommender_system_test 2020-12-14     EU  iPhone\n",
       "4  482F14783456D21B     B  recommender_system_test 2020-12-14     EU      PC"
      ]
     },
     "execution_count": 7,
     "metadata": {},
     "output_type": "execute_result"
    }
   ],
   "source": [
    "# creating the dataframe with the participants of the target test\n",
    "rst_participants = participants.query('ab_test == \"recommender_system_test\"')\n",
    "\n",
    "# adding data from the dataframe of users\n",
    "rst_participants = rst_participants.merge(users, how='left', on='user_id')\n",
    "\n",
    "rst_participants.head()"
   ]
  },
  {
   "cell_type": "markdown",
   "metadata": {},
   "source": [
    "### Checking that 15% of new users from EU were selected for the test"
   ]
  },
  {
   "cell_type": "code",
   "execution_count": 8,
   "metadata": {},
   "outputs": [
    {
     "data": {
      "text/html": [
       "<div>\n",
       "<style scoped>\n",
       "    .dataframe tbody tr th:only-of-type {\n",
       "        vertical-align: middle;\n",
       "    }\n",
       "\n",
       "    .dataframe tbody tr th {\n",
       "        vertical-align: top;\n",
       "    }\n",
       "\n",
       "    .dataframe thead th {\n",
       "        text-align: right;\n",
       "    }\n",
       "</style>\n",
       "<table border=\"1\" class=\"dataframe\">\n",
       "  <thead>\n",
       "    <tr style=\"text-align: right;\">\n",
       "      <th></th>\n",
       "      <th>user_id</th>\n",
       "    </tr>\n",
       "    <tr>\n",
       "      <th>region</th>\n",
       "      <th></th>\n",
       "    </tr>\n",
       "  </thead>\n",
       "  <tbody>\n",
       "    <tr>\n",
       "      <th>APAC</th>\n",
       "      <td>72</td>\n",
       "    </tr>\n",
       "    <tr>\n",
       "      <th>CIS</th>\n",
       "      <td>55</td>\n",
       "    </tr>\n",
       "    <tr>\n",
       "      <th>EU</th>\n",
       "      <td>6351</td>\n",
       "    </tr>\n",
       "    <tr>\n",
       "      <th>N.America</th>\n",
       "      <td>223</td>\n",
       "    </tr>\n",
       "  </tbody>\n",
       "</table>\n",
       "</div>"
      ],
      "text/plain": [
       "           user_id\n",
       "region            \n",
       "APAC            72\n",
       "CIS             55\n",
       "EU            6351\n",
       "N.America      223"
      ]
     },
     "execution_count": 8,
     "metadata": {},
     "output_type": "execute_result"
    }
   ],
   "source": [
    "# checking that there are only users from EU in the test\n",
    "rst_participants.groupby('region').agg({'user_id':'count'})"
   ]
  },
  {
   "cell_type": "markdown",
   "metadata": {},
   "source": [
    "There are users not from EU in the test. Let's leave only users from the EU in the dataset and check the requirement that they should be 15% of the total."
   ]
  },
  {
   "cell_type": "code",
   "execution_count": 9,
   "metadata": {},
   "outputs": [],
   "source": [
    "# removing users not from EU\n",
    "rst_participants = rst_participants.query('region == \"EU\"')"
   ]
  },
  {
   "cell_type": "code",
   "execution_count": 10,
   "metadata": {},
   "outputs": [
    {
     "name": "stdout",
     "output_type": "stream",
     "text": [
      "Total number of test participants: 6351\n",
      "Total number of users from EU: 42340\n",
      "Percentage of users selected to the test: 15.0%\n"
     ]
    }
   ],
   "source": [
    "# set the first and the last registration date\n",
    "start_dt = rst_participants['first_date'].min()\n",
    "end_dt = rst_participants['first_date'].max()\n",
    "\n",
    "# calculating the amount of participants\n",
    "print('Total number of test participants: {}'.format(len(rst_participants)))\n",
    "\n",
    "# calculating the total amount of new users from EU who were registrated in the test period\n",
    "print(\n",
    "    'Total number of users from EU: {}'\n",
    "    .format(len(users.query('(first_date >= @start_dt) & (first_date <= @end_dt) & (region == \"EU\")')))\n",
    ")\n",
    "\n",
    "# calculating the share of test participants\n",
    "print(\n",
    "    'Percentage of users selected to the test: {0:.1f}%'\n",
    "    .format(\n",
    "        len(rst_participants) / len(users.query('(first_date >= @start_dt) & (first_date <= @end_dt) & (region == \"EU\")')) * 100\n",
    "    )\n",
    ")"
   ]
  },
  {
   "cell_type": "markdown",
   "metadata": {},
   "source": [
    "**CONCLUSIONS:**\n",
    "* We have cleaned test data from users not from EU.\n",
    "* The share of users selected for the test is exactly 15%, as indicated in the TOR."
   ]
  },
  {
   "cell_type": "markdown",
   "metadata": {},
   "source": [
    "### Checking the amount of participants and their distribution by groups"
   ]
  },
  {
   "cell_type": "code",
   "execution_count": 11,
   "metadata": {},
   "outputs": [
    {
     "name": "stdout",
     "output_type": "stream",
     "text": [
      "Total number of test participants: 6351 people\n",
      "\n",
      "Distribution by groups:\n"
     ]
    },
    {
     "data": {
      "text/html": [
       "<div>\n",
       "<style scoped>\n",
       "    .dataframe tbody tr th:only-of-type {\n",
       "        vertical-align: middle;\n",
       "    }\n",
       "\n",
       "    .dataframe tbody tr th {\n",
       "        vertical-align: top;\n",
       "    }\n",
       "\n",
       "    .dataframe thead th {\n",
       "        text-align: right;\n",
       "    }\n",
       "</style>\n",
       "<table border=\"1\" class=\"dataframe\">\n",
       "  <thead>\n",
       "    <tr style=\"text-align: right;\">\n",
       "      <th></th>\n",
       "      <th>group</th>\n",
       "      <th>user_id</th>\n",
       "    </tr>\n",
       "  </thead>\n",
       "  <tbody>\n",
       "    <tr>\n",
       "      <th>0</th>\n",
       "      <td>A</td>\n",
       "      <td>3634</td>\n",
       "    </tr>\n",
       "    <tr>\n",
       "      <th>1</th>\n",
       "      <td>B</td>\n",
       "      <td>2717</td>\n",
       "    </tr>\n",
       "  </tbody>\n",
       "</table>\n",
       "</div>"
      ],
      "text/plain": [
       "  group  user_id\n",
       "0     A     3634\n",
       "1     B     2717"
      ]
     },
     "execution_count": 11,
     "metadata": {},
     "output_type": "execute_result"
    }
   ],
   "source": [
    "print('Total number of test participants: {} people'.format(len(rst_participants)))\n",
    "print()\n",
    "print('Distribution by groups:')\n",
    "rst_participants.groupby('group', as_index=False).agg({'user_id': 'count'})"
   ]
  },
  {
   "cell_type": "markdown",
   "metadata": {},
   "source": [
    "Checking that there are no participants who were selected to both groups"
   ]
  },
  {
   "cell_type": "code",
   "execution_count": 12,
   "metadata": {},
   "outputs": [
    {
     "data": {
      "text/html": [
       "<div>\n",
       "<style scoped>\n",
       "    .dataframe tbody tr th:only-of-type {\n",
       "        vertical-align: middle;\n",
       "    }\n",
       "\n",
       "    .dataframe tbody tr th {\n",
       "        vertical-align: top;\n",
       "    }\n",
       "\n",
       "    .dataframe thead th {\n",
       "        text-align: right;\n",
       "    }\n",
       "</style>\n",
       "<table border=\"1\" class=\"dataframe\">\n",
       "  <thead>\n",
       "    <tr style=\"text-align: right;\">\n",
       "      <th></th>\n",
       "      <th>group</th>\n",
       "      <th>user_id</th>\n",
       "    </tr>\n",
       "  </thead>\n",
       "  <tbody>\n",
       "    <tr>\n",
       "      <th>0</th>\n",
       "      <td>1</td>\n",
       "      <td>6351</td>\n",
       "    </tr>\n",
       "  </tbody>\n",
       "</table>\n",
       "</div>"
      ],
      "text/plain": [
       "   group  user_id\n",
       "0      1     6351"
      ]
     },
     "execution_count": 12,
     "metadata": {},
     "output_type": "execute_result"
    }
   ],
   "source": [
    "# checking that there are no participants who were selected to both groups\n",
    "(\n",
    "    rst_participants.groupby('user_id', as_index=False)\n",
    "    .agg({'group': 'nunique'})\n",
    "    .groupby(by='group', as_index=False)\n",
    "    .agg({'user_id': 'count'})\n",
    ")"
   ]
  },
  {
   "cell_type": "markdown",
   "metadata": {},
   "source": [
    "**CONCLUSION:**\n",
    "* 6351 people are in the test.\n",
    "* Group B has significantly fewer users than group A.\n",
    "* There are no users in both groups."
   ]
  },
  {
   "cell_type": "markdown",
   "metadata": {},
   "source": [
    "### Checking the dates"
   ]
  },
  {
   "cell_type": "code",
   "execution_count": 13,
   "metadata": {},
   "outputs": [
    {
     "data": {
      "image/png": "[encoded data removed]",
      "text/plain": [
       "<Figure size 720x288 with 1 Axes>"
      ]
     },
     "metadata": {
      "needs_background": "light"
     },
     "output_type": "display_data"
    }
   ],
   "source": [
    "# building the distribution by registration dates\n",
    "rst_participants.groupby('first_date').agg({'user_id': 'count'})\n",
    "\n",
    "plt.figure(figsize=(10,4))\n",
    "ax = sns.histplot(data=rst_participants, bins=15, x='first_date', hue='group', multiple='stack')\n",
    "ax.set_title('Distribution of new test participants by dates')\n",
    "ax.set_xlabel('Registrsation dates')\n",
    "ax.set_ylabel('Quantity')\n",
    "plt.xticks(rotation=60)\n",
    "plt.show()"
   ]
  },
  {
   "cell_type": "markdown",
   "metadata": {},
   "source": [
    "**CONCLUSIONS:**\n",
    "* Test participants were registered from December 7 to December 21, as it is written in the TOR.\n",
    "* In general, the ratio between groups A and B is close on each date."
   ]
  },
  {
   "cell_type": "markdown",
   "metadata": {},
   "source": [
    "### Checking the dates of events and the date the test was stopped"
   ]
  },
  {
   "cell_type": "code",
   "execution_count": 14,
   "metadata": {},
   "outputs": [
    {
     "data": {
      "image/png": "[encoded data removed]",
      "text/plain": [
       "<Figure size 720x288 with 1 Axes>"
      ]
     },
     "metadata": {
      "needs_background": "light"
     },
     "output_type": "display_data"
    }
   ],
   "source": [
    "plt.figure(figsize=(10,4))\n",
    "ax = sns.histplot(data=events, x='date', bins= 24, hue='event_name', multiple='stack')\n",
    "ax.set_title('Distribution of events by dates')\n",
    "ax.set_xlabel('Event date')\n",
    "ax.set_ylabel('Quantity')\n",
    "plt.xticks(rotation=60)\n",
    "plt.show()"
   ]
  },
  {
   "cell_type": "markdown",
   "metadata": {},
   "source": [
    "**CONCLUSIONS:**\n",
    "* According to the TOR, there should be data until January 4, but we only have data until December 29. There are also very few events from December 30th. This means that users registered from December 17 to December 21 did not have time to live 14 days. We need to check how much this can affect the results of the study."
   ]
  },
  {
   "cell_type": "markdown",
   "metadata": {},
   "source": [
    "Let's check how many days it usually takes to make an event for the first time:\n",
    "* filter out users who came from December 7 to December 16 (i.e. lived all 14 days),\n",
    "* calculate for each how many days have passed from the moment of registration to the first event for each type of events,\n",
    "* display aggregated data."
   ]
  },
  {
   "cell_type": "code",
   "execution_count": 15,
   "metadata": {},
   "outputs": [],
   "source": [
    "# collecting the data about the events of users who came from December 7 to December 16\n",
    "users_events = (\n",
    "    users.query('(first_date >= \"2020-12-07\") & (first_date <= \"2020-12-16\")')\n",
    "    .merge(events[['user_id', 'event_name', 'date']], on='user_id', how='left')\n",
    ")"
   ]
  },
  {
   "cell_type": "code",
   "execution_count": 16,
   "metadata": {},
   "outputs": [
    {
     "data": {
      "image/png": "[encoded data removed]",
      "text/plain": [
       "<Figure size 864x288 with 2 Axes>"
      ]
     },
     "metadata": {
      "needs_background": "light"
     },
     "output_type": "display_data"
    },
    {
     "data": {
      "image/png": "[encoded data removed]",
      "text/plain": [
       "<Figure size 864x288 with 2 Axes>"
      ]
     },
     "metadata": {
      "needs_background": "light"
     },
     "output_type": "display_data"
    },
    {
     "data": {
      "image/png": "[encoded data removed]",
      "text/plain": [
       "<Figure size 864x288 with 2 Axes>"
      ]
     },
     "metadata": {
      "needs_background": "light"
     },
     "output_type": "display_data"
    },
    {
     "data": {
      "image/png": "[encoded data removed]",
      "text/plain": [
       "<Figure size 864x288 with 2 Axes>"
      ]
     },
     "metadata": {
      "needs_background": "light"
     },
     "output_type": "display_data"
    }
   ],
   "source": [
    "# collecting the information about first events\n",
    "users_events = (\n",
    "    users_events.groupby(by=['user_id', 'first_date', 'event_name'], as_index=False)\n",
    "    .agg({'date': 'min'})\n",
    ")\n",
    "\n",
    "# adding the difference in days between the event day and the first day\n",
    "users_events['days_after_reg'] = users_events['date'] - users_events['first_date']\n",
    "users_events['days_after_reg'] = users_events['days_after_reg'].map(lambda x: x.days).astype('Int8')\n",
    "\n",
    "# building graphs\n",
    "for name in users_events['event_name'].unique():\n",
    "    report = (\n",
    "        users_events.query('event_name == @name')\n",
    "        .groupby('days_after_reg', as_index=False)\n",
    "        .agg({'user_id': 'nunique'})\n",
    "    )\n",
    "    fig, (ax1, ax2) = plt.subplots(1, 2, figsize=(12, 4))\n",
    "    title = 'The first day for the event type: ' + name\n",
    "    report['share'] = report['user_id'] / report['user_id'].sum()\n",
    "    sns.barplot(data=report, x='days_after_reg', y='user_id', ax=ax1)\n",
    "    ax1.set_title(title)\n",
    "    ax1.set_ylabel('Users amount')\n",
    "    ax1.set_xlabel('Days after the registration')\n",
    "    sns.barplot(data=report, x='days_after_reg', y='share',ax=ax2)\n",
    "    ax2.set_title(title)\n",
    "    ax2.set_ylabel('Users share')\n",
    "    ax2.set_xlabel('Days after the registration')\n",
    "    ax2.set_ylim(0, 0.01)\n",
    "    plt.tight_layout()\n",
    "    plt.show()"
   ]
  },
  {
   "cell_type": "markdown",
   "metadata": {},
   "source": [
    "**CONCLUSION:**\n",
    "* Almost all events for the first time take place on the day of registration or, at the latest, 1-2 days after. Therefore, we can take data of users registered after December 16 - an incompleted period of 14 days will have almost no effect."
   ]
  },
  {
   "cell_type": "markdown",
   "metadata": {},
   "source": [
    "### Checking if there are intersections with other tests"
   ]
  },
  {
   "cell_type": "code",
   "execution_count": 17,
   "metadata": {},
   "outputs": [
    {
     "data": {
      "text/html": [
       "<div>\n",
       "<style scoped>\n",
       "    .dataframe tbody tr th:only-of-type {\n",
       "        vertical-align: middle;\n",
       "    }\n",
       "\n",
       "    .dataframe tbody tr th {\n",
       "        vertical-align: top;\n",
       "    }\n",
       "\n",
       "    .dataframe thead th {\n",
       "        text-align: right;\n",
       "    }\n",
       "</style>\n",
       "<table border=\"1\" class=\"dataframe\">\n",
       "  <thead>\n",
       "    <tr style=\"text-align: right;\">\n",
       "      <th></th>\n",
       "      <th>ab_test_y</th>\n",
       "      <th>user_id</th>\n",
       "    </tr>\n",
       "  </thead>\n",
       "  <tbody>\n",
       "    <tr>\n",
       "      <th>0</th>\n",
       "      <td>interface_eu_test</td>\n",
       "      <td>1602</td>\n",
       "    </tr>\n",
       "  </tbody>\n",
       "</table>\n",
       "</div>"
      ],
      "text/plain": [
       "           ab_test_y  user_id\n",
       "0  interface_eu_test     1602"
      ]
     },
     "execution_count": 17,
     "metadata": {},
     "output_type": "execute_result"
    }
   ],
   "source": [
    "# filtering those test participants who are in other tests, looking at these tests\n",
    "(\n",
    "    rst_participants[rst_participants['user_id'].isin(participants.query('ab_test != \"recommender_system_test\"')['user_id'])]\n",
    "    .merge(participants.query('ab_test != \"recommender_system_test\"')[['user_id', 'ab_test', 'group']], on='user_id', how='left')\n",
    "    .groupby('ab_test_y', as_index=False)\n",
    "    .agg({'user_id': 'count'})\n",
    ")"
   ]
  },
  {
   "cell_type": "markdown",
   "metadata": {},
   "source": [
    "There are intersections with the test named interface_eu_test, 1602 people. Let's check the distribution by groups"
   ]
  },
  {
   "cell_type": "code",
   "execution_count": 18,
   "metadata": {},
   "outputs": [
    {
     "data": {
      "text/html": [
       "<div>\n",
       "<style scoped>\n",
       "    .dataframe tbody tr th:only-of-type {\n",
       "        vertical-align: middle;\n",
       "    }\n",
       "\n",
       "    .dataframe tbody tr th {\n",
       "        vertical-align: top;\n",
       "    }\n",
       "\n",
       "    .dataframe thead th {\n",
       "        text-align: right;\n",
       "    }\n",
       "</style>\n",
       "<table border=\"1\" class=\"dataframe\">\n",
       "  <thead>\n",
       "    <tr style=\"text-align: right;\">\n",
       "      <th>group_y</th>\n",
       "      <th>A</th>\n",
       "      <th>B</th>\n",
       "      <th>All</th>\n",
       "      <th>share_A</th>\n",
       "      <th>share_B</th>\n",
       "    </tr>\n",
       "    <tr>\n",
       "      <th>group_x</th>\n",
       "      <th></th>\n",
       "      <th></th>\n",
       "      <th></th>\n",
       "      <th></th>\n",
       "      <th></th>\n",
       "    </tr>\n",
       "  </thead>\n",
       "  <tbody>\n",
       "    <tr>\n",
       "      <th>A</th>\n",
       "      <td>482</td>\n",
       "      <td>439</td>\n",
       "      <td>3634</td>\n",
       "      <td>0.132636</td>\n",
       "      <td>0.120804</td>\n",
       "    </tr>\n",
       "    <tr>\n",
       "      <th>B</th>\n",
       "      <td>337</td>\n",
       "      <td>344</td>\n",
       "      <td>2717</td>\n",
       "      <td>0.124034</td>\n",
       "      <td>0.126610</td>\n",
       "    </tr>\n",
       "  </tbody>\n",
       "</table>\n",
       "</div>"
      ],
      "text/plain": [
       "group_y    A    B   All   share_A   share_B\n",
       "group_x                                    \n",
       "A        482  439  3634  0.132636  0.120804\n",
       "B        337  344  2717  0.124034  0.126610"
      ]
     },
     "execution_count": 18,
     "metadata": {},
     "output_type": "execute_result"
    }
   ],
   "source": [
    "# checking the distribution by groups between overlapping participants of two tests\n",
    "vs_interface = (\n",
    "    rst_participants[rst_participants['user_id'].isin(participants.query('ab_test != \"recommender_system_test\"')['user_id'])]\n",
    "    .merge(participants.query('ab_test != \"recommender_system_test\"')[['user_id', 'ab_test', 'group']], on='user_id', how='left')\n",
    "    .pivot_table(index='group_x', columns='group_y', values='user_id', aggfunc='count')\n",
    ")\n",
    "\n",
    "# adding all participants\n",
    "vs_interface['All'] = rst_participants.groupby('group').agg({'user_id': 'count'})\n",
    "\n",
    "# calculationg shares\n",
    "vs_interface['share_A'] = vs_interface['A'] / vs_interface['All']\n",
    "vs_interface['share_B'] = vs_interface['B'] / vs_interface['All']\n",
    "vs_interface"
   ]
  },
  {
   "cell_type": "markdown",
   "metadata": {},
   "source": [
    "**CONCLUSION:**\n",
    "* The shares of groups A and B in interface_eu_test are distributed almost evenly among the groups of recommender_system_test. There is no reason to believe that the intersection with interface_eu_test will greatly affect the results of recommender_system_test."
   ]
  },
  {
   "cell_type": "markdown",
   "metadata": {},
   "source": [
    "### Checking whether there are any overlaps with marketing activities"
   ]
  },
  {
   "cell_type": "code",
   "execution_count": 19,
   "metadata": {},
   "outputs": [
    {
     "name": "stdout",
     "output_type": "stream",
     "text": [
      "<class 'pandas.core.frame.DataFrame'>\n",
      "Int64Index: 26286 entries, 0 to 26285\n",
      "Data columns (total 8 columns):\n",
      " #   Column      Non-Null Count  Dtype         \n",
      "---  ------      --------------  -----         \n",
      " 0   user_id     26286 non-null  object        \n",
      " 1   group       26286 non-null  object        \n",
      " 2   ab_test     26286 non-null  object        \n",
      " 3   first_date  26286 non-null  datetime64[ns]\n",
      " 4   region      26286 non-null  object        \n",
      " 5   device      26286 non-null  object        \n",
      " 6   event_name  23416 non-null  object        \n",
      " 7   date        23416 non-null  datetime64[ns]\n",
      "dtypes: datetime64[ns](2), object(6)\n",
      "memory usage: 1.8+ MB\n"
     ]
    },
    {
     "data": {
      "text/html": [
       "<div>\n",
       "<style scoped>\n",
       "    .dataframe tbody tr th:only-of-type {\n",
       "        vertical-align: middle;\n",
       "    }\n",
       "\n",
       "    .dataframe tbody tr th {\n",
       "        vertical-align: top;\n",
       "    }\n",
       "\n",
       "    .dataframe thead th {\n",
       "        text-align: right;\n",
       "    }\n",
       "</style>\n",
       "<table border=\"1\" class=\"dataframe\">\n",
       "  <thead>\n",
       "    <tr style=\"text-align: right;\">\n",
       "      <th></th>\n",
       "      <th>user_id</th>\n",
       "      <th>group</th>\n",
       "      <th>ab_test</th>\n",
       "      <th>first_date</th>\n",
       "      <th>region</th>\n",
       "      <th>device</th>\n",
       "      <th>event_name</th>\n",
       "      <th>date</th>\n",
       "    </tr>\n",
       "  </thead>\n",
       "  <tbody>\n",
       "    <tr>\n",
       "      <th>0</th>\n",
       "      <td>D1ABA3E2887B6A73</td>\n",
       "      <td>A</td>\n",
       "      <td>recommender_system_test</td>\n",
       "      <td>2020-12-07</td>\n",
       "      <td>EU</td>\n",
       "      <td>PC</td>\n",
       "      <td>purchase</td>\n",
       "      <td>2020-12-07</td>\n",
       "    </tr>\n",
       "    <tr>\n",
       "      <th>1</th>\n",
       "      <td>D1ABA3E2887B6A73</td>\n",
       "      <td>A</td>\n",
       "      <td>recommender_system_test</td>\n",
       "      <td>2020-12-07</td>\n",
       "      <td>EU</td>\n",
       "      <td>PC</td>\n",
       "      <td>purchase</td>\n",
       "      <td>2020-12-25</td>\n",
       "    </tr>\n",
       "    <tr>\n",
       "      <th>2</th>\n",
       "      <td>D1ABA3E2887B6A73</td>\n",
       "      <td>A</td>\n",
       "      <td>recommender_system_test</td>\n",
       "      <td>2020-12-07</td>\n",
       "      <td>EU</td>\n",
       "      <td>PC</td>\n",
       "      <td>product_cart</td>\n",
       "      <td>2020-12-07</td>\n",
       "    </tr>\n",
       "    <tr>\n",
       "      <th>3</th>\n",
       "      <td>D1ABA3E2887B6A73</td>\n",
       "      <td>A</td>\n",
       "      <td>recommender_system_test</td>\n",
       "      <td>2020-12-07</td>\n",
       "      <td>EU</td>\n",
       "      <td>PC</td>\n",
       "      <td>product_cart</td>\n",
       "      <td>2020-12-25</td>\n",
       "    </tr>\n",
       "    <tr>\n",
       "      <th>4</th>\n",
       "      <td>D1ABA3E2887B6A73</td>\n",
       "      <td>A</td>\n",
       "      <td>recommender_system_test</td>\n",
       "      <td>2020-12-07</td>\n",
       "      <td>EU</td>\n",
       "      <td>PC</td>\n",
       "      <td>product_page</td>\n",
       "      <td>2020-12-07</td>\n",
       "    </tr>\n",
       "  </tbody>\n",
       "</table>\n",
       "</div>"
      ],
      "text/plain": [
       "            user_id group                  ab_test first_date region device  \\\n",
       "0  D1ABA3E2887B6A73     A  recommender_system_test 2020-12-07     EU     PC   \n",
       "1  D1ABA3E2887B6A73     A  recommender_system_test 2020-12-07     EU     PC   \n",
       "2  D1ABA3E2887B6A73     A  recommender_system_test 2020-12-07     EU     PC   \n",
       "3  D1ABA3E2887B6A73     A  recommender_system_test 2020-12-07     EU     PC   \n",
       "4  D1ABA3E2887B6A73     A  recommender_system_test 2020-12-07     EU     PC   \n",
       "\n",
       "     event_name       date  \n",
       "0      purchase 2020-12-07  \n",
       "1      purchase 2020-12-25  \n",
       "2  product_cart 2020-12-07  \n",
       "3  product_cart 2020-12-25  \n",
       "4  product_page 2020-12-07  "
      ]
     },
     "execution_count": 19,
     "metadata": {},
     "output_type": "execute_result"
    }
   ],
   "source": [
    "# for verification, collecting a dataframe of events of test participants\n",
    "rst_participants_events = rst_participants.merge(\n",
    "    events.query('date < \"2020-12-30\"')[['user_id', 'event_name', 'date']], on='user_id', how='left'\n",
    ")\n",
    "\n",
    "rst_participants_events.info()\n",
    "rst_participants_events.head()"
   ]
  },
  {
   "cell_type": "code",
   "execution_count": 20,
   "metadata": {},
   "outputs": [
    {
     "data": {
      "text/html": [
       "<div>\n",
       "<style scoped>\n",
       "    .dataframe tbody tr th:only-of-type {\n",
       "        vertical-align: middle;\n",
       "    }\n",
       "\n",
       "    .dataframe tbody tr th {\n",
       "        vertical-align: top;\n",
       "    }\n",
       "\n",
       "    .dataframe thead th {\n",
       "        text-align: right;\n",
       "    }\n",
       "</style>\n",
       "<table border=\"1\" class=\"dataframe\">\n",
       "  <thead>\n",
       "    <tr style=\"text-align: right;\">\n",
       "      <th></th>\n",
       "      <th>name</th>\n",
       "      <th>regions</th>\n",
       "      <th>start_dt</th>\n",
       "      <th>finish_dt</th>\n",
       "      <th>start_before_end_during</th>\n",
       "      <th>start_during_end_during</th>\n",
       "      <th>start_during_end_after</th>\n",
       "      <th>start_before_end_after</th>\n",
       "      <th>cross</th>\n",
       "    </tr>\n",
       "  </thead>\n",
       "  <tbody>\n",
       "    <tr>\n",
       "      <th>0</th>\n",
       "      <td>Christmas&amp;New Year Promo</td>\n",
       "      <td>EU, N.America</td>\n",
       "      <td>2020-12-25</td>\n",
       "      <td>2021-01-03</td>\n",
       "      <td>False</td>\n",
       "      <td>False</td>\n",
       "      <td>True</td>\n",
       "      <td>False</td>\n",
       "      <td>True</td>\n",
       "    </tr>\n",
       "  </tbody>\n",
       "</table>\n",
       "</div>"
      ],
      "text/plain": [
       "                       name        regions   start_dt  finish_dt  \\\n",
       "0  Christmas&New Year Promo  EU, N.America 2020-12-25 2021-01-03   \n",
       "\n",
       "   start_before_end_during  start_during_end_during  start_during_end_after  \\\n",
       "0                    False                    False                    True   \n",
       "\n",
       "   start_before_end_after  cross  \n",
       "0                   False   True  "
      ]
     },
     "execution_count": 20,
     "metadata": {},
     "output_type": "execute_result"
    }
   ],
   "source": [
    "# setting the start and the end date for checking\n",
    "start_dt = rst_participants_events['date'].min()\n",
    "end_dt = rst_participants_events['date'].max()\n",
    "\n",
    "#\n",
    "projects['start_before_end_during'] = (projects['start_dt'] < start_dt) &\\\n",
    "    (projects['finish_dt'] >= start_dt) & (projects['finish_dt'] <= end_dt)\n",
    "projects['start_during_end_during'] = (start_dt <= projects['start_dt']) & (projects['start_dt'] <= end_dt) &\\\n",
    "    (projects['finish_dt'] >= start_dt) & (projects['finish_dt'] <= end_dt)\n",
    "projects['start_during_end_after'] = (start_dt <= projects['start_dt']) & (projects['start_dt'] <= end_dt) &\\\n",
    "    (projects['finish_dt'] > end_dt)\n",
    "projects['start_before_end_after'] = (projects['start_dt'] < start_dt) & (projects['finish_dt'] > end_dt)\n",
    "\n",
    "projects['cross'] = projects['start_before_end_during'] | projects['start_during_end_during'] |\\\n",
    "    projects['start_during_end_after'] | projects['start_before_end_after']\n",
    "\n",
    "projects.query('cross == True')\n"
   ]
  },
  {
   "cell_type": "markdown",
   "metadata": {},
   "source": [
    "There is an intersection with the campaign Christmas&New Year Promo. To check how much the campaign could have affected, let's check the distribution of test groups on dates without intersection and with intersection by the number of events."
   ]
  },
  {
   "cell_type": "code",
   "execution_count": 21,
   "metadata": {},
   "outputs": [
    {
     "data": {
      "text/html": [
       "<div>\n",
       "<style scoped>\n",
       "    .dataframe tbody tr th:only-of-type {\n",
       "        vertical-align: middle;\n",
       "    }\n",
       "\n",
       "    .dataframe tbody tr th {\n",
       "        vertical-align: top;\n",
       "    }\n",
       "\n",
       "    .dataframe thead th {\n",
       "        text-align: right;\n",
       "    }\n",
       "</style>\n",
       "<table border=\"1\" class=\"dataframe\">\n",
       "  <thead>\n",
       "    <tr style=\"text-align: right;\">\n",
       "      <th>group</th>\n",
       "      <th>event_name</th>\n",
       "      <th>A</th>\n",
       "      <th>B</th>\n",
       "      <th>status</th>\n",
       "      <th>share_B</th>\n",
       "    </tr>\n",
       "  </thead>\n",
       "  <tbody>\n",
       "    <tr>\n",
       "      <th>0</th>\n",
       "      <td>login</td>\n",
       "      <td>6960</td>\n",
       "      <td>2213</td>\n",
       "      <td>before</td>\n",
       "      <td>0.241251</td>\n",
       "    </tr>\n",
       "    <tr>\n",
       "      <th>1</th>\n",
       "      <td>product_cart</td>\n",
       "      <td>2087</td>\n",
       "      <td>604</td>\n",
       "      <td>before</td>\n",
       "      <td>0.224452</td>\n",
       "    </tr>\n",
       "    <tr>\n",
       "      <th>2</th>\n",
       "      <td>product_page</td>\n",
       "      <td>4460</td>\n",
       "      <td>1193</td>\n",
       "      <td>before</td>\n",
       "      <td>0.211038</td>\n",
       "    </tr>\n",
       "    <tr>\n",
       "      <th>3</th>\n",
       "      <td>purchase</td>\n",
       "      <td>2144</td>\n",
       "      <td>595</td>\n",
       "      <td>before</td>\n",
       "      <td>0.217233</td>\n",
       "    </tr>\n",
       "    <tr>\n",
       "      <th>0</th>\n",
       "      <td>login</td>\n",
       "      <td>1164</td>\n",
       "      <td>256</td>\n",
       "      <td>after</td>\n",
       "      <td>0.180282</td>\n",
       "    </tr>\n",
       "    <tr>\n",
       "      <th>1</th>\n",
       "      <td>product_cart</td>\n",
       "      <td>335</td>\n",
       "      <td>48</td>\n",
       "      <td>after</td>\n",
       "      <td>0.125326</td>\n",
       "    </tr>\n",
       "    <tr>\n",
       "      <th>2</th>\n",
       "      <td>product_page</td>\n",
       "      <td>767</td>\n",
       "      <td>133</td>\n",
       "      <td>after</td>\n",
       "      <td>0.147778</td>\n",
       "    </tr>\n",
       "    <tr>\n",
       "      <th>3</th>\n",
       "      <td>purchase</td>\n",
       "      <td>392</td>\n",
       "      <td>65</td>\n",
       "      <td>after</td>\n",
       "      <td>0.142232</td>\n",
       "    </tr>\n",
       "  </tbody>\n",
       "</table>\n",
       "</div>"
      ],
      "text/plain": [
       "group    event_name     A     B  status   share_B\n",
       "0             login  6960  2213  before  0.241251\n",
       "1      product_cart  2087   604  before  0.224452\n",
       "2      product_page  4460  1193  before  0.211038\n",
       "3          purchase  2144   595  before  0.217233\n",
       "0             login  1164   256   after  0.180282\n",
       "1      product_cart   335    48   after  0.125326\n",
       "2      product_page   767   133   after  0.147778\n",
       "3          purchase   392    65   after  0.142232"
      ]
     },
     "execution_count": 21,
     "metadata": {},
     "output_type": "execute_result"
    }
   ],
   "source": [
    "# calculating data before December 25\n",
    "vs_christmas = (\n",
    "    rst_participants_events.query('date < \"2020-12-25\"')\n",
    "    .pivot_table(index='event_name', columns='group', values='user_id', aggfunc='count')\n",
    "    .reset_index()\n",
    ")\n",
    "\n",
    "# adding status 'before'\n",
    "vs_christmas['status'] = 'before'\n",
    "\n",
    "# calculating the data after December 25\n",
    "vs_christmas_after = (\n",
    "    rst_participants_events.query('date >= \"2020-12-25\"')\n",
    "    .pivot_table(index='event_name', columns='group', values='user_id', aggfunc='count')\n",
    "    .reset_index()\n",
    ")\n",
    "\n",
    "# adding status 'after'\n",
    "vs_christmas_after['status'] = 'after'\n",
    "\n",
    "#  connecting dataframes\n",
    "vs_christmas = pd.concat([vs_christmas, vs_christmas_after], axis=0)\n",
    "\n",
    "# calculating the share\n",
    "vs_christmas['share_B'] = vs_christmas['B'] / (vs_christmas['A'] + vs_christmas['B'])\n",
    "\n",
    "vs_christmas"
   ]
  },
  {
   "cell_type": "markdown",
   "metadata": {},
   "source": [
    "**CONCLUSION:**\n",
    "* The share of events of Group B participants during the Christmas&New Year Promo campaign is significantly lower than before the campaign. However, intersection with the campaign will have almost no effect on the test results, because enrollment in the test was stopped after December 21th, and almost all users take their first action of each type on the day of registration or the next day. Thus, events after December 25th have almost no effect on conversion."
   ]
  },
  {
   "cell_type": "markdown",
   "metadata": {},
   "source": [
    "### Removing events from the dataframe with events that refer to more than 14 days after registration"
   ]
  },
  {
   "cell_type": "code",
   "execution_count": 22,
   "metadata": {},
   "outputs": [
    {
     "name": "stdout",
     "output_type": "stream",
     "text": [
      "<class 'pandas.core.frame.DataFrame'>\n",
      "Int64Index: 25490 entries, 0 to 26285\n",
      "Data columns (total 9 columns):\n",
      " #   Column          Non-Null Count  Dtype         \n",
      "---  ------          --------------  -----         \n",
      " 0   user_id         25490 non-null  object        \n",
      " 1   group           25490 non-null  object        \n",
      " 2   ab_test         25490 non-null  object        \n",
      " 3   first_date      25490 non-null  datetime64[ns]\n",
      " 4   region          25490 non-null  object        \n",
      " 5   device          25490 non-null  object        \n",
      " 6   event_name      22620 non-null  object        \n",
      " 7   date            22620 non-null  datetime64[ns]\n",
      " 8   days_after_reg  22620 non-null  Int8          \n",
      "dtypes: Int8(1), datetime64[ns](2), object(6)\n",
      "memory usage: 1.8+ MB\n"
     ]
    },
    {
     "data": {
      "text/html": [
       "<div>\n",
       "<style scoped>\n",
       "    .dataframe tbody tr th:only-of-type {\n",
       "        vertical-align: middle;\n",
       "    }\n",
       "\n",
       "    .dataframe tbody tr th {\n",
       "        vertical-align: top;\n",
       "    }\n",
       "\n",
       "    .dataframe thead th {\n",
       "        text-align: right;\n",
       "    }\n",
       "</style>\n",
       "<table border=\"1\" class=\"dataframe\">\n",
       "  <thead>\n",
       "    <tr style=\"text-align: right;\">\n",
       "      <th></th>\n",
       "      <th>user_id</th>\n",
       "      <th>group</th>\n",
       "      <th>ab_test</th>\n",
       "      <th>first_date</th>\n",
       "      <th>region</th>\n",
       "      <th>device</th>\n",
       "      <th>event_name</th>\n",
       "      <th>date</th>\n",
       "      <th>days_after_reg</th>\n",
       "    </tr>\n",
       "  </thead>\n",
       "  <tbody>\n",
       "    <tr>\n",
       "      <th>0</th>\n",
       "      <td>D1ABA3E2887B6A73</td>\n",
       "      <td>A</td>\n",
       "      <td>recommender_system_test</td>\n",
       "      <td>2020-12-07</td>\n",
       "      <td>EU</td>\n",
       "      <td>PC</td>\n",
       "      <td>purchase</td>\n",
       "      <td>2020-12-07</td>\n",
       "      <td>0</td>\n",
       "    </tr>\n",
       "    <tr>\n",
       "      <th>2</th>\n",
       "      <td>D1ABA3E2887B6A73</td>\n",
       "      <td>A</td>\n",
       "      <td>recommender_system_test</td>\n",
       "      <td>2020-12-07</td>\n",
       "      <td>EU</td>\n",
       "      <td>PC</td>\n",
       "      <td>product_cart</td>\n",
       "      <td>2020-12-07</td>\n",
       "      <td>0</td>\n",
       "    </tr>\n",
       "    <tr>\n",
       "      <th>4</th>\n",
       "      <td>D1ABA3E2887B6A73</td>\n",
       "      <td>A</td>\n",
       "      <td>recommender_system_test</td>\n",
       "      <td>2020-12-07</td>\n",
       "      <td>EU</td>\n",
       "      <td>PC</td>\n",
       "      <td>product_page</td>\n",
       "      <td>2020-12-07</td>\n",
       "      <td>0</td>\n",
       "    </tr>\n",
       "    <tr>\n",
       "      <th>6</th>\n",
       "      <td>D1ABA3E2887B6A73</td>\n",
       "      <td>A</td>\n",
       "      <td>recommender_system_test</td>\n",
       "      <td>2020-12-07</td>\n",
       "      <td>EU</td>\n",
       "      <td>PC</td>\n",
       "      <td>login</td>\n",
       "      <td>2020-12-07</td>\n",
       "      <td>0</td>\n",
       "    </tr>\n",
       "    <tr>\n",
       "      <th>8</th>\n",
       "      <td>A7A3664BD6242119</td>\n",
       "      <td>A</td>\n",
       "      <td>recommender_system_test</td>\n",
       "      <td>2020-12-20</td>\n",
       "      <td>EU</td>\n",
       "      <td>iPhone</td>\n",
       "      <td>product_page</td>\n",
       "      <td>2020-12-20</td>\n",
       "      <td>0</td>\n",
       "    </tr>\n",
       "  </tbody>\n",
       "</table>\n",
       "</div>"
      ],
      "text/plain": [
       "            user_id group                  ab_test first_date region  device  \\\n",
       "0  D1ABA3E2887B6A73     A  recommender_system_test 2020-12-07     EU      PC   \n",
       "2  D1ABA3E2887B6A73     A  recommender_system_test 2020-12-07     EU      PC   \n",
       "4  D1ABA3E2887B6A73     A  recommender_system_test 2020-12-07     EU      PC   \n",
       "6  D1ABA3E2887B6A73     A  recommender_system_test 2020-12-07     EU      PC   \n",
       "8  A7A3664BD6242119     A  recommender_system_test 2020-12-20     EU  iPhone   \n",
       "\n",
       "     event_name       date  days_after_reg  \n",
       "0      purchase 2020-12-07               0  \n",
       "2  product_cart 2020-12-07               0  \n",
       "4  product_page 2020-12-07               0  \n",
       "6         login 2020-12-07               0  \n",
       "8  product_page 2020-12-20               0  "
      ]
     },
     "execution_count": 22,
     "metadata": {},
     "output_type": "execute_result"
    }
   ],
   "source": [
    "# making a column with the amount of days after registration\n",
    "rst_participants_events['days_after_reg'] = rst_participants_events['date'] - rst_participants_events['first_date']\n",
    "rst_participants_events['days_after_reg'] = rst_participants_events['days_after_reg'].map(lambda x: x.days).astype('Int8')\n",
    "\n",
    "# filtering data\n",
    "rst_participants_events = rst_participants_events.query('(days_after_reg.isna()) | (days_after_reg < 14)')\n",
    "\n",
    "rst_participants_events.info()\n",
    "rst_participants_events.head()"
   ]
  },
  {
   "cell_type": "markdown",
   "metadata": {},
   "source": [
    "**CONCLUSION:**\n",
    "* We removed from the dataframe events that occurred more than 14 days after registration. According to the terms of reference, we must only analyze events that occurred within 14 days after registration."
   ]
  },
  {
   "cell_type": "markdown",
   "metadata": {},
   "source": [
    "**CONCLUSIONS FOR THE SECTION:**\n",
    "* There are 6351 people in the test, while there are significantly more people in group A.\n",
    "* Test participants were registered from December 7 to December 21, as it is written in the TOR.\n",
    "* There is data on events only up to December 30. This means that users who registered after December 16 did not live 14 days. But this has almost no effect on the conversion, because the first action occurs on the day of registration or in 1-2 days after.\n",
    "* There are users that overlap with another A/B test, but the group shares of both tests are fairly evenly distributed, so we shouldn't expect much overlap influence.\n",
    "* There is an intersection with marketing activity after December 25, but this data is not key in terms of conversion."
   ]
  },
  {
   "cell_type": "markdown",
   "metadata": {},
   "source": [
    "## EDA"
   ]
  },
  {
   "cell_type": "markdown",
   "metadata": {},
   "source": [
    "### Looking at the distribution of the number of events in samples"
   ]
  },
  {
   "cell_type": "code",
   "execution_count": 23,
   "metadata": {},
   "outputs": [
    {
     "data": {
      "image/png": "[encoded data removed]",
      "text/plain": [
       "<Figure size 720x288 with 1 Axes>"
      ]
     },
     "metadata": {
      "needs_background": "light"
     },
     "output_type": "display_data"
    },
    {
     "data": {
      "image/png": "[encoded data removed]",
      "text/plain": [
       "<Figure size 720x288 with 1 Axes>"
      ]
     },
     "metadata": {
      "needs_background": "light"
     },
     "output_type": "display_data"
    }
   ],
   "source": [
    "# Building the distribution based on the number of events per client\n",
    "plt.figure(figsize=(10, 4))\n",
    "ax = sns.boxplot(\n",
    "    data=rst_participants_events.groupby(['user_id', 'group'], as_index=False).agg({'event_name': 'count'}),\n",
    "    y='group', x='event_name'\n",
    ")\n",
    "ax.set_title('Distribution of users by number of events')\n",
    "ax.set_xlabel('Events number')\n",
    "ax.set_ylabel('Group')\n",
    "plt.show()\n",
    "\n",
    "# Building the distribution based on the number of events per client only for clients with events\n",
    "plt.figure(figsize=(10, 4))\n",
    "ax = sns.boxplot(\n",
    "    data=rst_participants_events[~rst_participants_events['event_name'].isna()]\n",
    "    .groupby(['user_id', 'group'], as_index=False).agg({'event_name': 'count'}),\n",
    "    y='group', x='event_name'\n",
    ")\n",
    "ax.set_title('Distribution of users by number of events (only users with events)')\n",
    "ax.set_xlabel('Events number')\n",
    "ax.set_ylabel('Group')\n",
    "plt.show()"
   ]
  },
  {
   "cell_type": "markdown",
   "metadata": {},
   "source": [
    "**CONCLUSIONS:**\n",
    "* More than half of the users in group B have zero events.\n",
    "* Users in group A have significantly more events per person, even without users with no events."
   ]
  },
  {
   "cell_type": "markdown",
   "metadata": {},
   "source": [
    "### Calculating the average number of events"
   ]
  },
  {
   "cell_type": "code",
   "execution_count": 24,
   "metadata": {},
   "outputs": [
    {
     "data": {
      "image/png": "[encoded data removed]",
      "text/plain": [
       "<Figure size 720x288 with 1 Axes>"
      ]
     },
     "metadata": {
      "needs_background": "light"
     },
     "output_type": "display_data"
    },
    {
     "data": {
      "image/png": "[encoded data removed]",
      "text/plain": [
       "<Figure size 720x288 with 1 Axes>"
      ]
     },
     "metadata": {
      "needs_background": "light"
     },
     "output_type": "display_data"
    }
   ],
   "source": [
    "# counting the number of events by groups\n",
    "av_events = (\n",
    "    rst_participants_events.groupby(['group', 'event_name'], as_index=False)\n",
    "    .agg({'user_id': 'count'})\n",
    "    .rename(columns={'user_id': 'events'})\n",
    ")\n",
    "av_events = av_events.merge(\n",
    "    rst_participants_events.groupby('group', as_index=False)\n",
    "    .agg({'user_id': 'nunique'})\n",
    "    .rename(columns={'user_id': 'users'})\n",
    "    [['group', 'users']],\n",
    "    on='group',\n",
    "    how='left'\n",
    ")\n",
    "\n",
    "# calculateing the average number per user\n",
    "av_events['event_per_user'] = av_events['events'] / av_events['users']\n",
    "\n",
    "# building the graph\n",
    "plt.figure(figsize=(10, 4))\n",
    "ax = sns.barplot(data=av_events, x='event_name', hue='group', y='event_per_user')\n",
    "ax.set_title('Average number of events per user by test groups')\n",
    "ax.set_xlabel('Event types')\n",
    "ax.set_ylabel('Average amount per user')\n",
    "plt.show()\n",
    "\n",
    "\n",
    "# counting the number of events by groups, excluding users with zero events\n",
    "av_events = (\n",
    "    rst_participants_events.groupby(['group', 'event_name'], as_index=False)\n",
    "    .agg({'user_id': 'count'})\n",
    "    .rename(columns={'user_id': 'events'})\n",
    ")\n",
    "av_events = av_events.merge(\n",
    "    rst_participants_events[~rst_participants_events['event_name'].isna()]\n",
    "    .groupby('group', as_index=False)\n",
    "    .agg({'user_id': 'nunique'})\n",
    "    .rename(columns={'user_id': 'users'})\n",
    "    [['group', 'users']],\n",
    "    on='group',\n",
    "    how='left'\n",
    ")\n",
    "\n",
    "# calculating the average events number per user\n",
    "av_events['event_per_user'] = av_events['events'] / av_events['users']\n",
    "\n",
    "# building the graph\n",
    "plt.figure(figsize=(10, 4))\n",
    "ax = sns.barplot(data=av_events, x='event_name', hue='group', y='event_per_user')\n",
    "ax.set_title('Average number of events per user by test groups (only users with events)')\n",
    "ax.set_xlabel('Event types')\n",
    "ax.set_ylabel('Average number per user')\n",
    "plt.show()"
   ]
  },
  {
   "cell_type": "markdown",
   "metadata": {},
   "source": [
    "**CONCLUSION:**\n",
    "* Users in group A are much more likely to make events than users in group B. But this large difference is due to the large number of users with zero events in group B.\n",
    "* If users with zero events are excluded, group A still has more events per user on average, but the difference between groups is small."
   ]
  },
  {
   "cell_type": "markdown",
   "metadata": {},
   "source": [
    "### Looking at how the number of events in the samples is distributed by days"
   ]
  },
  {
   "cell_type": "code",
   "execution_count": 25,
   "metadata": {},
   "outputs": [
    {
     "data": {
      "image/png": "[encoded data removed]",
      "text/plain": [
       "<Figure size 720x288 with 1 Axes>"
      ]
     },
     "metadata": {
      "needs_background": "light"
     },
     "output_type": "display_data"
    },
    {
     "data": {
      "image/png": "[encoded data removed]",
      "text/plain": [
       "<Figure size 720x288 with 1 Axes>"
      ]
     },
     "metadata": {
      "needs_background": "light"
     },
     "output_type": "display_data"
    },
    {
     "data": {
      "image/png": "[encoded data removed]",
      "text/plain": [
       "<Figure size 720x288 with 1 Axes>"
      ]
     },
     "metadata": {
      "needs_background": "light"
     },
     "output_type": "display_data"
    },
    {
     "data": {
      "image/png": "[encoded data removed]",
      "text/plain": [
       "<Figure size 720x288 with 1 Axes>"
      ]
     },
     "metadata": {
      "needs_background": "light"
     },
     "output_type": "display_data"
    }
   ],
   "source": [
    "# building histograms separately for each type of event\n",
    "for event in rst_participants_events[~rst_participants_events['event_name'].isna()]['event_name'].unique():\n",
    "    plt.figure(figsize=(10, 4))\n",
    "    ax = sns.histplot(\n",
    "        data=rst_participants_events.query('event_name == @event'), x='date', bins=23, hue='group', stat='density', common_norm=False\n",
    "    )\n",
    "    title = 'Distribution by the event type: ' + str(event)\n",
    "    ax.set_title(title)\n",
    "    ax.set_ylabel('Event shares')\n",
    "    ax.set_xlabel('Dates')\n",
    "    plt.show()"
   ]
  },
  {
   "cell_type": "markdown",
   "metadata": {},
   "source": [
    "Now looking at this regarding registration days"
   ]
  },
  {
   "cell_type": "code",
   "execution_count": 26,
   "metadata": {},
   "outputs": [
    {
     "data": {
      "image/png": "[encoded data removed]",
      "text/plain": [
       "<Figure size 720x288 with 1 Axes>"
      ]
     },
     "metadata": {
      "needs_background": "light"
     },
     "output_type": "display_data"
    },
    {
     "data": {
      "image/png": "[encoded data removed]",
      "text/plain": [
       "<Figure size 720x288 with 1 Axes>"
      ]
     },
     "metadata": {
      "needs_background": "light"
     },
     "output_type": "display_data"
    },
    {
     "data": {
      "image/png": "[encoded data removed]",
      "text/plain": [
       "<Figure size 720x288 with 1 Axes>"
      ]
     },
     "metadata": {
      "needs_background": "light"
     },
     "output_type": "display_data"
    },
    {
     "data": {
      "image/png": "[encoded data removed]",
      "text/plain": [
       "<Figure size 720x288 with 1 Axes>"
      ]
     },
     "metadata": {
      "needs_background": "light"
     },
     "output_type": "display_data"
    }
   ],
   "source": [
    "# building histograms separately for each type of event\n",
    "for event in rst_participants_events[~rst_participants_events['event_name'].isna()]['event_name'].unique():\n",
    "    plt.figure(figsize=(10, 4))\n",
    "    ax = sns.histplot(\n",
    "        data=rst_participants_events.query('event_name == @event'), x='first_date', bins=15, hue='group', stat='density', common_norm=False\n",
    "    )\n",
    "    title = 'Distribution by the event type: ' + event\n",
    "    ax.set_title(title)\n",
    "    ax.set_ylabel('Event shares')\n",
    "    ax.set_xlabel('Dates')\n",
    "    plt.show()"
   ]
  },
  {
   "cell_type": "markdown",
   "metadata": {},
   "source": [
    "**CONCLUSIONS:**\n",
    "* The number of events in group A was low in the first week of the test, but then increased sharply. In group B, the distribution by date was more even, so the first week of the test in group B has a significantly larger proportion of events than in group A.\n",
    "* Group A has very few events for users registered in the first week of the test. After that, the number of events increased sharply. In group B, 25% of events, on the contrary, fall on users registered on the first day of the test."
   ]
  },
  {
   "cell_type": "markdown",
   "metadata": {},
   "source": [
    "### Analyzing users without events"
   ]
  },
  {
   "cell_type": "code",
   "execution_count": 27,
   "metadata": {},
   "outputs": [
    {
     "data": {
      "text/html": [
       "<div>\n",
       "<style scoped>\n",
       "    .dataframe tbody tr th:only-of-type {\n",
       "        vertical-align: middle;\n",
       "    }\n",
       "\n",
       "    .dataframe tbody tr th {\n",
       "        vertical-align: top;\n",
       "    }\n",
       "\n",
       "    .dataframe thead th {\n",
       "        text-align: right;\n",
       "    }\n",
       "</style>\n",
       "<table border=\"1\" class=\"dataframe\">\n",
       "  <thead>\n",
       "    <tr style=\"text-align: right;\">\n",
       "      <th></th>\n",
       "      <th>user_id</th>\n",
       "      <th>group</th>\n",
       "      <th>ab_test</th>\n",
       "      <th>first_date</th>\n",
       "      <th>region</th>\n",
       "      <th>device</th>\n",
       "      <th>no_events</th>\n",
       "    </tr>\n",
       "  </thead>\n",
       "  <tbody>\n",
       "    <tr>\n",
       "      <th>0</th>\n",
       "      <td>D1ABA3E2887B6A73</td>\n",
       "      <td>A</td>\n",
       "      <td>recommender_system_test</td>\n",
       "      <td>2020-12-07</td>\n",
       "      <td>EU</td>\n",
       "      <td>PC</td>\n",
       "      <td>False</td>\n",
       "    </tr>\n",
       "    <tr>\n",
       "      <th>1</th>\n",
       "      <td>A7A3664BD6242119</td>\n",
       "      <td>A</td>\n",
       "      <td>recommender_system_test</td>\n",
       "      <td>2020-12-20</td>\n",
       "      <td>EU</td>\n",
       "      <td>iPhone</td>\n",
       "      <td>False</td>\n",
       "    </tr>\n",
       "    <tr>\n",
       "      <th>2</th>\n",
       "      <td>DABC14FDDFADD29E</td>\n",
       "      <td>A</td>\n",
       "      <td>recommender_system_test</td>\n",
       "      <td>2020-12-08</td>\n",
       "      <td>EU</td>\n",
       "      <td>Mac</td>\n",
       "      <td>False</td>\n",
       "    </tr>\n",
       "    <tr>\n",
       "      <th>3</th>\n",
       "      <td>04988C5DF189632E</td>\n",
       "      <td>A</td>\n",
       "      <td>recommender_system_test</td>\n",
       "      <td>2020-12-14</td>\n",
       "      <td>EU</td>\n",
       "      <td>iPhone</td>\n",
       "      <td>False</td>\n",
       "    </tr>\n",
       "    <tr>\n",
       "      <th>4</th>\n",
       "      <td>482F14783456D21B</td>\n",
       "      <td>B</td>\n",
       "      <td>recommender_system_test</td>\n",
       "      <td>2020-12-14</td>\n",
       "      <td>EU</td>\n",
       "      <td>PC</td>\n",
       "      <td>True</td>\n",
       "    </tr>\n",
       "  </tbody>\n",
       "</table>\n",
       "</div>"
      ],
      "text/plain": [
       "            user_id group                  ab_test first_date region  device  \\\n",
       "0  D1ABA3E2887B6A73     A  recommender_system_test 2020-12-07     EU      PC   \n",
       "1  A7A3664BD6242119     A  recommender_system_test 2020-12-20     EU  iPhone   \n",
       "2  DABC14FDDFADD29E     A  recommender_system_test 2020-12-08     EU     Mac   \n",
       "3  04988C5DF189632E     A  recommender_system_test 2020-12-14     EU  iPhone   \n",
       "4  482F14783456D21B     B  recommender_system_test 2020-12-14     EU      PC   \n",
       "\n",
       "   no_events  \n",
       "0      False  \n",
       "1      False  \n",
       "2      False  \n",
       "3      False  \n",
       "4       True  "
      ]
     },
     "execution_count": 27,
     "metadata": {},
     "output_type": "execute_result"
    }
   ],
   "source": [
    "# adding the column separating users who have event and who don't have events\n",
    "rst_participants['no_events'] = (\n",
    "    rst_participants['user_id'].map(\n",
    "        lambda x: True if x in rst_participants_events.query('event_name.isna()')['user_id'].to_list() else False\n",
    "    )\n",
    ")\n",
    "\n",
    "rst_participants.head()"
   ]
  },
  {
   "cell_type": "code",
   "execution_count": 28,
   "metadata": {},
   "outputs": [
    {
     "name": "stdout",
     "output_type": "stream",
     "text": [
      "Number of users without events: 2870\n",
      "\n",
      "Share of users without events: 45.2%\n",
      "\n",
      "Distribution of users with no events by groups of the test\n",
      "\n"
     ]
    }
   ],
   "source": [
    "print('Number of users without events: {}'.format(len(rst_participants.query('no_events == True'))))\n",
    "print()\n",
    "print('Share of users without events: {0:.1f}%'.format(rst_participants['no_events'].mean() * 100))\n",
    "print()\n",
    "print('Distribution of users with no events by groups of the test')\n",
    "\n",
    "# building the distribution of users with no events by groups of the test\n",
    "(\n",
    "    rst_participants.query('no_events == True')\n",
    "    .groupby('group', as_index=False)\n",
    "    .agg({'user_id': 'count'})\n",
    "    .rename(columns={'user_id': 'users_with_no_events'})\n",
    "    .merge(\n",
    "        rst_participants.groupby('group', as_index=False)\n",
    "        .agg({'no_events': 'mean'})\n",
    "        .rename(columns={'no_events': 'share_of_no_events_users'}),\n",
    "        on='group', how='left'\n",
    "    )\n",
    ")\n",
    "print()"
   ]
  },
  {
   "cell_type": "code",
   "execution_count": 29,
   "metadata": {},
   "outputs": [
    {
     "data": {
      "image/png": "[encoded data removed]",
      "text/plain": [
       "<Figure size 720x288 with 1 Axes>"
      ]
     },
     "metadata": {
      "needs_background": "light"
     },
     "output_type": "display_data"
    }
   ],
   "source": [
    "# building the graph\n",
    "plt.figure(figsize=(10, 4))\n",
    "ax = sns.histplot(\n",
    "    data=rst_participants.query('no_events == True'), x='first_date', bins=15, hue='group', stat='density', common_norm=False\n",
    ")\n",
    "ax.set_title('Distribution of users with no events by registration dates')\n",
    "ax.set_ylabel('Users shares')\n",
    "ax.set_xlabel('Registration dates')\n",
    "plt.show()"
   ]
  },
  {
   "cell_type": "code",
   "execution_count": 30,
   "metadata": {},
   "outputs": [
    {
     "data": {
      "image/png": "[encoded data removed]",
      "text/plain": [
       "<Figure size 864x288 with 1 Axes>"
      ]
     },
     "metadata": {
      "needs_background": "light"
     },
     "output_type": "display_data"
    }
   ],
   "source": [
    "plt.figure(figsize=(12, 4))\n",
    "ax = sns.barplot(\n",
    "    data=rst_participants.groupby(['group', 'first_date'], as_index=False).agg({'no_events': 'mean'}), \n",
    "    x='first_date', \n",
    "    y='no_events',\n",
    "    hue='group'\n",
    ")\n",
    "ax.set_title('Shares of users without events from the number of all registered')\n",
    "ax.set_ylabel('Users shares')\n",
    "ax.set_xlabel('Registration dates')\n",
    "plt.xticks(rotation=60)\n",
    "plt.show()"
   ]
  },
  {
   "cell_type": "markdown",
   "metadata": {},
   "source": [
    "**CONCLUSIONS:**\n",
    "* In total, in group A, 28% of users did not make an event, in group B - 68%. The total value for both groups is 45%.\n",
    "* In the first week of registration, the proportion of users without events was high in both groups. It was probably a technical error. Starting from the second week of the test, in group A the error was fixed, and users without events disappeared. But in group B, the error remained and led to a high proportion of users without events in the end."
   ]
  },
  {
   "cell_type": "markdown",
   "metadata": {},
   "source": [
    "### Building conversion funnels"
   ]
  },
  {
   "cell_type": "code",
   "execution_count": 31,
   "metadata": {},
   "outputs": [],
   "source": [
    "# calculating data for the funnel\n",
    "funnel = (\n",
    "    rst_participants_events.groupby(['group', 'event_name'], as_index=False)\n",
    "    .agg({'user_id': 'nunique'})\n",
    "    .rename(columns={'user_id': 'users'})\n",
    ")\n",
    "\n",
    "# writing the funnel A with the required sorting and calculating the conversion\n",
    "funnel_A = pd.DataFrame()\n",
    "for i in ['login', 'product_page', 'product_cart', 'purchase']:\n",
    "    funnel_A = pd.concat([funnel_A, funnel.query('(event_name == @i) & (group == \"A\")')])\n",
    "funnel_A['conversion'] = round(funnel_A['users'] / funnel_A['users'].max(), 3)\n",
    "funnel_A['conversion_from_previous'] = round(funnel_A['users'] / funnel_A.shift(1)['users'], 3)\n",
    "\n",
    "# writing the funnel B with the required sorting\n",
    "funnel_B = pd.DataFrame()\n",
    "for i in ['login', 'product_page', 'product_cart', 'purchase']:\n",
    "    funnel_B = pd.concat([funnel_B, funnel.query('(event_name == @i) & (group == \"B\")')])\n",
    "funnel_B['conversion'] = round(funnel_B['users'] / funnel_B['users'].max(), 3)\n",
    "funnel_B['conversion_from_previous'] = round(funnel_B['users'] / funnel_B.shift(1)['users'], 3)"
   ]
  },
  {
   "cell_type": "code",
   "execution_count": 32,
   "metadata": {},
   "outputs": [
    {
     "data": {
      "text/html": [
       "<div>\n",
       "<style scoped>\n",
       "    .dataframe tbody tr th:only-of-type {\n",
       "        vertical-align: middle;\n",
       "    }\n",
       "\n",
       "    .dataframe tbody tr th {\n",
       "        vertical-align: top;\n",
       "    }\n",
       "\n",
       "    .dataframe thead th {\n",
       "        text-align: right;\n",
       "    }\n",
       "</style>\n",
       "<table border=\"1\" class=\"dataframe\">\n",
       "  <thead>\n",
       "    <tr style=\"text-align: right;\">\n",
       "      <th></th>\n",
       "      <th>group</th>\n",
       "      <th>event_name</th>\n",
       "      <th>users</th>\n",
       "      <th>conversion</th>\n",
       "      <th>conversion_from_previous</th>\n",
       "    </tr>\n",
       "  </thead>\n",
       "  <tbody>\n",
       "    <tr>\n",
       "      <th>0</th>\n",
       "      <td>A</td>\n",
       "      <td>login</td>\n",
       "      <td>2604</td>\n",
       "      <td>1.000</td>\n",
       "      <td>NaN</td>\n",
       "    </tr>\n",
       "    <tr>\n",
       "      <th>2</th>\n",
       "      <td>A</td>\n",
       "      <td>product_page</td>\n",
       "      <td>1685</td>\n",
       "      <td>0.647</td>\n",
       "      <td>0.647</td>\n",
       "    </tr>\n",
       "    <tr>\n",
       "      <th>1</th>\n",
       "      <td>A</td>\n",
       "      <td>product_cart</td>\n",
       "      <td>782</td>\n",
       "      <td>0.300</td>\n",
       "      <td>0.464</td>\n",
       "    </tr>\n",
       "    <tr>\n",
       "      <th>3</th>\n",
       "      <td>A</td>\n",
       "      <td>purchase</td>\n",
       "      <td>833</td>\n",
       "      <td>0.320</td>\n",
       "      <td>1.065</td>\n",
       "    </tr>\n",
       "  </tbody>\n",
       "</table>\n",
       "</div>"
      ],
      "text/plain": [
       "  group    event_name  users  conversion  conversion_from_previous\n",
       "0     A         login   2604       1.000                       NaN\n",
       "2     A  product_page   1685       0.647                     0.647\n",
       "1     A  product_cart    782       0.300                     0.464\n",
       "3     A      purchase    833       0.320                     1.065"
      ]
     },
     "execution_count": 32,
     "metadata": {},
     "output_type": "execute_result"
    }
   ],
   "source": [
    "funnel_A"
   ]
  },
  {
   "cell_type": "code",
   "execution_count": 33,
   "metadata": {},
   "outputs": [
    {
     "data": {
      "text/html": [
       "<div>\n",
       "<style scoped>\n",
       "    .dataframe tbody tr th:only-of-type {\n",
       "        vertical-align: middle;\n",
       "    }\n",
       "\n",
       "    .dataframe tbody tr th {\n",
       "        vertical-align: top;\n",
       "    }\n",
       "\n",
       "    .dataframe thead th {\n",
       "        text-align: right;\n",
       "    }\n",
       "</style>\n",
       "<table border=\"1\" class=\"dataframe\">\n",
       "  <thead>\n",
       "    <tr style=\"text-align: right;\">\n",
       "      <th></th>\n",
       "      <th>group</th>\n",
       "      <th>event_name</th>\n",
       "      <th>users</th>\n",
       "      <th>conversion</th>\n",
       "      <th>conversion_from_previous</th>\n",
       "    </tr>\n",
       "  </thead>\n",
       "  <tbody>\n",
       "    <tr>\n",
       "      <th>4</th>\n",
       "      <td>B</td>\n",
       "      <td>login</td>\n",
       "      <td>876</td>\n",
       "      <td>1.000</td>\n",
       "      <td>NaN</td>\n",
       "    </tr>\n",
       "    <tr>\n",
       "      <th>6</th>\n",
       "      <td>B</td>\n",
       "      <td>product_page</td>\n",
       "      <td>493</td>\n",
       "      <td>0.563</td>\n",
       "      <td>0.563</td>\n",
       "    </tr>\n",
       "    <tr>\n",
       "      <th>5</th>\n",
       "      <td>B</td>\n",
       "      <td>product_cart</td>\n",
       "      <td>244</td>\n",
       "      <td>0.279</td>\n",
       "      <td>0.495</td>\n",
       "    </tr>\n",
       "    <tr>\n",
       "      <th>7</th>\n",
       "      <td>B</td>\n",
       "      <td>purchase</td>\n",
       "      <td>249</td>\n",
       "      <td>0.284</td>\n",
       "      <td>1.020</td>\n",
       "    </tr>\n",
       "  </tbody>\n",
       "</table>\n",
       "</div>"
      ],
      "text/plain": [
       "  group    event_name  users  conversion  conversion_from_previous\n",
       "4     B         login    876       1.000                       NaN\n",
       "6     B  product_page    493       0.563                     0.563\n",
       "5     B  product_cart    244       0.279                     0.495\n",
       "7     B      purchase    249       0.284                     1.020"
      ]
     },
     "execution_count": 33,
     "metadata": {},
     "output_type": "execute_result"
    }
   ],
   "source": [
    "funnel_B"
   ]
  },
  {
   "cell_type": "markdown",
   "metadata": {},
   "source": [
    "**CONCLUSIONS:**\n",
    "* Group B has a lower conversion rate across all three funnel steps than Group A.\n",
    "* Conversion to purchase in both groups is higher than on the shopping cart page. This suggests that there is a way to pay for the purchase not through the basket."
   ]
  },
  {
   "cell_type": "markdown",
   "metadata": {},
   "source": [
    "**CONCLUSIONS FOR THE SECTION:**\n",
    "* In the first week of the test, there were very few users of group A, then there were sharply more of them.\n",
    "* In group B, more than half of the participants did not perform a single action. Perhaps there were some technical problems that prevented users from logging into their account.\n",
    "* In group A, the average number per person of all types of events is higher than in group B.\n",
    "* In group A, the conversion for all event types is higher than in group B."
   ]
  },
  {
   "cell_type": "markdown",
   "metadata": {},
   "source": [
    "## Evaluation of A/B test results"
   ]
  },
  {
   "cell_type": "markdown",
   "metadata": {},
   "source": [
    "### Writing the fuction for checking test results"
   ]
  },
  {
   "cell_type": "code",
   "execution_count": 34,
   "metadata": {},
   "outputs": [],
   "source": [
    "def hypo_testing(data, event, base_event, alpha=0.05):\n",
    "\n",
    "    # number of users, who made an event\n",
    "    event_users_A = data.query('(event_name == @event) & (group == \"A\")')['users'].sum()\n",
    "    event_users_B = data.query('(event_name == @event) & (group == \"B\")')['users'].sum()\n",
    "    event_users = [event_users_A, event_users_B]\n",
    "\n",
    "    # total number of users\n",
    "    total_users_A = data.query('(event_name == @base_event) & (group == \"A\")')['users'].sum()\n",
    "    total_users_B = data.query('(event_name == @base_event) & (group == \"B\")')['users'].sum()\n",
    "    total_users= [total_users_A, total_users_B]\n",
    "\n",
    "    # share of users who made an event\n",
    "    p1 = event_users_A / total_users_A\n",
    "    p2 = event_users_B / total_users_B\n",
    "\n",
    "    # combined share\n",
    "    p_combined = sum(event_users) / sum(total_users)\n",
    "\n",
    "    # share difference\n",
    "    difference = p2 - p1\n",
    "\n",
    "    # calculating z_value\n",
    "    z_value = difference / mth.sqrt(p_combined * (1 - p_combined) * (1 / total_users_A + 1 / total_users_B))\n",
    "\n",
    "    # setting the standard normal distribution\n",
    "    distr = st.norm(0, 1)\n",
    "\n",
    "    # calculating p-value\n",
    "    p_value = (1 - distr.cdf(abs(z_value))) * 2\n",
    "\n",
    "    if p_value < alpha:\n",
    "        decision = \"We reject the null hypothesis\"\n",
    "    else:\n",
    "        decision = \"We can't reject the null hypothesis\"\n",
    "\n",
    "    return difference, p_value, decision"
   ]
  },
  {
   "cell_type": "markdown",
   "metadata": {},
   "source": [
    "### Testing the hypothesis of conversion equality\n",
    "\n",
    "**Null hypothesis:** The conversions of all events in groups A and B are equal.\n",
    "\n",
    "**Alternative Hypothesis:** There is a statistically significant difference between group A and group B conversions for at least one event.\n",
    "\n",
    "The base significance level is 0.05. Our hypothesis consists of three types of events, and we test separately each of them. As the number of events increases, the probability of a Type I error (the probability of rejecting a true null hypothesis) increases, so we additionally use the Bonferroni correction to calculate the significance level."
   ]
  },
  {
   "cell_type": "code",
   "execution_count": 35,
   "metadata": {},
   "outputs": [
    {
     "data": {
      "text/html": [
       "<div>\n",
       "<style scoped>\n",
       "    .dataframe tbody tr th:only-of-type {\n",
       "        vertical-align: middle;\n",
       "    }\n",
       "\n",
       "    .dataframe tbody tr th {\n",
       "        vertical-align: top;\n",
       "    }\n",
       "\n",
       "    .dataframe thead th {\n",
       "        text-align: right;\n",
       "    }\n",
       "</style>\n",
       "<table border=\"1\" class=\"dataframe\">\n",
       "  <thead>\n",
       "    <tr style=\"text-align: right;\">\n",
       "      <th></th>\n",
       "      <th>event</th>\n",
       "      <th>difference</th>\n",
       "      <th>p_value</th>\n",
       "      <th>decision</th>\n",
       "    </tr>\n",
       "  </thead>\n",
       "  <tbody>\n",
       "    <tr>\n",
       "      <th>0</th>\n",
       "      <td>product_page</td>\n",
       "      <td>-0.084296</td>\n",
       "      <td>0.000008</td>\n",
       "      <td>We reject the null hypothesis</td>\n",
       "    </tr>\n",
       "    <tr>\n",
       "      <th>1</th>\n",
       "      <td>product_cart</td>\n",
       "      <td>-0.021768</td>\n",
       "      <td>0.221594</td>\n",
       "      <td>We can't reject the null hypothesis</td>\n",
       "    </tr>\n",
       "    <tr>\n",
       "      <th>2</th>\n",
       "      <td>purchase</td>\n",
       "      <td>-0.035646</td>\n",
       "      <td>0.048648</td>\n",
       "      <td>We can't reject the null hypothesis</td>\n",
       "    </tr>\n",
       "  </tbody>\n",
       "</table>\n",
       "</div>"
      ],
      "text/plain": [
       "          event  difference   p_value                             decision\n",
       "0  product_page   -0.084296  0.000008        We reject the null hypothesis\n",
       "1  product_cart   -0.021768  0.221594  We can't reject the null hypothesis\n",
       "2      purchase   -0.035646  0.048648  We can't reject the null hypothesis"
      ]
     },
     "execution_count": 35,
     "metadata": {},
     "output_type": "execute_result"
    }
   ],
   "source": [
    "# creating empty list for writing\n",
    "results = []\n",
    "\n",
    "# applying the function to all types of events (significance level according to the Bonferroni correction)\n",
    "for event in ['product_page', 'product_cart', 'purchase']:\n",
    "    difference, p_value, decision = hypo_testing(funnel, event, 'login', 0.05/3)\n",
    "    string = [event, difference, p_value, decision]\n",
    "    results.append(string)\n",
    "\n",
    "# transforming to a dataframe\n",
    "results = pd.DataFrame(results, columns=['event', 'difference', 'p_value', 'decision'])\n",
    "results"
   ]
  },
  {
   "cell_type": "markdown",
   "metadata": {},
   "source": [
    "**CONCLUSION:**\n",
    "* We reject the null hypothesis. There are statistically significant differences between product page conversions between groups A and B. Group B's conversion rate is lower than group A's by 8.4%."
   ]
  },
  {
   "cell_type": "markdown",
   "metadata": {},
   "source": [
    "## Выводы"
   ]
  },
  {
   "cell_type": "markdown",
   "metadata": {},
   "source": [
    "1. The conducted A / B test has limitations and deviations from the TOR:\n",
    "     * There are significantly fewer participants in group B than in group A. At the same time, more than half of the participants in group B did not do any action. Perhaps there were some technical problems.\n",
    "     * The dynamics of the total number of events on different dates in groups A and B varies greatly. Perhaps, again, there were technical problems, or incorrect distribution of people into groups.\n",
    "     * The test overlaps with another test (1602 people out of 6351), while the distribution across groups is fairly even. However, the intersection of tests may affect the result.\n",
    "     * 45% of test participants did not do any event. 67% of test participants in group B did not do any of the events. It was probably a technical error. This error was corrected for group A after the first week of the test, but was not corrected for group B.\n",
    "     * There is data on events only up to December 30. This means that users who registered after December 16 did not live 14 days. But this has almost no effect on the conversion, because the first action occurs on the day of registration or in 1-2 days after.\n",
    "     * There is an intersection with marketing activity after December 25, but this data is not key in terms of conversion.\n",
    "2. The number of events in group A was low in the first week of the test, but then increased sharply. In group B, the distribution by date was more even, so the first week of the test in group B has a significantly larger proportion of events than in group A. Group A has very few events for users registered in the first week of the test. After that, the number of events increased sharply. In group B, 25% of events, on the contrary, fall on users registered on the first day of the test.\n",
    "3. According to the results of the A/B test, it was found that there is a statistically significant difference between groups A and B in terms of conversion to the product page. At the same time, the conversion in group A is higher at each stage. This suggests that the new recommender system performed worse than the old one.\n",
    "4. Test results may have been affected by deviation from the TOR. But the difference between groups is high, so it's not recommended to make another A/B test of this new recommender system."
   ]
  }
 ],
 "metadata": {
  "ExecuteTimeLog": [
   {
    "duration": 1462,
    "start_time": "2023-07-09T19:15:53.039Z"
   },
   {
    "duration": 162,
    "start_time": "2023-07-09T19:16:02.207Z"
   },
   {
    "duration": 88,
    "start_time": "2023-07-09T19:17:10.691Z"
   },
   {
    "duration": 59,
    "start_time": "2023-07-09T19:17:43.283Z"
   },
   {
    "duration": 13,
    "start_time": "2023-07-09T19:17:51.285Z"
   },
   {
    "duration": 474,
    "start_time": "2023-07-09T19:17:57.944Z"
   },
   {
    "duration": 258,
    "start_time": "2023-07-09T19:18:21.842Z"
   },
   {
    "duration": 2032,
    "start_time": "2023-07-09T19:18:44.107Z"
   },
   {
    "duration": 4,
    "start_time": "2023-07-09T19:19:33.808Z"
   },
   {
    "duration": 41,
    "start_time": "2023-07-09T19:19:45.764Z"
   },
   {
    "duration": 15,
    "start_time": "2023-07-09T19:20:16.714Z"
   },
   {
    "duration": 173,
    "start_time": "2023-07-09T19:20:24.490Z"
   },
   {
    "duration": 44,
    "start_time": "2023-07-09T19:22:21.891Z"
   },
   {
    "duration": 10,
    "start_time": "2023-07-09T19:22:37.208Z"
   },
   {
    "duration": 23,
    "start_time": "2023-07-09T19:23:01.618Z"
   },
   {
    "duration": 12,
    "start_time": "2023-07-09T19:23:24.552Z"
   },
   {
    "duration": 65,
    "start_time": "2023-07-09T19:23:44.541Z"
   },
   {
    "duration": 19,
    "start_time": "2023-07-09T19:23:50.936Z"
   },
   {
    "duration": 389,
    "start_time": "2023-07-09T19:24:28.224Z"
   },
   {
    "duration": 950,
    "start_time": "2023-07-09T19:25:29.373Z"
   },
   {
    "duration": 1440,
    "start_time": "2023-07-09T19:27:19.942Z"
   },
   {
    "duration": 33,
    "start_time": "2023-07-09T19:27:53.596Z"
   },
   {
    "duration": 32,
    "start_time": "2023-07-09T19:28:21.661Z"
   },
   {
    "duration": 157,
    "start_time": "2023-07-09T19:28:47.441Z"
   },
   {
    "duration": 167,
    "start_time": "2023-07-09T19:29:12.649Z"
   },
   {
    "duration": 20,
    "start_time": "2023-07-09T19:29:27.510Z"
   },
   {
    "duration": 38,
    "start_time": "2023-07-09T19:29:42.567Z"
   },
   {
    "duration": 170,
    "start_time": "2023-07-09T19:30:21.230Z"
   },
   {
    "duration": 272,
    "start_time": "2023-07-09T19:32:39.456Z"
   },
   {
    "duration": 174,
    "start_time": "2023-07-09T19:33:10.800Z"
   },
   {
    "duration": 422,
    "start_time": "2023-07-09T19:33:29.763Z"
   },
   {
    "duration": 1518,
    "start_time": "2023-07-09T19:33:55.196Z"
   },
   {
    "duration": 1509,
    "start_time": "2023-07-09T19:34:36.033Z"
   },
   {
    "duration": 6,
    "start_time": "2023-07-09T19:34:52.155Z"
   },
   {
    "duration": 1231,
    "start_time": "2023-07-09T19:35:53.699Z"
   },
   {
    "duration": 1107,
    "start_time": "2023-07-09T19:36:32.584Z"
   },
   {
    "duration": 44,
    "start_time": "2023-07-09T19:37:31.770Z"
   },
   {
    "duration": 525,
    "start_time": "2023-07-09T19:37:57.450Z"
   },
   {
    "duration": 6,
    "start_time": "2023-07-09T19:39:52.067Z"
   },
   {
    "duration": 70,
    "start_time": "2023-07-09T19:40:07.690Z"
   },
   {
    "duration": 6,
    "start_time": "2023-07-09T19:40:50.801Z"
   },
   {
    "duration": 24,
    "start_time": "2023-07-09T19:40:53.144Z"
   },
   {
    "duration": 3,
    "start_time": "2023-07-09T19:41:38.470Z"
   },
   {
    "duration": 9,
    "start_time": "2023-07-09T19:41:45.098Z"
   },
   {
    "duration": 51,
    "start_time": "2023-07-09T19:41:48.060Z"
   },
   {
    "duration": 1528,
    "start_time": "2023-07-10T19:16:13.449Z"
   },
   {
    "duration": 49,
    "start_time": "2023-07-10T19:16:14.979Z"
   },
   {
    "duration": 117,
    "start_time": "2023-07-10T19:16:15.030Z"
   },
   {
    "duration": 935,
    "start_time": "2023-07-10T19:16:15.148Z"
   },
   {
    "duration": 32,
    "start_time": "2023-07-10T19:16:16.085Z"
   },
   {
    "duration": 49,
    "start_time": "2023-07-10T19:16:16.118Z"
   },
   {
    "duration": 30,
    "start_time": "2023-07-10T19:16:16.169Z"
   },
   {
    "duration": 17,
    "start_time": "2023-07-10T19:16:16.201Z"
   },
   {
    "duration": 53,
    "start_time": "2023-07-10T19:16:16.219Z"
   },
   {
    "duration": 9,
    "start_time": "2023-07-10T19:16:16.274Z"
   },
   {
    "duration": 20,
    "start_time": "2023-07-10T19:16:16.284Z"
   },
   {
    "duration": 437,
    "start_time": "2023-07-10T19:16:16.305Z"
   },
   {
    "duration": 945,
    "start_time": "2023-07-10T19:16:16.743Z"
   },
   {
    "duration": 1668,
    "start_time": "2023-07-10T19:16:17.690Z"
   },
   {
    "duration": 20,
    "start_time": "2023-07-10T19:16:19.368Z"
   },
   {
    "duration": 25,
    "start_time": "2023-07-10T19:16:19.390Z"
   },
   {
    "duration": 210,
    "start_time": "2023-07-10T19:16:19.417Z"
   },
   {
    "duration": 17,
    "start_time": "2023-07-10T19:16:19.629Z"
   },
   {
    "duration": 43,
    "start_time": "2023-07-10T19:16:19.647Z"
   },
   {
    "duration": 57,
    "start_time": "2023-07-10T19:16:19.692Z"
   },
   {
    "duration": 585,
    "start_time": "2023-07-10T19:16:19.750Z"
   },
   {
    "duration": 666,
    "start_time": "2023-07-10T19:16:20.337Z"
   },
   {
    "duration": 1788,
    "start_time": "2023-07-10T19:16:21.004Z"
   },
   {
    "duration": 1853,
    "start_time": "2023-07-10T19:16:22.793Z"
   },
   {
    "duration": 763,
    "start_time": "2023-07-10T19:16:24.647Z"
   },
   {
    "duration": 60,
    "start_time": "2023-07-10T19:16:25.411Z"
   },
   {
    "duration": 38,
    "start_time": "2023-07-10T19:16:25.473Z"
   },
   {
    "duration": 1623,
    "start_time": "2023-07-10T20:09:01.258Z"
   },
   {
    "duration": 52,
    "start_time": "2023-07-10T20:09:02.883Z"
   },
   {
    "duration": 128,
    "start_time": "2023-07-10T20:09:02.936Z"
   },
   {
    "duration": 1049,
    "start_time": "2023-07-10T20:09:03.067Z"
   },
   {
    "duration": 53,
    "start_time": "2023-07-10T20:09:04.119Z"
   },
   {
    "duration": 50,
    "start_time": "2023-07-10T20:09:04.174Z"
   },
   {
    "duration": 33,
    "start_time": "2023-07-10T20:09:04.226Z"
   },
   {
    "duration": 12,
    "start_time": "2023-07-10T20:09:04.260Z"
   },
   {
    "duration": 6,
    "start_time": "2023-07-10T20:09:04.273Z"
   },
   {
    "duration": 26,
    "start_time": "2023-07-10T20:09:04.281Z"
   },
   {
    "duration": 12,
    "start_time": "2023-07-10T20:09:04.310Z"
   },
   {
    "duration": 48,
    "start_time": "2023-07-10T20:09:04.324Z"
   },
   {
    "duration": 513,
    "start_time": "2023-07-10T20:09:04.374Z"
   },
   {
    "duration": 1018,
    "start_time": "2023-07-10T20:09:04.889Z"
   },
   {
    "duration": 221,
    "start_time": "2023-07-10T20:09:05.909Z"
   },
   {
    "duration": 1543,
    "start_time": "2023-07-10T20:09:06.132Z"
   },
   {
    "duration": 21,
    "start_time": "2023-07-10T20:09:07.677Z"
   },
   {
    "duration": 33,
    "start_time": "2023-07-10T20:09:07.700Z"
   },
   {
    "duration": 231,
    "start_time": "2023-07-10T20:09:07.735Z"
   },
   {
    "duration": 26,
    "start_time": "2023-07-10T20:09:07.968Z"
   },
   {
    "duration": 39,
    "start_time": "2023-07-10T20:09:07.996Z"
   },
   {
    "duration": 107,
    "start_time": "2023-07-10T20:09:08.037Z"
   },
   {
    "duration": 523,
    "start_time": "2023-07-10T20:09:08.145Z"
   },
   {
    "duration": 628,
    "start_time": "2023-07-10T20:09:08.670Z"
   },
   {
    "duration": 1872,
    "start_time": "2023-07-10T20:09:09.300Z"
   },
   {
    "duration": 1789,
    "start_time": "2023-07-10T20:09:11.173Z"
   },
   {
    "duration": 32,
    "start_time": "2023-07-10T20:09:12.968Z"
   },
   {
    "duration": 8,
    "start_time": "2023-07-10T20:09:13.003Z"
   },
   {
    "duration": 13,
    "start_time": "2023-07-10T20:09:13.013Z"
   },
   {
    "duration": 684,
    "start_time": "2023-07-10T20:09:13.028Z"
   },
   {
    "duration": 55,
    "start_time": "2023-07-10T20:09:13.713Z"
   },
   {
    "duration": 98,
    "start_time": "2023-07-10T20:09:13.770Z"
   },
   {
    "duration": 1753,
    "start_time": "2023-07-11T11:12:47.896Z"
   },
   {
    "duration": 106,
    "start_time": "2023-07-11T11:12:49.948Z"
   },
   {
    "duration": 355,
    "start_time": "2023-07-11T11:12:53.031Z"
   },
   {
    "duration": 129,
    "start_time": "2023-07-11T11:13:08.706Z"
   },
   {
    "duration": 1636,
    "start_time": "2023-07-11T11:13:13.798Z"
   },
   {
    "duration": 108,
    "start_time": "2023-07-11T11:13:17.998Z"
   },
   {
    "duration": 64,
    "start_time": "2023-07-11T11:13:35.773Z"
   },
   {
    "duration": 90,
    "start_time": "2023-07-11T11:14:48.694Z"
   },
   {
    "duration": 3354,
    "start_time": "2023-07-11T11:16:18.570Z"
   },
   {
    "duration": 19,
    "start_time": "2023-07-11T11:16:28.931Z"
   },
   {
    "duration": 13577,
    "start_time": "2023-07-11T11:18:04.219Z"
   },
   {
    "duration": 99,
    "start_time": "2023-07-11T11:18:26.927Z"
   },
   {
    "duration": 121,
    "start_time": "2023-07-11T11:18:48.717Z"
   },
   {
    "duration": 109,
    "start_time": "2023-07-11T11:19:03.860Z"
   },
   {
    "duration": 103,
    "start_time": "2023-07-11T11:21:13.415Z"
   },
   {
    "duration": 104,
    "start_time": "2023-07-11T11:21:25.299Z"
   },
   {
    "duration": 140,
    "start_time": "2023-07-11T11:22:21.233Z"
   },
   {
    "duration": 76,
    "start_time": "2023-07-11T11:22:28.767Z"
   },
   {
    "duration": 11,
    "start_time": "2023-07-11T11:22:32.803Z"
   },
   {
    "duration": 9,
    "start_time": "2023-07-11T11:22:34.524Z"
   },
   {
    "duration": 55,
    "start_time": "2023-07-11T11:22:38.518Z"
   },
   {
    "duration": 14,
    "start_time": "2023-07-11T11:22:43.720Z"
   },
   {
    "duration": 30,
    "start_time": "2023-07-11T11:22:46.100Z"
   },
   {
    "duration": 442,
    "start_time": "2023-07-11T11:22:49.998Z"
   },
   {
    "duration": 1038,
    "start_time": "2023-07-11T11:22:56.482Z"
   },
   {
    "duration": 239,
    "start_time": "2023-07-11T11:24:44.695Z"
   },
   {
    "duration": 1834,
    "start_time": "2023-07-11T11:30:39.579Z"
   },
   {
    "duration": 794,
    "start_time": "2023-07-11T11:36:33.595Z"
   },
   {
    "duration": 1785,
    "start_time": "2023-07-11T11:36:48.514Z"
   },
   {
    "duration": 3388,
    "start_time": "2023-07-11T11:39:15.005Z"
   },
   {
    "duration": 3081,
    "start_time": "2023-07-11T11:39:28.234Z"
   },
   {
    "duration": 2126,
    "start_time": "2023-07-11T11:55:22.705Z"
   },
   {
    "duration": 1070,
    "start_time": "2023-07-11T11:56:59.991Z"
   },
   {
    "duration": 2948,
    "start_time": "2023-07-11T11:57:05.613Z"
   },
   {
    "duration": 3091,
    "start_time": "2023-07-11T11:57:32.797Z"
   },
   {
    "duration": 2747,
    "start_time": "2023-07-11T12:04:07.599Z"
   },
   {
    "duration": 2772,
    "start_time": "2023-07-11T12:04:59.994Z"
   },
   {
    "duration": 2630,
    "start_time": "2023-07-11T12:06:01.905Z"
   },
   {
    "duration": 3079,
    "start_time": "2023-07-11T12:10:01.311Z"
   },
   {
    "duration": 2672,
    "start_time": "2023-07-11T12:10:22.090Z"
   },
   {
    "duration": 3065,
    "start_time": "2023-07-11T12:19:54.991Z"
   },
   {
    "duration": 45,
    "start_time": "2023-07-11T12:26:33.410Z"
   },
   {
    "duration": 6,
    "start_time": "2023-07-11T12:27:20.247Z"
   },
   {
    "duration": 38,
    "start_time": "2023-07-11T12:27:25.497Z"
   },
   {
    "duration": 26,
    "start_time": "2023-07-11T12:45:20.093Z"
   },
   {
    "duration": 53,
    "start_time": "2023-07-11T12:45:21.327Z"
   },
   {
    "duration": 193,
    "start_time": "2023-07-11T12:45:25.105Z"
   },
   {
    "duration": 25,
    "start_time": "2023-07-11T12:45:26.394Z"
   },
   {
    "duration": 69,
    "start_time": "2023-07-11T12:45:28.898Z"
   },
   {
    "duration": 194,
    "start_time": "2023-07-11T12:45:33.090Z"
   },
   {
    "duration": 451,
    "start_time": "2023-07-11T12:45:39.751Z"
   },
   {
    "duration": 484,
    "start_time": "2023-07-11T12:45:44.951Z"
   },
   {
    "duration": 1406,
    "start_time": "2023-07-11T12:45:50.239Z"
   },
   {
    "duration": 1252,
    "start_time": "2023-07-11T12:46:00.311Z"
   },
   {
    "duration": 10,
    "start_time": "2023-07-11T12:48:38.913Z"
   },
   {
    "duration": 12,
    "start_time": "2023-07-11T12:48:44.164Z"
   },
   {
    "duration": 15,
    "start_time": "2023-07-11T12:50:20.129Z"
   },
   {
    "duration": 105,
    "start_time": "2023-07-11T12:52:06.668Z"
   },
   {
    "duration": 21780,
    "start_time": "2023-07-11T12:52:43.686Z"
   },
   {
    "duration": 6311,
    "start_time": "2023-07-11T12:53:29.254Z"
   },
   {
    "duration": 27,
    "start_time": "2023-07-11T12:53:46.867Z"
   },
   {
    "duration": 12,
    "start_time": "2023-07-11T12:54:17.241Z"
   },
   {
    "duration": 24510,
    "start_time": "2023-07-11T12:54:41.119Z"
   },
   {
    "duration": 15,
    "start_time": "2023-07-11T12:55:19.078Z"
   },
   {
    "duration": 4,
    "start_time": "2023-07-11T12:57:35.429Z"
   },
   {
    "duration": 4,
    "start_time": "2023-07-11T12:57:42.718Z"
   },
   {
    "duration": 7,
    "start_time": "2023-07-11T12:59:25.525Z"
   },
   {
    "duration": 20,
    "start_time": "2023-07-11T13:05:28.867Z"
   },
   {
    "duration": 86,
    "start_time": "2023-07-11T13:07:44.658Z"
   },
   {
    "duration": 33,
    "start_time": "2023-07-11T13:07:56.700Z"
   },
   {
    "duration": 11,
    "start_time": "2023-07-11T13:12:25.923Z"
   },
   {
    "duration": 33,
    "start_time": "2023-07-11T13:14:13.717Z"
   },
   {
    "duration": 276,
    "start_time": "2023-07-11T13:14:23.036Z"
   },
   {
    "duration": 119,
    "start_time": "2023-07-11T13:16:59.474Z"
   },
   {
    "duration": 141,
    "start_time": "2023-07-11T13:17:11.735Z"
   },
   {
    "duration": 153,
    "start_time": "2023-07-11T13:17:23.825Z"
   },
   {
    "duration": 242,
    "start_time": "2023-07-11T13:17:46.833Z"
   },
   {
    "duration": 717,
    "start_time": "2023-07-11T13:18:07.083Z"
   },
   {
    "duration": 463,
    "start_time": "2023-07-11T13:21:21.828Z"
   },
   {
    "duration": 500,
    "start_time": "2023-07-11T13:21:40.464Z"
   },
   {
    "duration": 379,
    "start_time": "2023-07-11T13:23:24.300Z"
   },
   {
    "duration": 407,
    "start_time": "2023-07-11T13:23:45.296Z"
   },
   {
    "duration": 50,
    "start_time": "2023-07-11T13:32:25.645Z"
   },
   {
    "duration": 65,
    "start_time": "2023-07-11T13:32:32.427Z"
   },
   {
    "duration": 14,
    "start_time": "2023-07-11T13:32:37.603Z"
   },
   {
    "duration": 43,
    "start_time": "2023-07-11T13:33:19.791Z"
   },
   {
    "duration": 14,
    "start_time": "2023-07-11T13:33:23.171Z"
   },
   {
    "duration": 70,
    "start_time": "2023-07-11T13:33:47.612Z"
   },
   {
    "duration": 10,
    "start_time": "2023-07-11T13:33:48.891Z"
   },
   {
    "duration": 10,
    "start_time": "2023-07-11T13:33:51.587Z"
   },
   {
    "duration": 123,
    "start_time": "2023-07-11T13:37:23.689Z"
   },
   {
    "duration": 1145,
    "start_time": "2023-07-11T13:47:08.802Z"
   },
   {
    "duration": 115,
    "start_time": "2023-07-11T13:52:19.077Z"
   },
   {
    "duration": 187,
    "start_time": "2023-07-11T13:52:48.437Z"
   },
   {
    "duration": 101,
    "start_time": "2023-07-11T13:53:28.918Z"
   },
   {
    "duration": 163,
    "start_time": "2023-07-11T13:53:33.036Z"
   },
   {
    "duration": 109,
    "start_time": "2023-07-11T13:55:15.478Z"
   },
   {
    "duration": 98,
    "start_time": "2023-07-11T13:55:40.774Z"
   },
   {
    "duration": 1305,
    "start_time": "2023-09-05T17:20:19.539Z"
   },
   {
    "duration": 86,
    "start_time": "2023-09-05T17:20:22.192Z"
   },
   {
    "duration": 244,
    "start_time": "2023-09-05T17:20:26.082Z"
   },
   {
    "duration": 1237,
    "start_time": "2023-09-05T17:20:28.357Z"
   },
   {
    "duration": 66,
    "start_time": "2023-09-05T17:20:30.773Z"
   },
   {
    "duration": 91,
    "start_time": "2023-09-05T17:20:41.163Z"
   },
   {
    "duration": 41,
    "start_time": "2023-09-05T17:20:52.001Z"
   },
   {
    "duration": 10,
    "start_time": "2023-09-05T17:21:01.579Z"
   },
   {
    "duration": 6,
    "start_time": "2023-09-05T17:21:05.341Z"
   },
   {
    "duration": 24,
    "start_time": "2023-09-05T17:21:07.993Z"
   },
   {
    "duration": 12,
    "start_time": "2023-09-05T17:21:18.942Z"
   },
   {
    "duration": 18,
    "start_time": "2023-09-05T17:21:29.985Z"
   },
   {
    "duration": 367,
    "start_time": "2023-09-05T17:21:42.676Z"
   },
   {
    "duration": 749,
    "start_time": "2023-09-05T17:21:49.354Z"
   },
   {
    "duration": 184,
    "start_time": "2023-09-05T17:27:54.166Z"
   },
   {
    "duration": 2622,
    "start_time": "2023-09-05T17:27:59.773Z"
   },
   {
    "duration": 22,
    "start_time": "2023-09-05T17:28:17.061Z"
   },
   {
    "duration": 32,
    "start_time": "2023-09-05T17:28:20.320Z"
   },
   {
    "duration": 210,
    "start_time": "2023-09-05T17:28:24.515Z"
   },
   {
    "duration": 19,
    "start_time": "2023-09-05T17:28:29.232Z"
   },
   {
    "duration": 41,
    "start_time": "2023-09-05T17:28:34.534Z"
   },
   {
    "duration": 148,
    "start_time": "2023-09-05T17:28:42.874Z"
   },
   {
    "duration": 341,
    "start_time": "2023-09-05T17:28:49.966Z"
   },
   {
    "duration": 346,
    "start_time": "2023-09-05T17:29:01.075Z"
   },
   {
    "duration": 1247,
    "start_time": "2023-09-05T17:29:13.665Z"
   },
   {
    "duration": 1055,
    "start_time": "2023-09-05T17:29:29.195Z"
   },
   {
    "duration": 20903,
    "start_time": "2023-09-05T17:33:37.258Z"
   },
   {
    "duration": 23,
    "start_time": "2023-09-05T17:34:03.810Z"
   },
   {
    "duration": 242,
    "start_time": "2023-09-05T17:34:25.030Z"
   },
   {
    "duration": 327,
    "start_time": "2023-09-05T17:34:48.230Z"
   },
   {
    "duration": 36,
    "start_time": "2023-09-05T17:35:02.947Z"
   },
   {
    "duration": 8,
    "start_time": "2023-09-05T17:35:06.151Z"
   },
   {
    "duration": 9,
    "start_time": "2023-09-05T17:35:07.139Z"
   },
   {
    "duration": 6,
    "start_time": "2023-09-05T17:35:11.217Z"
   },
   {
    "duration": 42,
    "start_time": "2023-09-05T17:35:16.411Z"
   }
  ],
  "kernelspec": {
   "display_name": "Python 3 (ipykernel)",
   "language": "python",
   "name": "python3"
  },
  "language_info": {
   "codemirror_mode": {
    "name": "ipython",
    "version": 3
   },
   "file_extension": ".py",
   "mimetype": "text/x-python",
   "name": "python",
   "nbconvert_exporter": "python",
   "pygments_lexer": "ipython3",
   "version": "3.9.5"
  },
  "toc": {
   "base_numbering": 1,
   "nav_menu": {},
   "number_sections": true,
   "sideBar": true,
   "skip_h1_title": true,
   "title_cell": "Table of Contents",
   "title_sidebar": "Contents",
   "toc_cell": false,
   "toc_position": {},
   "toc_section_display": true,
   "toc_window_display": false
  }
 },
 "nbformat": 4,
 "nbformat_minor": 2
}
