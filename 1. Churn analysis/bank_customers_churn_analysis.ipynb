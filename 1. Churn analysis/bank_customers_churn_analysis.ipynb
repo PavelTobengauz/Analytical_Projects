{
 "cells": [
  {
   "cell_type": "markdown",
   "metadata": {},
   "source": [
    "# Project: Bank clients churn analysis"
   ]
  },
  {
   "cell_type": "markdown",
   "metadata": {},
   "source": [
    "**Main goal:** to identify the main signs of churn, to build the main churn segments and to give recommedations on working with them."
   ]
  },
  {
   "cell_type": "markdown",
   "metadata": {},
   "source": [
    "**Tasks:**\n",
    "1. To loan, study and process data\n",
    "2. To build features distributions\n",
    "3. To calculate correlitions between churn rate and factors that can influence\n",
    "4. To put forward statistical hypotheses that will show the presence or absence of a relationship between factors and the churn rate\n",
    "5. To test statistical hypotheses\n",
    "6. To highlight the main features that affect the churn\n",
    "7. To select the main churn segments\n",
    "8. To prioritize segments\n",
    "9. To give recommendations on working with segments with high churn rate"
   ]
  },
  {
   "cell_type": "markdown",
   "metadata": {},
   "source": [
    "**Dataset description:**\n",
    "\n",
    "The dataset contains data about the clients of the bank \"Metanprom\". One line corresponds to one client. The dataset has the following features:\n",
    "* userid — user id,\n",
    "* score — credit scores,\n",
    "* City,\n",
    "* Gender,\n",
    "* Age,\n",
    "* equity — property points,\n",
    "* Balance — account balance,\n",
    "* Products — number of products used by the customer,\n",
    "* CreditCard — having a credit card or not,\n",
    "* last_activity — active client or not,\n",
    "* estimated_salary,\n",
    "* Churn — gone or not."
   ]
  },
  {
   "cell_type": "markdown",
   "metadata": {},
   "source": [
    "**Contents:**\n",
    "1. [Data Uploading](#uploading)\n",
    "    1. [Uploading data and viewing info](#sub_uploading)\n",
    "    1. [Checking data formats](#formats)\n",
    "1. [Data preprocessing](#preprocessing)\n",
    "    1. [Editing column names](#names)\n",
    "    1. [Checking data for explicit and implicit duplicates](#duplicates)\n",
    "    1. [Exploring the gaps, assuming their causes](#gaps)\n",
    "    1. [Filling the gaps if necessary, delete the data or leave it as it is](#gaps_filling)\n",
    "    1. [Exploring clients with abnormally high income](#high_income)\n",
    "    1. [Exploring clients with abnormally high balances](#high_balances)\n",
    "    1. [Encoding data for correlation calculations](#encoding)\n",
    "1. [EDA](#EDA)\n",
    "    1. [Building histograms of feature distribution](distributions)\n",
    "    1. [Building the distribution of categorical features in the context of churn](#categorical)\n",
    "    1. [For numeric features, determining the ranges with a high churn](#numeric)\n",
    "    1. [Compiling a customer profile in terms of churn](#profile)\n",
    "    1. [Calculationg a correlation between the features, noting the strongest dependencies](#correlation)\n",
    "1. [Testing statistical hypotheses](#hypo)\n",
    "    1. [Testing the hypothesis 1 about the equality of average incomes between clients who left and those who stayed](#hypo1)\n",
    "    1. [Testing hypothesis 2 about the equality of the average scoring value between customers who left and those who stayed](#hypo2)\n",
    "    1. [Testing the hypothesis 3 about the equality of the distribution by city between the clients who left and those who stayed](#hypo3)\n",
    "1. [Interim Summary](#int_summary)\n",
    "    1. [Interim conclusions](#int_conclusions)\n",
    "    1. [Features that affect customer churn](#features)\n",
    "1. [Segments formation](#segments)\n",
    "    1. [Calculating the number of customers, the churn rate and the relative churn rate for each individual feature that affects the churn](#individual)\n",
    "    1. [Applying factors together in pairs to obtain overall scores for every pair of factors](#pairs)\n",
    "    1. [Collecting intersections of two and three conditions into separate dataframes, calculate conditions for them](#all_intersections)\n",
    "    1. [Final segments selection](#final_segments)\n",
    "1. [Final conclutions](#final_conclusions)\n",
    "    1. [Final conclutions by the segments](#final_conc_segments)\n",
    "    1. [Churn segments prioritization](#prioritization)\n",
    "    1. [Recommendations](#reco)"
   ]
  },
  {
   "cell_type": "markdown",
   "metadata": {},
   "source": [
    "<a id=\"uploading\"></a> \n",
    "## Data Uploading"
   ]
  },
  {
   "cell_type": "markdown",
   "metadata": {},
   "source": [
    "<a id=\"sub_uploading\"></a> \n",
    "### Uploading data and viewing info"
   ]
  },
  {
   "cell_type": "code",
   "execution_count": 1,
   "metadata": {},
   "outputs": [],
   "source": [
    "# libraries\n",
    "import pandas as pd\n",
    "import numpy as np\n",
    "import matplotlib.pyplot as plt\n",
    "import seaborn as sns\n",
    "from scipy import stats as st\n",
    "import math as mth"
   ]
  },
  {
   "cell_type": "code",
   "execution_count": 2,
   "metadata": {},
   "outputs": [],
   "source": [
    "# set a chart style\n",
    "plt.style.use('fast')"
   ]
  },
  {
   "cell_type": "code",
   "execution_count": 3,
   "metadata": {},
   "outputs": [],
   "source": [
    "data = pd.read_csv('/datasets/bank_scrooge.csv')"
   ]
  },
  {
   "cell_type": "markdown",
   "metadata": {},
   "source": [
    "**CONCLUSION:**\n",
    "* We have uploaded data."
   ]
  },
  {
   "cell_type": "markdown",
   "metadata": {},
   "source": [
    "<a id=\"formats\"></a> \n",
    "### Checking data formats"
   ]
  },
  {
   "cell_type": "code",
   "execution_count": 4,
   "metadata": {},
   "outputs": [
    {
     "name": "stdout",
     "output_type": "stream",
     "text": [
      "<class 'pandas.core.frame.DataFrame'>\n",
      "RangeIndex: 10000 entries, 0 to 9999\n",
      "Data columns (total 12 columns):\n",
      " #   Column         Non-Null Count  Dtype  \n",
      "---  ------         --------------  -----  \n",
      " 0   USERID         10000 non-null  int64  \n",
      " 1   score          10000 non-null  float64\n",
      " 2   city           10000 non-null  object \n",
      " 3   gender         10000 non-null  object \n",
      " 4   age            9974 non-null   float64\n",
      " 5   equity         10000 non-null  int64  \n",
      " 6   balance        7705 non-null   float64\n",
      " 7   products       10000 non-null  int64  \n",
      " 8   credit_card    10000 non-null  int64  \n",
      " 9   last_activity  10000 non-null  int64  \n",
      " 10  EST_SALARY     10000 non-null  float64\n",
      " 11  churn          10000 non-null  int64  \n",
      "dtypes: float64(4), int64(6), object(2)\n",
      "memory usage: 937.6+ KB\n",
      "\n"
     ]
    },
    {
     "data": {
      "text/html": [
       "<div>\n",
       "<style scoped>\n",
       "    .dataframe tbody tr th:only-of-type {\n",
       "        vertical-align: middle;\n",
       "    }\n",
       "\n",
       "    .dataframe tbody tr th {\n",
       "        vertical-align: top;\n",
       "    }\n",
       "\n",
       "    .dataframe thead th {\n",
       "        text-align: right;\n",
       "    }\n",
       "</style>\n",
       "<table border=\"1\" class=\"dataframe\">\n",
       "  <thead>\n",
       "    <tr style=\"text-align: right;\">\n",
       "      <th></th>\n",
       "      <th>USERID</th>\n",
       "      <th>score</th>\n",
       "      <th>city</th>\n",
       "      <th>gender</th>\n",
       "      <th>age</th>\n",
       "      <th>equity</th>\n",
       "      <th>balance</th>\n",
       "      <th>products</th>\n",
       "      <th>credit_card</th>\n",
       "      <th>last_activity</th>\n",
       "      <th>EST_SALARY</th>\n",
       "      <th>churn</th>\n",
       "    </tr>\n",
       "  </thead>\n",
       "  <tbody>\n",
       "    <tr>\n",
       "      <th>0</th>\n",
       "      <td>183012</td>\n",
       "      <td>850.0</td>\n",
       "      <td>Рыбинск</td>\n",
       "      <td>Ж</td>\n",
       "      <td>25.0</td>\n",
       "      <td>1</td>\n",
       "      <td>59214.82</td>\n",
       "      <td>2</td>\n",
       "      <td>0</td>\n",
       "      <td>1</td>\n",
       "      <td>75719.14</td>\n",
       "      <td>1</td>\n",
       "    </tr>\n",
       "    <tr>\n",
       "      <th>1</th>\n",
       "      <td>146556</td>\n",
       "      <td>861.0</td>\n",
       "      <td>Рыбинск</td>\n",
       "      <td>Ж</td>\n",
       "      <td>37.0</td>\n",
       "      <td>5</td>\n",
       "      <td>850594.33</td>\n",
       "      <td>3</td>\n",
       "      <td>1</td>\n",
       "      <td>0</td>\n",
       "      <td>86621.77</td>\n",
       "      <td>0</td>\n",
       "    </tr>\n",
       "    <tr>\n",
       "      <th>2</th>\n",
       "      <td>120722</td>\n",
       "      <td>892.0</td>\n",
       "      <td>Рыбинск</td>\n",
       "      <td>Ж</td>\n",
       "      <td>30.0</td>\n",
       "      <td>0</td>\n",
       "      <td>NaN</td>\n",
       "      <td>1</td>\n",
       "      <td>1</td>\n",
       "      <td>1</td>\n",
       "      <td>107683.34</td>\n",
       "      <td>0</td>\n",
       "    </tr>\n",
       "    <tr>\n",
       "      <th>3</th>\n",
       "      <td>225363</td>\n",
       "      <td>866.0</td>\n",
       "      <td>Ярославль</td>\n",
       "      <td>Ж</td>\n",
       "      <td>51.0</td>\n",
       "      <td>5</td>\n",
       "      <td>1524746.26</td>\n",
       "      <td>2</td>\n",
       "      <td>0</td>\n",
       "      <td>1</td>\n",
       "      <td>174423.53</td>\n",
       "      <td>1</td>\n",
       "    </tr>\n",
       "    <tr>\n",
       "      <th>4</th>\n",
       "      <td>157978</td>\n",
       "      <td>730.0</td>\n",
       "      <td>Ярославль</td>\n",
       "      <td>М</td>\n",
       "      <td>34.0</td>\n",
       "      <td>5</td>\n",
       "      <td>174.00</td>\n",
       "      <td>1</td>\n",
       "      <td>1</td>\n",
       "      <td>0</td>\n",
       "      <td>67353.16</td>\n",
       "      <td>1</td>\n",
       "    </tr>\n",
       "  </tbody>\n",
       "</table>\n",
       "</div>"
      ],
      "text/plain": [
       "   USERID  score       city gender   age  equity     balance  products  \\\n",
       "0  183012  850.0    Рыбинск      Ж  25.0       1    59214.82         2   \n",
       "1  146556  861.0    Рыбинск      Ж  37.0       5   850594.33         3   \n",
       "2  120722  892.0    Рыбинск      Ж  30.0       0         NaN         1   \n",
       "3  225363  866.0  Ярославль      Ж  51.0       5  1524746.26         2   \n",
       "4  157978  730.0  Ярославль      М  34.0       5      174.00         1   \n",
       "\n",
       "   credit_card  last_activity  EST_SALARY  churn  \n",
       "0            0              1    75719.14      1  \n",
       "1            1              0    86621.77      0  \n",
       "2            1              1   107683.34      0  \n",
       "3            0              1   174423.53      1  \n",
       "4            1              0    67353.16      1  "
      ]
     },
     "execution_count": 4,
     "metadata": {},
     "output_type": "execute_result"
    }
   ],
   "source": [
    "data.info()\n",
    "print()\n",
    "data.head()"
   ]
  },
  {
   "cell_type": "markdown",
   "metadata": {},
   "source": [
    "**CONCLUSIONS:**\n",
    "* There are data on 10000 clients.\n",
    "* Data formats are correct.\n",
    "* There are gaps in the age and current balance data."
   ]
  },
  {
   "cell_type": "markdown",
   "metadata": {},
   "source": [
    "<a id=\"preprocessing\"></a> \n",
    "## Data preprocessing"
   ]
  },
  {
   "cell_type": "markdown",
   "metadata": {},
   "source": [
    "<a id=\"names\"></a> \n",
    "### Editing column names"
   ]
  },
  {
   "cell_type": "code",
   "execution_count": 5,
   "metadata": {},
   "outputs": [],
   "source": [
    "data = data.rename(columns={'USERID': 'user_id', 'EST_SALARY': 'est_salary'})"
   ]
  },
  {
   "cell_type": "markdown",
   "metadata": {},
   "source": [
    "**CONCLUSION:**\n",
    "* We have renamed the columns, getting rid of capital letters."
   ]
  },
  {
   "cell_type": "markdown",
   "metadata": {},
   "source": [
    "<a id=\"duplicates\"></a> \n",
    "### Checking data for explicit and implicit duplicates"
   ]
  },
  {
   "cell_type": "code",
   "execution_count": 6,
   "metadata": {
    "scrolled": true
   },
   "outputs": [
    {
     "name": "stdout",
     "output_type": "stream",
     "text": [
      "The number of explicit duplicates: 0\n",
      "\n",
      "The number of imlicit duplicates: 0\n",
      "\n",
      "The number of rows: 10000\n",
      "\n",
      "The number of unique IDs: 9927\n"
     ]
    }
   ],
   "source": [
    "# check for explicit duplicates\n",
    "print('The number of explicit duplicates: {}'.format(data.duplicated().sum()))\n",
    "print()\n",
    "\n",
    "# check for implicit duplicates: if the same client appeared in the database two or more times with a different id\n",
    "print('The number of imlicit duplicates: {}'.format(data.drop(columns='user_id').duplicated().sum()))\n",
    "print()\n",
    "\n",
    "# checking for unique user_id\n",
    "print('The number of rows: {}'.format(data['user_id'].count()))\n",
    "print()\n",
    "print('The number of unique IDs: {}'.format(data['user_id'].nunique()))"
   ]
  },
  {
   "cell_type": "markdown",
   "metadata": {},
   "source": [
    "There are cases of duplicated IDs. Let's check why this happened."
   ]
  },
  {
   "cell_type": "code",
   "execution_count": 7,
   "metadata": {},
   "outputs": [
    {
     "data": {
      "text/html": [
       "<div>\n",
       "<style scoped>\n",
       "    .dataframe tbody tr th:only-of-type {\n",
       "        vertical-align: middle;\n",
       "    }\n",
       "\n",
       "    .dataframe tbody tr th {\n",
       "        vertical-align: top;\n",
       "    }\n",
       "\n",
       "    .dataframe thead th {\n",
       "        text-align: right;\n",
       "    }\n",
       "</style>\n",
       "<table border=\"1\" class=\"dataframe\">\n",
       "  <thead>\n",
       "    <tr style=\"text-align: right;\">\n",
       "      <th></th>\n",
       "      <th>user_id</th>\n",
       "    </tr>\n",
       "    <tr>\n",
       "      <th>city</th>\n",
       "      <th></th>\n",
       "    </tr>\n",
       "  </thead>\n",
       "  <tbody>\n",
       "    <tr>\n",
       "      <th>Рыбинск</th>\n",
       "      <td>73</td>\n",
       "    </tr>\n",
       "    <tr>\n",
       "      <th>Ярославль</th>\n",
       "      <td>73</td>\n",
       "    </tr>\n",
       "  </tbody>\n",
       "</table>\n",
       "</div>"
      ],
      "text/plain": [
       "           user_id\n",
       "city              \n",
       "Рыбинск         73\n",
       "Ярославль       73"
      ]
     },
     "execution_count": 7,
     "metadata": {},
     "output_type": "execute_result"
    }
   ],
   "source": [
    "# checking which IDs are duplicated\n",
    "list_of_duplucated_id = (\n",
    "    data.groupby('user_id', as_index=False)\n",
    "    .agg({'city':'count'})\n",
    "    .rename(columns={'city': 'count'})\n",
    "    .sort_values('count', ascending=False)\n",
    "    .query('count > 1')\n",
    ")['user_id'].to_list()\n",
    "\n",
    "# check the assumption that different people in different cities can have the same ID\n",
    "data.query('user_id in @list_of_duplucated_id').sort_values('user_id').groupby('city').agg({'user_id': 'nunique'})"
   ]
  },
  {
   "cell_type": "markdown",
   "metadata": {},
   "source": [
    "**CONCLUSIONS:**\n",
    "* There are no duplicates in the database, both explicit and implicit.\n",
    "* There are 73 cases where different clients have the same ID. In all the cases, these people are in different cities. Apparently, this is due to the fact that each branch independently registers customers and does not have access to a common customer database. It is recommended to consolidate the customer base for each branch to avoid such cases"
   ]
  },
  {
   "cell_type": "markdown",
   "metadata": {},
   "source": [
    "<a id=\"gaps\"></a> \n",
    "### Exploring the gaps, assuming their causes"
   ]
  },
  {
   "cell_type": "code",
   "execution_count": 8,
   "metadata": {},
   "outputs": [],
   "source": [
    "# writing a function that will calculate the distribution of parameters for the presence and absence of age\n",
    "def passes_learning(data, parameter, distributions, means):\n",
    "    print('Examining gaps in a column ', parameter)\n",
    "    print()\n",
    "    \n",
    "    # for each value which we build the distribution by\n",
    "    for factor in distributions:\n",
    "        \n",
    "        # making a distribution for rows with an empty parameter\n",
    "        table = (\n",
    "            data[data[parameter].isna()]\n",
    "            .groupby(factor, as_index=False)\n",
    "            .agg({'user_id': 'count'})\n",
    "            .rename(columns={'user_id': 'empty'})\n",
    "        )\n",
    "        \n",
    "        # adding distribution for rows\n",
    "        table = (\n",
    "            data[~data[parameter].isna()]\n",
    "            .groupby(factor, as_index=False)\n",
    "            .agg({'user_id': 'count'})\n",
    "            .rename(columns={'user_id': 'filled'})\n",
    "        ).merge(table, how='outer', on=factor)\n",
    "        print('Distribution for ', factor)\n",
    "        print(table)\n",
    "        print()\n",
    "\n",
    "    # now calculating the average meanings by numeric indicators\n",
    "    table = pd.DataFrame(data[data[parameter].isna()][means].mean(), columns=['empty'])\n",
    "\n",
    "    # adding data for filled indicators\n",
    "    table['filled'] = pd.DataFrame(data[~data[parameter].isna()][means].mean())\n",
    "    \n",
    "    print('Mean')\n",
    "    print()\n",
    "    print(table.round())\n",
    "    print()\n",
    "\n",
    "    # calculating the average meanings by numeric indicators\n",
    "    table = pd.DataFrame(data[data[parameter].isna()][means].median(), columns=['empty'])\n",
    "\n",
    "    # adding data for filled indicators\n",
    "    table['filled'] = pd.DataFrame(data[~data[parameter].isna()][means].median())\n",
    "    \n",
    "    print('Median')\n",
    "    print()\n",
    "    print(table.round())\n",
    "    print()"
   ]
  },
  {
   "cell_type": "code",
   "execution_count": 9,
   "metadata": {},
   "outputs": [
    {
     "name": "stdout",
     "output_type": "stream",
     "text": [
      "Examining gaps in a column  age\n",
      "\n",
      "Distribution for  city\n",
      "        city  filled  empty\n",
      "0     Ростов    1416      1\n",
      "1    Рыбинск    2683     12\n",
      "2  Ярославль    5875     13\n",
      "\n",
      "Distribution for  gender\n",
      "  gender  filled  empty\n",
      "0      Ж    4983     12\n",
      "1      М    4991     14\n",
      "\n",
      "Distribution for  equity\n",
      "   equity  filled  empty\n",
      "0       0    2576   16.0\n",
      "1       1     773    1.0\n",
      "2       2    1051    1.0\n",
      "3       3    1541    2.0\n",
      "4       4    1847    3.0\n",
      "5       5    1915    3.0\n",
      "6       6     161    NaN\n",
      "7       7      80    NaN\n",
      "8       8      17    NaN\n",
      "9       9      13    NaN\n",
      "\n",
      "Distribution for  products\n",
      "   products  filled  empty\n",
      "0         0       1    NaN\n",
      "1         1    3323   18.0\n",
      "2         2    5119    7.0\n",
      "3         3    1038    1.0\n",
      "4         4     474    NaN\n",
      "5         5      19    NaN\n",
      "\n",
      "Distribution for  credit_card\n",
      "   credit_card  filled  empty\n",
      "0            0    3190      6\n",
      "1            1    6784     20\n",
      "\n",
      "Distribution for  last_activity\n",
      "   last_activity  filled  empty\n",
      "0              0    4759      6\n",
      "1              1    5215     20\n",
      "\n",
      "Distribution for  churn\n",
      "   churn  filled  empty\n",
      "0      0    8155     25\n",
      "1      1    1819      1\n",
      "\n",
      "Mean\n",
      "\n",
      "                empty    filled\n",
      "balance     1250034.0  827246.0\n",
      "est_salary   178585.0  147787.0\n",
      "\n",
      "Median\n",
      "\n",
      "               empty    filled\n",
      "balance     417361.0  524295.0\n",
      "est_salary  142599.0  119627.0\n",
      "\n"
     ]
    }
   ],
   "source": [
    "# build distributions for the unfilled and filled age\n",
    "passes_learning(data, 'age', ['city', 'gender', 'equity', 'products', 'credit_card', 'last_activity', 'churn'], ['balance', 'est_salary'])"
   ]
  },
  {
   "cell_type": "code",
   "execution_count": 10,
   "metadata": {
    "scrolled": true
   },
   "outputs": [
    {
     "name": "stdout",
     "output_type": "stream",
     "text": [
      "Examining gaps in a column  balance\n",
      "\n",
      "Distribution for  city\n",
      "        city  filled  empty\n",
      "0     Ростов    1182    235\n",
      "1    Рыбинск    2102    593\n",
      "2  Ярославль    4421   1467\n",
      "\n",
      "Distribution for  gender\n",
      "  gender  filled  empty\n",
      "0      Ж    3982   1013\n",
      "1      М    3723   1282\n",
      "\n",
      "Distribution for  equity\n",
      "   equity  filled   empty\n",
      "0       0     412  2180.0\n",
      "1       1     660   114.0\n",
      "2       2    1052     NaN\n",
      "3       3    1542     1.0\n",
      "4       4    1850     NaN\n",
      "5       5    1918     NaN\n",
      "6       6     161     NaN\n",
      "7       7      80     NaN\n",
      "8       8      17     NaN\n",
      "9       9      13     NaN\n",
      "\n",
      "Distribution for  products\n",
      "   products  filled   empty\n",
      "0         1  1391.0  1950.0\n",
      "1         2  4811.0   315.0\n",
      "2         3  1010.0    29.0\n",
      "3         4   474.0     NaN\n",
      "4         5    19.0     NaN\n",
      "5         0     NaN     1.0\n",
      "\n",
      "Distribution for  credit_card\n",
      "   credit_card  filled  empty\n",
      "0            0    2773    423\n",
      "1            1    4932   1872\n",
      "\n",
      "Distribution for  last_activity\n",
      "   last_activity  filled  empty\n",
      "0              0    3731   1034\n",
      "1              1    3974   1261\n",
      "\n",
      "Distribution for  churn\n",
      "   churn  filled  empty\n",
      "0      0    5898   2282\n",
      "1      1    1807     13\n",
      "\n",
      "Mean\n",
      "\n",
      "               empty    filled\n",
      "age             42.0      43.0\n",
      "est_salary  226310.0  124502.0\n",
      "\n",
      "Median\n",
      "\n",
      "               empty    filled\n",
      "age             40.0      40.0\n",
      "est_salary  174161.0  106222.0\n",
      "\n"
     ]
    }
   ],
   "source": [
    "# build distributions for the unfilled and filled balance\n",
    "passes_learning(data, 'balance', ['city', 'gender', 'equity', 'products', 'credit_card', 'last_activity', 'churn'], ['age', 'est_salary'])"
   ]
  },
  {
   "cell_type": "markdown",
   "metadata": {},
   "source": [
    "**CONCLUSIONS:**\n",
    "* No obvious regularities can be distinguished for age gaps. Для пропусков возраста нельзя выделить какие-то явные закономерности. These are probably random omissions (MCAR), and the reason is a technical error or a human factor, when age data is not filled in when registering a client in the system. At the same time, the bank must have passport data for each client.\n",
    "* Clients with a missed balance have some peculiarities. Most of these customers have 0 ownership points (sometimes 1 point, but no more) and most use only one product. Among these customers, there are many more of those who use a credit card. At the same time, the average and median salaries of such clients are significantly higher than those of clients who have a balance sheet. Also among the clients with a missed balance, there are very few who left. Most likely, these are non-random omissions (MNAR). Perhaps a missing balance means a negative value in the account. Need to check this."
   ]
  },
  {
   "cell_type": "markdown",
   "metadata": {},
   "source": [
    "<a id=\"gaps_filling\"></a> \n",
    "### Filling the gaps if necessary, delete the data or leave it as it is"
   ]
  },
  {
   "cell_type": "markdown",
   "metadata": {},
   "source": [
    "We cannot fill in the age gaps because there is no central trend. We also cannot fill in the gaps in the balance because there are some patterns and this data may depend on some other data in the dataset."
   ]
  },
  {
   "cell_type": "markdown",
   "metadata": {},
   "source": [
    "<a id=\"high_income\"></a> \n",
    "### Exploring clients with abnormally high income"
   ]
  },
  {
   "cell_type": "code",
   "execution_count": 11,
   "metadata": {
    "scrolled": true
   },
   "outputs": [
    {
     "name": "stderr",
     "output_type": "stream",
     "text": [
      "/opt/conda/lib/python3.9/site-packages/seaborn/_decorators.py:36: FutureWarning: Pass the following variable as a keyword arg: x. From version 0.12, the only valid positional argument will be `data`, and passing other arguments without an explicit keyword will result in an error or misinterpretation.\n",
      "  warnings.warn(\n",
      "/opt/conda/lib/python3.9/site-packages/seaborn/_decorators.py:36: FutureWarning: Pass the following variable as a keyword arg: x. From version 0.12, the only valid positional argument will be `data`, and passing other arguments without an explicit keyword will result in an error or misinterpretation.\n",
      "  warnings.warn(\n"
     ]
    },
    {
     "data": {
      "image/png": "[encoded data removed]",
      "text/plain": [
       "<Figure size 864x288 with 2 Axes>"
      ]
     },
     "metadata": {
      "needs_background": "light"
     },
     "output_type": "display_data"
    }
   ],
   "source": [
    "# Building a distribution of the customers salary\n",
    "fig, (ax1, ax2) = plt.subplots(1, 2, figsize=(12, 4))\n",
    "sns.violinplot(data['est_salary'], ax=ax1)\n",
    "ax1.set_title('Salary distribution')\n",
    "ax1.set_xlabel('Salary')\n",
    "sns.violinplot(data['est_salary'], ax=ax2)\n",
    "ax2.set_title('Salary distribution (0,3 - 1,4 mln.)')\n",
    "ax2.set_xlabel('Salary')\n",
    "ax2.set_xlim(300000, 1400000)\n",
    "ax2.set_ylim(-0.05, 0.05)\n",
    "plt.show()"
   ]
  },
  {
   "cell_type": "markdown",
   "metadata": {},
   "source": [
    "**CONCLUSIONS:**\n",
    "* 3.4% of clients have a salary above 400,000 rubles. At the same time, there are no individual values that stand out too much. 3.4% is a fairly large proportion of clients, and these are also probably important clients for the bank, because can hold a lot of money. It would be a mistake to exclude them all. Therefore, we leave the complete data in the dataset."
   ]
  },
  {
   "cell_type": "markdown",
   "metadata": {},
   "source": [
    "<a id=\"high_balances\"></a> \n",
    "### Exploring clients with abnormally high balances"
   ]
  },
  {
   "cell_type": "code",
   "execution_count": 12,
   "metadata": {
    "scrolled": false
   },
   "outputs": [
    {
     "name": "stderr",
     "output_type": "stream",
     "text": [
      "/opt/conda/lib/python3.9/site-packages/seaborn/_decorators.py:36: FutureWarning: Pass the following variable as a keyword arg: x. From version 0.12, the only valid positional argument will be `data`, and passing other arguments without an explicit keyword will result in an error or misinterpretation.\n",
      "  warnings.warn(\n",
      "/opt/conda/lib/python3.9/site-packages/seaborn/_decorators.py:36: FutureWarning: Pass the following variable as a keyword arg: x. From version 0.12, the only valid positional argument will be `data`, and passing other arguments without an explicit keyword will result in an error or misinterpretation.\n",
      "  warnings.warn(\n"
     ]
    },
    {
     "data": {
      "image/png": "[encoded data removed]",
      "text/plain": [
       "<Figure size 864x288 with 2 Axes>"
      ]
     },
     "metadata": {
      "needs_background": "light"
     },
     "output_type": "display_data"
    }
   ],
   "source": [
    "# Building a distribution of the customers balance\n",
    "fig, (ax1, ax2) = plt.subplots(1, 2, figsize=(12, 4))\n",
    "sns.violinplot(data['balance'], ax=ax1)\n",
    "ax1.set_title('Balance distribution')\n",
    "ax1.set_xlabel('Balance')\n",
    "sns.violinplot(data['balance'], ax=ax2)\n",
    "ax2.set_title('Balance distribution (2-20 mln.)')\n",
    "ax2.set_xlabel('Balance')\n",
    "ax2.set_xlim(2000000, 20000000)\n",
    "ax2.set_ylim(-0.05, 0.05)\n",
    "plt.show()"
   ]
  },
  {
   "cell_type": "markdown",
   "metadata": {},
   "source": [
    "After a balance of 7 million rubles, the number of people drops sharply. There are also extremely high values. Calculate user shares below a certain value."
   ]
  },
  {
   "cell_type": "code",
   "execution_count": 13,
   "metadata": {},
   "outputs": [
    {
     "name": "stdout",
     "output_type": "stream",
     "text": [
      "The share of customers with a balance greater than 5 mln. rubles: 0.73%\n",
      "The share of customers with a balance greater than 6 mln. rubles: 0.50%\n",
      "The share of customers with a balance greater than 7 mln. rubles: 0.35%\n",
      "The share of customers with a balance greater than 7.5 mln. rubles: 0.33%\n",
      "The share of customers with a balance greater than 8 mln. rubles: 0.31%\n",
      "The share of customers with a balance greater than 10 mln. rubles: 0.27%\n"
     ]
    }
   ],
   "source": [
    "# calculating the number of customers with a balance greater than different values\n",
    "for i in [5, 6, 7, 7.5, 8, 10]:\n",
    "    j = i * 1000000\n",
    "    share = len(data.query('balance > @j')) / len(data) * 100\n",
    "    print(f\"The share of customers with a balance greater than {i} mln. rubles: {share:.2f}%\")"
   ]
  },
  {
   "cell_type": "markdown",
   "metadata": {},
   "source": [
    "We will remove clients with a balance of more than 7 million rubles from the dataset. There are very few such clients but they can have a very large impact on averages."
   ]
  },
  {
   "cell_type": "code",
   "execution_count": 14,
   "metadata": {},
   "outputs": [
    {
     "name": "stdout",
     "output_type": "stream",
     "text": [
      "<class 'pandas.core.frame.DataFrame'>\n",
      "Int64Index: 9965 entries, 0 to 9999\n",
      "Data columns (total 12 columns):\n",
      " #   Column         Non-Null Count  Dtype  \n",
      "---  ------         --------------  -----  \n",
      " 0   user_id        9965 non-null   int64  \n",
      " 1   score          9965 non-null   float64\n",
      " 2   city           9965 non-null   object \n",
      " 3   gender         9965 non-null   object \n",
      " 4   age            9940 non-null   float64\n",
      " 5   equity         9965 non-null   int64  \n",
      " 6   balance        7670 non-null   float64\n",
      " 7   products       9965 non-null   int64  \n",
      " 8   credit_card    9965 non-null   int64  \n",
      " 9   last_activity  9965 non-null   int64  \n",
      " 10  est_salary     9965 non-null   float64\n",
      " 11  churn          9965 non-null   int64  \n",
      "dtypes: float64(4), int64(6), object(2)\n",
      "memory usage: 1012.1+ KB\n"
     ]
    }
   ],
   "source": [
    "data = data[(data['balance'] <= 7000000) | (data['balance'].isna())]\n",
    "data.info()"
   ]
  },
  {
   "cell_type": "markdown",
   "metadata": {},
   "source": [
    "**CONCLUSIONS:**\n",
    "* We have removed clients with a balance above 7 million rubles from the dataset so that these clients do not have too much influence on the calculation."
   ]
  },
  {
   "cell_type": "markdown",
   "metadata": {},
   "source": [
    "<a id=\"encoding\"></a> \n",
    "### Encoding data for correlation calculations"
   ]
  },
  {
   "cell_type": "code",
   "execution_count": 16,
   "metadata": {},
   "outputs": [
    {
     "data": {
      "text/html": [
       "<div>\n",
       "<style scoped>\n",
       "    .dataframe tbody tr th:only-of-type {\n",
       "        vertical-align: middle;\n",
       "    }\n",
       "\n",
       "    .dataframe tbody tr th {\n",
       "        vertical-align: top;\n",
       "    }\n",
       "\n",
       "    .dataframe thead th {\n",
       "        text-align: right;\n",
       "    }\n",
       "</style>\n",
       "<table border=\"1\" class=\"dataframe\">\n",
       "  <thead>\n",
       "    <tr style=\"text-align: right;\">\n",
       "      <th></th>\n",
       "      <th>user_id</th>\n",
       "      <th>score</th>\n",
       "      <th>city</th>\n",
       "      <th>gender</th>\n",
       "      <th>age</th>\n",
       "      <th>equity</th>\n",
       "      <th>balance</th>\n",
       "      <th>products</th>\n",
       "      <th>credit_card</th>\n",
       "      <th>last_activity</th>\n",
       "      <th>est_salary</th>\n",
       "      <th>churn</th>\n",
       "      <th>city_is_Ростов</th>\n",
       "      <th>city_is_Рыбинск</th>\n",
       "      <th>city_is_Ярославль</th>\n",
       "      <th>gender_is_Ж</th>\n",
       "      <th>gender_is_М</th>\n",
       "    </tr>\n",
       "  </thead>\n",
       "  <tbody>\n",
       "    <tr>\n",
       "      <th>0</th>\n",
       "      <td>183012</td>\n",
       "      <td>850.0</td>\n",
       "      <td>Рыбинск</td>\n",
       "      <td>Ж</td>\n",
       "      <td>25.0</td>\n",
       "      <td>1</td>\n",
       "      <td>59214.82</td>\n",
       "      <td>2</td>\n",
       "      <td>0</td>\n",
       "      <td>1</td>\n",
       "      <td>75719.14</td>\n",
       "      <td>1</td>\n",
       "      <td>0</td>\n",
       "      <td>1</td>\n",
       "      <td>0</td>\n",
       "      <td>1</td>\n",
       "      <td>0</td>\n",
       "    </tr>\n",
       "    <tr>\n",
       "      <th>1</th>\n",
       "      <td>146556</td>\n",
       "      <td>861.0</td>\n",
       "      <td>Рыбинск</td>\n",
       "      <td>Ж</td>\n",
       "      <td>37.0</td>\n",
       "      <td>5</td>\n",
       "      <td>850594.33</td>\n",
       "      <td>3</td>\n",
       "      <td>1</td>\n",
       "      <td>0</td>\n",
       "      <td>86621.77</td>\n",
       "      <td>0</td>\n",
       "      <td>0</td>\n",
       "      <td>1</td>\n",
       "      <td>0</td>\n",
       "      <td>1</td>\n",
       "      <td>0</td>\n",
       "    </tr>\n",
       "    <tr>\n",
       "      <th>2</th>\n",
       "      <td>120722</td>\n",
       "      <td>892.0</td>\n",
       "      <td>Рыбинск</td>\n",
       "      <td>Ж</td>\n",
       "      <td>30.0</td>\n",
       "      <td>0</td>\n",
       "      <td>NaN</td>\n",
       "      <td>1</td>\n",
       "      <td>1</td>\n",
       "      <td>1</td>\n",
       "      <td>107683.34</td>\n",
       "      <td>0</td>\n",
       "      <td>0</td>\n",
       "      <td>1</td>\n",
       "      <td>0</td>\n",
       "      <td>1</td>\n",
       "      <td>0</td>\n",
       "    </tr>\n",
       "    <tr>\n",
       "      <th>3</th>\n",
       "      <td>225363</td>\n",
       "      <td>866.0</td>\n",
       "      <td>Ярославль</td>\n",
       "      <td>Ж</td>\n",
       "      <td>51.0</td>\n",
       "      <td>5</td>\n",
       "      <td>1524746.26</td>\n",
       "      <td>2</td>\n",
       "      <td>0</td>\n",
       "      <td>1</td>\n",
       "      <td>174423.53</td>\n",
       "      <td>1</td>\n",
       "      <td>0</td>\n",
       "      <td>0</td>\n",
       "      <td>1</td>\n",
       "      <td>1</td>\n",
       "      <td>0</td>\n",
       "    </tr>\n",
       "    <tr>\n",
       "      <th>4</th>\n",
       "      <td>157978</td>\n",
       "      <td>730.0</td>\n",
       "      <td>Ярославль</td>\n",
       "      <td>М</td>\n",
       "      <td>34.0</td>\n",
       "      <td>5</td>\n",
       "      <td>174.00</td>\n",
       "      <td>1</td>\n",
       "      <td>1</td>\n",
       "      <td>0</td>\n",
       "      <td>67353.16</td>\n",
       "      <td>1</td>\n",
       "      <td>0</td>\n",
       "      <td>0</td>\n",
       "      <td>1</td>\n",
       "      <td>0</td>\n",
       "      <td>1</td>\n",
       "    </tr>\n",
       "  </tbody>\n",
       "</table>\n",
       "</div>"
      ],
      "text/plain": [
       "   user_id  score       city gender   age  equity     balance  products  \\\n",
       "0   183012  850.0    Рыбинск      Ж  25.0       1    59214.82         2   \n",
       "1   146556  861.0    Рыбинск      Ж  37.0       5   850594.33         3   \n",
       "2   120722  892.0    Рыбинск      Ж  30.0       0         NaN         1   \n",
       "3   225363  866.0  Ярославль      Ж  51.0       5  1524746.26         2   \n",
       "4   157978  730.0  Ярославль      М  34.0       5      174.00         1   \n",
       "\n",
       "   credit_card  last_activity  est_salary  churn  city_is_Ростов  \\\n",
       "0            0              1    75719.14      1               0   \n",
       "1            1              0    86621.77      0               0   \n",
       "2            1              1   107683.34      0               0   \n",
       "3            0              1   174423.53      1               0   \n",
       "4            1              0    67353.16      1               0   \n",
       "\n",
       "   city_is_Рыбинск  city_is_Ярославль  gender_is_Ж  gender_is_М  \n",
       "0                1                  0            1            0  \n",
       "1                1                  0            1            0  \n",
       "2                1                  0            1            0  \n",
       "3                0                  1            1            0  \n",
       "4                0                  1            0            1  "
      ]
     },
     "execution_count": 16,
     "metadata": {},
     "output_type": "execute_result"
    }
   ],
   "source": [
    "# copying the required columns\n",
    "data['city_is'] = data['city']\n",
    "data['gender_is'] = data['gender']\n",
    "\n",
    "# encoding\n",
    "data = pd.get_dummies(data, columns=['city_is', 'gender_is'])\n",
    "\n",
    "data.head()"
   ]
  },
  {
   "cell_type": "markdown",
   "metadata": {},
   "source": [
    "**CONCLUSIONS:**\n",
    "* We have encoded categorical variables for correlation analysis."
   ]
  },
  {
   "cell_type": "markdown",
   "metadata": {},
   "source": [
    "<a id=\"EDA\"></a> \n",
    "## EDA"
   ]
  },
  {
   "cell_type": "markdown",
   "metadata": {},
   "source": [
    "<a id=\"distributions\"></a> \n",
    "### Building histograms of feature distribution"
   ]
  },
  {
   "cell_type": "code",
   "execution_count": 17,
   "metadata": {
    "scrolled": false
   },
   "outputs": [
    {
     "data": {
      "image/png": "[encoded data removed]",
      "text/plain": [
       "<Figure size 576x288 with 1 Axes>"
      ]
     },
     "metadata": {
      "needs_background": "light"
     },
     "output_type": "display_data"
    },
    {
     "data": {
      "image/png": "[encoded data removed]",
      "text/plain": [
       "<Figure size 576x288 with 1 Axes>"
      ]
     },
     "metadata": {
      "needs_background": "light"
     },
     "output_type": "display_data"
    },
    {
     "data": {
      "image/png": "[encoded data removed]",
      "text/plain": [
       "<Figure size 576x288 with 1 Axes>"
      ]
     },
     "metadata": {
      "needs_background": "light"
     },
     "output_type": "display_data"
    },
    {
     "data": {
      "image/png": "[encoded data removed]",
      "text/plain": [
       "<Figure size 576x288 with 1 Axes>"
      ]
     },
     "metadata": {
      "needs_background": "light"
     },
     "output_type": "display_data"
    },
    {
     "data": {
      "image/png": "[encoded data removed]",
      "text/plain": [
       "<Figure size 576x288 with 1 Axes>"
      ]
     },
     "metadata": {
      "needs_background": "light"
     },
     "output_type": "display_data"
    },
    {
     "data": {
      "image/png": "[encoded data removed]",
      "text/plain": [
       "<Figure size 576x288 with 1 Axes>"
      ]
     },
     "metadata": {
      "needs_background": "light"
     },
     "output_type": "display_data"
    },
    {
     "data": {
      "image/png": "[encoded data removed]",
      "text/plain": [
       "<Figure size 288x288 with 1 Axes>"
      ]
     },
     "metadata": {},
     "output_type": "display_data"
    },
    {
     "data": {
      "image/png": "[encoded data removed]",
      "text/plain": [
       "<Figure size 288x288 with 1 Axes>"
      ]
     },
     "metadata": {},
     "output_type": "display_data"
    },
    {
     "data": {
      "image/png": "[encoded data removed]",
      "text/plain": [
       "<Figure size 288x288 with 1 Axes>"
      ]
     },
     "metadata": {},
     "output_type": "display_data"
    },
    {
     "data": {
      "image/png": "[encoded data removed]",
      "text/plain": [
       "<Figure size 288x288 with 1 Axes>"
      ]
     },
     "metadata": {},
     "output_type": "display_data"
    },
    {
     "data": {
      "image/png": "[encoded data removed]",
      "text/plain": [
       "<Figure size 288x288 with 1 Axes>"
      ]
     },
     "metadata": {},
     "output_type": "display_data"
    }
   ],
   "source": [
    "# distribution for numeric parameters\n",
    "for param in ['age', 'equity', 'products', 'score']:\n",
    "    plt.figure(figsize=(8,4))\n",
    "    bins = int(data[param].max() - data[param].min() + 1)\n",
    "    ax = sns.histplot(data=data, x=param, bins=bins)\n",
    "    title = 'Distribution by the parameter: ' + param\n",
    "    ax.set_title(title)\n",
    "    ax.set_xlabel(param)\n",
    "    ax.set_ylabel('Amount of clients')\n",
    "    plt.show()\n",
    "\n",
    "# distribution for continuous numerical parameters for a very large number of possible numbers (cut off values above 2.5 million)\n",
    "for param in ['balance', 'est_salary']:\n",
    "    plt.figure(figsize=(8,4))\n",
    "    ax = sns.violinplot(data=data[data[param] <= 2500000], x=param)\n",
    "    title = 'Distribution by the parameter: ' + param\n",
    "    ax.set_title(title)\n",
    "    ax.set_ylabel(param)\n",
    "    #ax.set_ylabel('Количество клиентов')\n",
    "    plt.show()\n",
    "\n",
    "# distribution for categorical parameters\n",
    "for param in ['city', 'gender', 'credit_card', 'last_activity', 'churn']:\n",
    "    report = (\n",
    "        data.groupby(by=param, as_index=False)\n",
    "        .agg({'user_id': 'count'})\n",
    "        .sort_values(by='user_id', ascending=False)\n",
    "    )\n",
    "    fig, ax = plt.subplots(figsize=(4,4))\n",
    "    ax.pie(report['user_id'], labels=report[param], autopct='%0.1f%%')\n",
    "    title = 'Distribution by the parameter: ' + param\n",
    "    ax.set_title(title)\n",
    "    plt.show()"
   ]
  },
  {
   "cell_type": "markdown",
   "metadata": {},
   "source": [
    "**CONCLUSIONS:**\n",
    "* Overall churn rate - 18%.\n",
    "* The shares of men and women are equal.\n",
    "* 68% customers have a credit card.\n",
    "* 52% customers are active users.\n",
    "* 59% clients are in Yaroslavl.\n",
    "* Most of the clients are between 30 and 45 years old.\n",
    "* Most customers have two or one product.\n",
    "* Scoring is generally in the range of 770 to 940 points.\n",
    "* The most frequent balance on the account is from 100 to 600 thousand rubles.\n",
    "* The most common property rating is 0 points. At the same time, few have a score of 1. From 1 to 5 the score rises then drops sharply."
   ]
  },
  {
   "cell_type": "markdown",
   "metadata": {},
   "source": [
    "<a id=\"categorical\"></a> \n",
    "### Building the distribution of categorical features in the context of churn"
   ]
  },
  {
   "cell_type": "code",
   "execution_count": 18,
   "metadata": {
    "scrolled": false
   },
   "outputs": [
    {
     "data": {
      "image/png": "[encoded data removed]",
      "text/plain": [
       "<Figure size 360x360 with 1 Axes>"
      ]
     },
     "metadata": {
      "needs_background": "light"
     },
     "output_type": "display_data"
    },
    {
     "data": {
      "image/png": "[encoded data removed]",
      "text/plain": [
       "<Figure size 360x360 with 1 Axes>"
      ]
     },
     "metadata": {
      "needs_background": "light"
     },
     "output_type": "display_data"
    },
    {
     "data": {
      "image/png": "[encoded data removed]",
      "text/plain": [
       "<Figure size 360x360 with 1 Axes>"
      ]
     },
     "metadata": {
      "needs_background": "light"
     },
     "output_type": "display_data"
    },
    {
     "data": {
      "image/png": "[encoded data removed]",
      "text/plain": [
       "<Figure size 360x360 with 1 Axes>"
      ]
     },
     "metadata": {
      "needs_background": "light"
     },
     "output_type": "display_data"
    },
    {
     "data": {
      "image/png": "[encoded data removed]",
      "text/plain": [
       "<Figure size 576x360 with 1 Axes>"
      ]
     },
     "metadata": {
      "needs_background": "light"
     },
     "output_type": "display_data"
    },
    {
     "data": {
      "image/png": "[encoded data removed]",
      "text/plain": [
       "<Figure size 576x360 with 1 Axes>"
      ]
     },
     "metadata": {
      "needs_background": "light"
     },
     "output_type": "display_data"
    }
   ],
   "source": [
    "# distrubution for categorical parameters\n",
    "for param in ['city', 'gender', 'credit_card', 'last_activity']:\n",
    "    plt.figure(figsize=(5,5))\n",
    "    ax = sns.barplot(data=data, y='churn', x=param)\n",
    "    title = 'Churn by the parameter: ' + param\n",
    "    ax.set_title(title)\n",
    "    plt.axhline(data['churn'].mean(), linestyle='--', color='red')\n",
    "    plt.show()\n",
    "\n",
    "# distribution for categorical parameters with more options\n",
    "for param in ['equity', 'products']:\n",
    "    plt.figure(figsize=(8,5))\n",
    "    # excluding the only case when the number of products is zero\n",
    "    if param == 'products':\n",
    "        ax = sns.barplot(data=data.query('products > 0'), y='churn', x=param)\n",
    "    else:\n",
    "        ax = sns.barplot(data=data, y='churn', x=param)\n",
    "    title = 'Отток по параметру: ' + param\n",
    "    ax.set_title(title)\n",
    "    plt.axhline(data['churn'].mean(), linestyle='--', color='red')\n",
    "    plt.show()"
   ]
  },
  {
   "cell_type": "markdown",
   "metadata": {},
   "source": [
    "**CONCLUSIONS:**\n",
    "* For Yaroslavl and Rostov, the churn is slightly more typical than for Rybinsk.\n",
    "* For men, the churn is more typical than for women.\n",
    "* Customers with a credit card leave less often.\n",
    "* Active clients leave more often."
   ]
  },
  {
   "cell_type": "markdown",
   "metadata": {},
   "source": [
    "<a id=\"numeric\"></a> \n",
    "### For numeric features, determining the ranges with a high churn"
   ]
  },
  {
   "cell_type": "code",
   "execution_count": 19,
   "metadata": {},
   "outputs": [
    {
     "data": {
      "image/png": "[encoded data removed]",
      "text/plain": [
       "<Figure size 864x288 with 1 Axes>"
      ]
     },
     "metadata": {
      "needs_background": "light"
     },
     "output_type": "display_data"
    },
    {
     "data": {
      "image/png": "[encoded data removed]",
      "text/plain": [
       "<Figure size 864x288 with 1 Axes>"
      ]
     },
     "metadata": {
      "needs_background": "light"
     },
     "output_type": "display_data"
    },
    {
     "data": {
      "image/png": "[encoded data removed]",
      "text/plain": [
       "<Figure size 864x288 with 1 Axes>"
      ]
     },
     "metadata": {
      "needs_background": "light"
     },
     "output_type": "display_data"
    },
    {
     "data": {
      "image/png": "[encoded data removed]",
      "text/plain": [
       "<Figure size 864x288 with 1 Axes>"
      ]
     },
     "metadata": {
      "needs_background": "light"
     },
     "output_type": "display_data"
    }
   ],
   "source": [
    "# distribution for numeric parameters\n",
    "for param in ['age', 'score', 'balance', 'est_salary']:\n",
    "    plt.figure(figsize=(12,4))\n",
    "    \n",
    "    # setting the number of intervals\n",
    "    if data[param].nunique() <= 100:\n",
    "        bins = int(data[param].max() - data[param].min() + 1)\n",
    "    else:\n",
    "        bins = 100\n",
    "    \n",
    "    # building the distribution\n",
    "    ax = sns.histplot(data=data[data[param] <= 7000000], x=param, bins=bins, hue='churn', stat='density', common_norm=False)\n",
    "    title = 'Churn by the parameter: ' + param\n",
    "    ax.set_title(title)\n",
    "    ax.set_xlabel(param)\n",
    "    ax.set_ylabel('Share of clients')\n",
    "    plt.show()"
   ]
  },
  {
   "cell_type": "code",
   "execution_count": 20,
   "metadata": {},
   "outputs": [
    {
     "data": {
      "image/png": "[encoded data removed]",
      "text/plain": [
       "<Figure size 864x288 with 1 Axes>"
      ]
     },
     "metadata": {
      "needs_background": "light"
     },
     "output_type": "display_data"
    },
    {
     "data": {
      "image/png": "[encoded data removed]",
      "text/plain": [
       "<Figure size 864x288 with 1 Axes>"
      ]
     },
     "metadata": {
      "needs_background": "light"
     },
     "output_type": "display_data"
    }
   ],
   "source": [
    "# limiting the tail for balance\n",
    "plt.figure(figsize=(12,4))\n",
    "ax = sns.histplot(data=data, x='balance', bins=100, hue='churn', stat='density', common_norm=False)\n",
    "ax.set_title('Churn by the parameter: balance')\n",
    "ax.set_xlabel('balance')\n",
    "ax.set_ylabel('Share of clients')\n",
    "plt.xlim(0, 2000000)\n",
    "plt.show()\n",
    "\n",
    "# limiting the tail for wage\n",
    "plt.figure(figsize=(12,4))\n",
    "ax = sns.histplot(data=data, x='est_salary', bins=100, hue='churn', stat='density', common_norm=False)\n",
    "ax.set_title('Churn by the parameter: est_salary')\n",
    "ax.set_xlabel('est_salary')\n",
    "ax.set_ylabel('Share of clients')\n",
    "plt.xlim(0, 300000)\n",
    "plt.show()"
   ]
  },
  {
   "cell_type": "markdown",
   "metadata": {},
   "source": [
    "**CONCLUSIONS:**\n",
    "* There are two age ranges where the churn rate is higher: 25-35 years old and 50-60 years old.\n",
    "\n",
    "In addition, customers which leave more often are customers:\n",
    "* who have a property score of 3 or higher,\n",
    "* who have 2 products or more,\n",
    "* who have from 830 to 910 scoring points,\n",
    "* with a balance above 750 thousand rubles,\n",
    "* with a salary above from 100 to 210 thousand rubles."
   ]
  },
  {
   "cell_type": "markdown",
   "metadata": {},
   "source": [
    "<a id=\"profile\"></a> \n",
    "### Compiling a customer profile in terms of churn"
   ]
  },
  {
   "cell_type": "code",
   "execution_count": 21,
   "metadata": {
    "scrolled": false
   },
   "outputs": [
    {
     "data": {
      "text/html": [
       "<style  type=\"text/css\" >\n",
       "</style><table id=\"T_e0ffa_\" ><thead>    <tr>        <th class=\"blank level0\" ></th>        <th class=\"col_heading level0 col0\" >parameter</th>        <th class=\"col_heading level0 col1\" >churn</th>        <th class=\"col_heading level0 col2\" >no_churn</th>        <th class=\"col_heading level0 col3\" >difference</th>    </tr></thead><tbody>\n",
       "                <tr>\n",
       "                        <th id=\"T_e0ffa_level0_row0\" class=\"row_heading level0 row0\" >0</th>\n",
       "                        <td id=\"T_e0ffa_row0_col0\" class=\"data row0 col0\" >Av. age</td>\n",
       "                        <td id=\"T_e0ffa_row0_col1\" class=\"data row0 col1\" >41.426593</td>\n",
       "                        <td id=\"T_e0ffa_row0_col2\" class=\"data row0 col2\" >43.017578</td>\n",
       "                        <td id=\"T_e0ffa_row0_col3\" class=\"data row0 col3\" >-3.7%</td>\n",
       "            </tr>\n",
       "            <tr>\n",
       "                        <th id=\"T_e0ffa_level0_row1\" class=\"row_heading level0 row1\" >1</th>\n",
       "                        <td id=\"T_e0ffa_row1_col0\" class=\"data row1 col0\" >Av. balance</td>\n",
       "                        <td id=\"T_e0ffa_row1_col1\" class=\"data row1 col1\" >1014732.986754</td>\n",
       "                        <td id=\"T_e0ffa_row1_col2\" class=\"data row1 col2\" >664258.074267</td>\n",
       "                        <td id=\"T_e0ffa_row1_col3\" class=\"data row1 col3\" >52.8%</td>\n",
       "            </tr>\n",
       "            <tr>\n",
       "                        <th id=\"T_e0ffa_level0_row2\" class=\"row_heading level0 row2\" >2</th>\n",
       "                        <td id=\"T_e0ffa_row2_col0\" class=\"data row2 col0\" >Av. est_salary</td>\n",
       "                        <td id=\"T_e0ffa_row2_col1\" class=\"data row2 col1\" >143707.854474</td>\n",
       "                        <td id=\"T_e0ffa_row2_col2\" class=\"data row2 col2\" >146252.489032</td>\n",
       "                        <td id=\"T_e0ffa_row2_col3\" class=\"data row2 col3\" >-1.7%</td>\n",
       "            </tr>\n",
       "            <tr>\n",
       "                        <th id=\"T_e0ffa_level0_row3\" class=\"row_heading level0 row3\" >3</th>\n",
       "                        <td id=\"T_e0ffa_row3_col0\" class=\"data row3 col0\" >Av. score</td>\n",
       "                        <td id=\"T_e0ffa_row3_col1\" class=\"data row3 col1\" >862.686600</td>\n",
       "                        <td id=\"T_e0ffa_row3_col2\" class=\"data row3 col2\" >845.159211</td>\n",
       "                        <td id=\"T_e0ffa_row3_col3\" class=\"data row3 col3\" >2.1%</td>\n",
       "            </tr>\n",
       "            <tr>\n",
       "                        <th id=\"T_e0ffa_level0_row4\" class=\"row_heading level0 row4\" >4</th>\n",
       "                        <td id=\"T_e0ffa_row4_col0\" class=\"data row4 col0\" >Av. credit_card</td>\n",
       "                        <td id=\"T_e0ffa_row4_col1\" class=\"data row4 col1\" >0.550941</td>\n",
       "                        <td id=\"T_e0ffa_row4_col2\" class=\"data row4 col2\" >0.709646</td>\n",
       "                        <td id=\"T_e0ffa_row4_col3\" class=\"data row4 col3\" >-22.4%</td>\n",
       "            </tr>\n",
       "            <tr>\n",
       "                        <th id=\"T_e0ffa_level0_row5\" class=\"row_heading level0 row5\" >5</th>\n",
       "                        <td id=\"T_e0ffa_row5_col0\" class=\"data row5 col0\" >Av. last_activity</td>\n",
       "                        <td id=\"T_e0ffa_row5_col1\" class=\"data row5 col1\" >0.700443</td>\n",
       "                        <td id=\"T_e0ffa_row5_col2\" class=\"data row5 col2\" >0.483515</td>\n",
       "                        <td id=\"T_e0ffa_row5_col3\" class=\"data row5 col3\" >44.9%</td>\n",
       "            </tr>\n",
       "            <tr>\n",
       "                        <th id=\"T_e0ffa_level0_row6\" class=\"row_heading level0 row6\" >6</th>\n",
       "                        <td id=\"T_e0ffa_row6_col0\" class=\"data row6 col0\" >Median of balance</td>\n",
       "                        <td id=\"T_e0ffa_row6_col1\" class=\"data row6 col1\" >775333.240000</td>\n",
       "                        <td id=\"T_e0ffa_row6_col2\" class=\"data row6 col2\" >474379.890000</td>\n",
       "                        <td id=\"T_e0ffa_row6_col3\" class=\"data row6 col3\" >nan%</td>\n",
       "            </tr>\n",
       "            <tr>\n",
       "                        <th id=\"T_e0ffa_level0_row7\" class=\"row_heading level0 row7\" >7</th>\n",
       "                        <td id=\"T_e0ffa_row7_col0\" class=\"data row7 col0\" >Median of est_salary</td>\n",
       "                        <td id=\"T_e0ffa_row7_col1\" class=\"data row7 col1\" >124848.695000</td>\n",
       "                        <td id=\"T_e0ffa_row7_col2\" class=\"data row7 col2\" >118068.800000</td>\n",
       "                        <td id=\"T_e0ffa_row7_col3\" class=\"data row7 col3\" >nan%</td>\n",
       "            </tr>\n",
       "            <tr>\n",
       "                        <th id=\"T_e0ffa_level0_row8\" class=\"row_heading level0 row8\" >8</th>\n",
       "                        <td id=\"T_e0ffa_row8_col0\" class=\"data row8 col0\" >Median of equity</td>\n",
       "                        <td id=\"T_e0ffa_row8_col1\" class=\"data row8 col1\" >4.000000</td>\n",
       "                        <td id=\"T_e0ffa_row8_col2\" class=\"data row8 col2\" >3.000000</td>\n",
       "                        <td id=\"T_e0ffa_row8_col3\" class=\"data row8 col3\" >nan%</td>\n",
       "            </tr>\n",
       "            <tr>\n",
       "                        <th id=\"T_e0ffa_level0_row9\" class=\"row_heading level0 row9\" >9</th>\n",
       "                        <td id=\"T_e0ffa_row9_col0\" class=\"data row9 col0\" >Median of products</td>\n",
       "                        <td id=\"T_e0ffa_row9_col1\" class=\"data row9 col1\" >2.000000</td>\n",
       "                        <td id=\"T_e0ffa_row9_col2\" class=\"data row9 col2\" >2.000000</td>\n",
       "                        <td id=\"T_e0ffa_row9_col3\" class=\"data row9 col3\" >nan%</td>\n",
       "            </tr>\n",
       "            <tr>\n",
       "                        <th id=\"T_e0ffa_level0_row10\" class=\"row_heading level0 row10\" >10</th>\n",
       "                        <td id=\"T_e0ffa_row10_col0\" class=\"data row10 col0\" >Mode of gender</td>\n",
       "                        <td id=\"T_e0ffa_row10_col1\" class=\"data row10 col1\" >М</td>\n",
       "                        <td id=\"T_e0ffa_row10_col2\" class=\"data row10 col2\" >Ж</td>\n",
       "                        <td id=\"T_e0ffa_row10_col3\" class=\"data row10 col3\" >nan%</td>\n",
       "            </tr>\n",
       "            <tr>\n",
       "                        <th id=\"T_e0ffa_level0_row11\" class=\"row_heading level0 row11\" >11</th>\n",
       "                        <td id=\"T_e0ffa_row11_col0\" class=\"data row11 col0\" >Mode of city</td>\n",
       "                        <td id=\"T_e0ffa_row11_col1\" class=\"data row11 col1\" >Ярославль</td>\n",
       "                        <td id=\"T_e0ffa_row11_col2\" class=\"data row11 col2\" >Ярославль</td>\n",
       "                        <td id=\"T_e0ffa_row11_col3\" class=\"data row11 col3\" >nan%</td>\n",
       "            </tr>\n",
       "    </tbody></table>"
      ],
      "text/plain": [
       "<pandas.io.formats.style.Styler at 0x7fb9f34dc460>"
      ]
     },
     "execution_count": 21,
     "metadata": {},
     "output_type": "execute_result"
    }
   ],
   "source": [
    "# creating a variable where we will write the table\n",
    "columns = ['parameter', 'churn', 'no_churn', 'difference']\n",
    "table = pd.DataFrame(columns=columns)\n",
    "\n",
    "# calculating the average values of numeric variables and writing them down in a table\n",
    "for param in ['age', 'balance', 'est_salary', 'score', 'credit_card', 'last_activity']:\n",
    "    parameter = 'Av. ' + param\n",
    "    churn = data[data['churn'] == 1][param].mean()\n",
    "    no_churn = data[data['churn'] == 0][param].mean()\n",
    "    difference = (churn / no_churn - 1) * 100\n",
    "    table.loc[len(table.index)] = [parameter, churn, no_churn, difference]\n",
    "\n",
    "# calculating the median values of the number of products, property, gender and city\n",
    "for param in ['balance', 'est_salary', 'equity', 'products']:\n",
    "    parameter = 'Median of ' + param\n",
    "    churn = data[data['churn'] == 1][param].median()\n",
    "    no_churn = data[data['churn'] == 0][param].median()\n",
    "    difference = np.NaN\n",
    "    table.loc[len(table.index)] = [parameter, churn, no_churn, difference]\n",
    "\n",
    "# adding mode by gender and city\n",
    "for param in ['gender', 'city']:\n",
    "    parameter = 'Mode of ' + param\n",
    "    churn = data[data['churn'] == 1][param].mode()[0]\n",
    "    no_churn = data[data['churn'] == 0][param].mode()[0]\n",
    "    difference = np.NaN\n",
    "    table.loc[len(table.index)] = [parameter, churn, no_churn, difference]\n",
    "\n",
    "# creating a table\n",
    "table.style.format({'difference': '{:.1f}%'})"
   ]
  },
  {
   "cell_type": "markdown",
   "metadata": {},
   "source": [
    "**CONCLUSIONS:**\n",
    "* Clients who leave have, on average, a significantly higher balance sheet, a higher median property score, and a higher average score.\n",
    "* Gone clients are slightly younger.\n",
    "* Gone customers are on average more active.\n",
    "* Among the gone customers, the share of those with credit cards is lower."
   ]
  },
  {
   "cell_type": "markdown",
   "metadata": {},
   "source": [
    "<a id=\"correlation\"></a> \n",
    "### Calculationg a correlation between the features, noting the strongest dependencies"
   ]
  },
  {
   "cell_type": "code",
   "execution_count": 22,
   "metadata": {},
   "outputs": [
    {
     "data": {
      "image/png": "[encoded data removed]",
      "text/plain": [
       "<Figure size 288x432 with 2 Axes>"
      ]
     },
     "metadata": {
      "needs_background": "light"
     },
     "output_type": "display_data"
    }
   ],
   "source": [
    "# creating a correlation matrix, leaving only the correlation column with a churn in it\n",
    "corr_matrix = data.drop(columns='user_id').corr()\n",
    "corr_matrix = corr_matrix[['churn']].sort_values('churn', ascending=False)\n",
    "\n",
    "# building a hitmap without a line with a churn\n",
    "plt.figure(figsize=(4, 6))\n",
    "ax = sns.heatmap(corr_matrix[corr_matrix.index != 'churn'], annot=True, fmt='.3g', cmap='coolwarm', center=0)\n",
    "plt.title('Correlation with a churn')\n",
    "plt.ylabel('Parameters')\n",
    "plt.show()"
   ]
  },
  {
   "cell_type": "markdown",
   "metadata": {},
   "source": [
    "**CONCLUSIONS:**\n",
    "* There is no noticeable or higher correlation on the Chaddock scale for any parameter.\n",
    "* The only feature with a moderate positive correlation is the number of products.\n",
    "* We can note a slight positive correlation of ownership, balance, activity, male gender and scoring, and a slight negative correlation of female gender and the presence of a credit card."
   ]
  },
  {
   "cell_type": "markdown",
   "metadata": {},
   "source": [
    "**INTERIM CONCLUSIONS:**\n",
    "The main features that affect the churn:\n",
    "* age: the main ranges are 25-35 years and 51-60 years;\n",
    "* gender: men leave more often;\n",
    "* moderate positive correlation: the number of products;\n",
    "* slight positive correlation: property assessment, balance, activity, scoring;\n",
    "* slight negative correlation: having a credit card."
   ]
  },
  {
   "cell_type": "markdown",
   "metadata": {},
   "source": [
    "<a id=\"hypo\"></a> \n",
    "## Testing statistical hypotheses"
   ]
  },
  {
   "cell_type": "code",
   "execution_count": 23,
   "metadata": {},
   "outputs": [],
   "source": [
    "# writing a function for determining Student's t-test\n",
    "def ttest_function(data, separator, parameter, alpha, equal_var):\n",
    "    '''\n",
    "    The function takes values:\n",
    "     - data array,\n",
    "     - the value by which we divide the array,\n",
    "     - the parameter whose influence is being studied,\n",
    "     - significance level,\n",
    "     - the equal_var parameter (True if the sample variances are assumed to be the same, otherwise False).\n",
    "     And returns p-value.\n",
    "    '''\n",
    "\n",
    "    # testing the hypothesis\n",
    "    result = st.ttest_ind(data[data[separator] == 1][parameter],\\\n",
    "        data[data[separator] == 0][parameter], equal_var=equal_var, nan_policy='omit')\n",
    "    \n",
    "    # calculating the ratio of the average in different groups\n",
    "    ratio = data[data[separator] == 1][parameter].mean() / data[data[separator] == 0][parameter].mean() * 100 - 100\n",
    "\n",
    "    # outputing p-value and conclusion\n",
    "    print('p-value: {0:.5f}'.format(result.pvalue))\n",
    "\n",
    "    print('Mean difference: {0:.1f}%'.format(ratio))\n",
    "\n",
    "    if result.pvalue < alpha:\n",
    "        print('Rejecting the null hypothesis')\n",
    "    else:\n",
    "        print(\"Can't reject the null hypothesis\")"
   ]
  },
  {
   "cell_type": "code",
   "execution_count": 24,
   "metadata": {},
   "outputs": [],
   "source": [
    "# writing a function for determining the Mann-Whitney test\n",
    "def mannwhitney_function(data, separator, parameter, alpha):\n",
    "    '''\n",
    "    The function takes values:\n",
    "     - data array,\n",
    "     - the value by which we divide the array,\n",
    "     - the parameter whose influence is being studied,\n",
    "     - significance level.\n",
    "     And returns p-value.\n",
    "    '''\n",
    "\n",
    "    # testing the hypothesis\n",
    "    results = st.mannwhitneyu(data[data[separator] == 1][parameter], data[data[separator] == 0][parameter])\n",
    "\n",
    "    print('p-value: {0:.5f}'.format(result.pvalue))\n",
    "    \n",
    "    if result.pvalue < alpha:\n",
    "        print('Rejecting the null hypothesis')\n",
    "    else:\n",
    "        print(\"Can't reject the null hypothesis\")"
   ]
  },
  {
   "cell_type": "code",
   "execution_count": 25,
   "metadata": {},
   "outputs": [],
   "source": [
    "# writing a function for testing the hypothesis of equality of shares\n",
    "def equality_function(data, separator, parameter, alpha):\n",
    "    '''\n",
    "    The function takes values:\n",
    "     - data array,\n",
    "     - the value by which we divide the array,\n",
    "     - the parameter whose influence is being studied,\n",
    "     - significance level.\n",
    "     And returns p-value.\n",
    "    '''\n",
    "\n",
    "    # determining the total number of people separated by a separator\n",
    "    totals = [data[data[separator] == 1][parameter].count(), data[data[separator] == 0][parameter].count()]\n",
    "    \n",
    "    # calculating how many people in both cases have the trait\n",
    "    are_positive = [data[data[separator] == 1][parameter].sum(), data[data[separator] == 0][parameter].sum()]\n",
    "\n",
    "    # calculating the proportions in both groups and in the total\n",
    "    p1 = are_positive[0] / totals[0]\n",
    "    p2 = are_positive[1] / totals[1]\n",
    "    p_combined = (are_positive[0] + are_positive[1]) / (totals[0] + totals[1])\n",
    "\n",
    "    # calculating z-value\n",
    "    z_value = (p1 - p2) / mth.sqrt(p_combined * (1 - p_combined) * (1 / totals[0] + 1 / totals[1]))\n",
    "\n",
    "    # setting the standard normal distribution\n",
    "    distr = st.norm(0, 1)\n",
    "\n",
    "    # calculating p-value\n",
    "    p_value = (1 - distr.cdf(abs(z_value))) * 2\n",
    "\n",
    "    # calculating the ratio of the average in different groups\n",
    "    ratio = data[data[separator] == 1][parameter].mean() / data[data[separator] == 0][parameter].mean() * 100 - 100\n",
    "\n",
    "    print('p-value: {0:.5f}'.format(p_value))\n",
    "\n",
    "    print('Mean difference: {0:.1f}%'.format(ratio))\n",
    "    \n",
    "    if p_value < alpha:\n",
    "        print('Rejecting the null hypothesis')\n",
    "    else:\n",
    "        print(\"Can't reject the null hypothesis\")"
   ]
  },
  {
   "cell_type": "markdown",
   "metadata": {},
   "source": [
    "<a id=\"hypo1\"></a> \n",
    "### Testing the hypothesis 1 about the equality of average incomes between clients who left and those who stayed\n",
    "\n",
    "**Null Hypothesis:** Average earnings of customers who left and those who stayed are equal.\n",
    "\n",
    "**Alternative hypothesis:** There is a statistically significant difference between the earnings of left and retained customers.\n",
    "\n",
    "To test the hypothesis, we use the method ttest_ind because universes do not depend on each other and the universe is large enough. This means that, according to the CLT, the sample means are normally distributed. Because universes sizes are very different, set the equal_var=False parameter."
   ]
  },
  {
   "cell_type": "code",
   "execution_count": 26,
   "metadata": {},
   "outputs": [
    {
     "name": "stdout",
     "output_type": "stream",
     "text": [
      "p-value: 0.39049\n",
      "Mean difference: -1.7%\n",
      "Can't reject the null hypothesis\n"
     ]
    }
   ],
   "source": [
    "# checking the hypothesis with the function of calculating the t-test\n",
    "ttest_function(data, 'churn', 'est_salary', 0.05, False)"
   ]
  },
  {
   "cell_type": "markdown",
   "metadata": {},
   "source": [
    "**CONCLUSION:**\n",
    "* We cannot reject the hypothesis about the equality of average incomes between left and remaining customers."
   ]
  },
  {
   "cell_type": "markdown",
   "metadata": {},
   "source": [
    "<a id=\"hypo2\"></a> \n",
    "### Testing hypothesis 2 about the equality of the average scoring value between customers who left and those who stayed\n",
    "\n",
    "**Null hypothesis:** The average scores of customers who left and those who stayed are equal.\n",
    "\n",
    "**Alternative hypothesis:** There are statistically significant differences between the scoring of left and remaining customers.\n",
    "\n",
    "To test the hypothesis, we use the ttest_ind method, because universes do not depend on each other and the universe is large enough. This means that, according to the CLT, the sample means are normally distributed. Because unniverses sizes are very different, set the equal_var=False parameter."
   ]
  },
  {
   "cell_type": "code",
   "execution_count": 27,
   "metadata": {
    "scrolled": true
   },
   "outputs": [
    {
     "name": "stdout",
     "output_type": "stream",
     "text": [
      "p-value: 0.00000\n",
      "Mean difference: 2.1%\n",
      "Rejecting the null hypothesis\n"
     ]
    }
   ],
   "source": [
    "# checking the hypothesis with the function of calculating the t-test\n",
    "ttest_function(data, 'churn', 'score', 0.05, False)"
   ]
  },
  {
   "cell_type": "markdown",
   "metadata": {},
   "source": [
    "**CONCLUSION:**\n",
    "* We reject the null hypothesis. There are statistically significant differences in scoring between left and retained customers."
   ]
  },
  {
   "cell_type": "markdown",
   "metadata": {},
   "source": [
    "<a id=\"hypo3\"></a> \n",
    "### Testing the hypothesis 3 about the equality of the distribution by city between the clients who left and those who stayed\n",
    "\n",
    "**Null hypothesis:** There is no difference in the share of cities of residence between customers who left and those who stayed.\n",
    "\n",
    "**Alternative hypothesis:** There are statistically significant differences in the share of cities of residence of left and remaining customers.\n",
    "\n",
    "To test the hypothesis, the t-test is not suitable, because there are no numerical distributions of the parameter. We will use hypothesis testing for equality of shares."
   ]
  },
  {
   "cell_type": "code",
   "execution_count": 28,
   "metadata": {
    "scrolled": true
   },
   "outputs": [
    {
     "name": "stdout",
     "output_type": "stream",
     "text": [
      "p-value: 0.02352\n",
      "Mean difference: 5.0%\n",
      "Rejecting the null hypothesis\n"
     ]
    }
   ],
   "source": [
    "# for Yaroslavl\n",
    "equality_function(data, 'churn', 'city_is_Ярославль', 0.05)"
   ]
  },
  {
   "cell_type": "code",
   "execution_count": 29,
   "metadata": {},
   "outputs": [
    {
     "name": "stdout",
     "output_type": "stream",
     "text": [
      "p-value: 0.00270\n",
      "Mean difference: -12.5%\n",
      "Rejecting the null hypothesis\n"
     ]
    }
   ],
   "source": [
    "# for Rybinsk\n",
    "equality_function(data, 'churn', 'city_is_Рыбинск', 0.05)"
   ]
  },
  {
   "cell_type": "code",
   "execution_count": 30,
   "metadata": {},
   "outputs": [
    {
     "name": "stdout",
     "output_type": "stream",
     "text": [
      "p-value: 0.53291\n",
      "Mean difference: 4.0%\n",
      "Can't reject the null hypothesis\n"
     ]
    }
   ],
   "source": [
    "# for Rostov\n",
    "equality_function(data, 'churn', 'city_is_Ростов', 0.05)"
   ]
  },
  {
   "cell_type": "markdown",
   "metadata": {},
   "source": [
    "**CONCLUSIONS:**\n",
    "* We rejected the null hypothesis for each of Yaroslavl and Rybinsk, which means there are statistically significant differences.\n",
    "* In Yaroslavl, the share of those who left is above average, in Rybinsk it is below than average.\n",
    "* We were unable to reject the null hypothesis for Rostov."
   ]
  },
  {
   "cell_type": "markdown",
   "metadata": {},
   "source": [
    "<a id=\"int_summary\"></a> \n",
    "## Interim Summary"
   ]
  },
  {
   "cell_type": "markdown",
   "metadata": {},
   "source": [
    "<a id=\"int_conclusions\"></a> \n",
    "### Interim conclusions\n",
    "\n",
    "* The overall churn rate is 18.1%.\n",
    "* Gender, credit card, activity influence churn.\n",
    "* Dependence of churn on age is non-linear.\n",
    "* People living in Yaroslavl are more likely to churn.\n",
    "* There is no noticeable or higher correlation on the Chaddock scale for any parameter. The strongest correlation with churn is for product quantity and property valuation.\n",
    "* Balance sheet and scoring have a slight positive correlation with churn, while wages have almost no correlation with it."
   ]
  },
  {
   "cell_type": "markdown",
   "metadata": {},
   "source": [
    "<a id=\"features\"></a> \n",
    "### Features that affect customer churn\n",
    "\n",
    "Features that positively affect the rate of care:\n",
    "* age (non-linear, main outflow at ages 25-35 and 50-60)\n",
    "* male gender,\n",
    "* activity: active customers leave more often,\n",
    "* lack of a credit card,\n",
    "* balance above 750,000 rubles,\n",
    "* place of residence is Yaroslavl,\n",
    "* the number of products is from 2 and more,\n",
    "* property assessment is from 3 and above,\n",
    "* scoring in the range of 830-910"
   ]
  },
  {
   "cell_type": "markdown",
   "metadata": {},
   "source": [
    "<a id=\"segments\"></a> \n",
    "## Segments formation\n",
    "\n",
    "**Approach description:**\n",
    "\n",
    "1. Based on the features highlighted above, we calculate the number of customers, the churn rate and the relative churn rate (relative to the average).\n",
    "2. We calculate the joint influence of the features in pairs. For this:\n",
    "     * We go through the list of parameters above, combining two conditions;\n",
    "     * For each association, we check the number of people (need more than 500);\n",
    "     * For each union, we calculate churn_rate and relative_churn_rate;\n",
    "     * For each union, we calculate the cooperation rate: relative_churn_rate divided by the product of the relative_churn_rate of the individual parameters. If the coefficient of cooperation is greater than 1, then the parameters \"reinforce\" each other, combine well;\n",
    "     * Build cross tables churn rate and cooperation rate: if the number of people is more than 500, add churn_rate and cooperation rate to the table.\n",
    "3. According to the table, we select pairs of features that most effectively complement each other (we need to make 3-4 pairs that form the final segments).\n",
    "4. We check whether these pairs can be strengthened by adding a third feature from among those not included in the pairs.\n",
    "5. We form the final list."
   ]
  },
  {
   "cell_type": "markdown",
   "metadata": {},
   "source": [
    "<a id=\"individual\"></a> \n",
    "### Calculating the number of customers, the churn rate and the relative churn rate for each individual feature that affects the churn"
   ]
  },
  {
   "cell_type": "code",
   "execution_count": 31,
   "metadata": {},
   "outputs": [],
   "source": [
    "# writing a function that calculate the number of customers and the churn rate by the condition\n",
    "def segment_creator(data, condition):\n",
    "    '''\n",
    "    The function receives data and a condition for a query.\n",
    "    The function returns the number of people in the segment and the churn rate.\n",
    "    '''\n",
    "    \n",
    "    # calculating the number of clients, the number of left clients and the churn rate by the segment\n",
    "    segment_volume = len(data.query(condition))\n",
    "    churn_volume = data.query(condition)['churn'].sum()\n",
    "    churn_rate = data.query(condition)['churn'].mean()\n",
    "    \n",
    "    return condition, segment_volume, churn_volume, churn_rate"
   ]
  },
  {
   "cell_type": "code",
   "execution_count": 32,
   "metadata": {},
   "outputs": [],
   "source": [
    "# making a list of conditions to make segments\n",
    "condition_list = [\n",
    "    'gender == \"М\"',\n",
    "    '(age >= 25) & (age <= 35)',\n",
    "    '(age >= 50) & (age <= 60)',\n",
    "    'city_is_Ярославль == 1',\n",
    "    'products >= 2',\n",
    "    'equity >= 3',\n",
    "    'balance >= 750000',\n",
    "    'last_activity == 1',\n",
    "    'credit_card == 0',\n",
    "    '(score >= 830) & (score <= 910)'\n",
    "]"
   ]
  },
  {
   "cell_type": "code",
   "execution_count": 33,
   "metadata": {
    "scrolled": true
   },
   "outputs": [
    {
     "name": "stdout",
     "output_type": "stream",
     "text": [
      "Total churn rate: 0.181\n"
     ]
    },
    {
     "data": {
      "text/html": [
       "<div>\n",
       "<style scoped>\n",
       "    .dataframe tbody tr th:only-of-type {\n",
       "        vertical-align: middle;\n",
       "    }\n",
       "\n",
       "    .dataframe tbody tr th {\n",
       "        vertical-align: top;\n",
       "    }\n",
       "\n",
       "    .dataframe thead th {\n",
       "        text-align: right;\n",
       "    }\n",
       "</style>\n",
       "<table border=\"1\" class=\"dataframe\">\n",
       "  <thead>\n",
       "    <tr style=\"text-align: right;\">\n",
       "      <th></th>\n",
       "      <th>condition</th>\n",
       "      <th>volume</th>\n",
       "      <th>churn_volume</th>\n",
       "      <th>churn_rate</th>\n",
       "      <th>relative_churn_rate</th>\n",
       "    </tr>\n",
       "  </thead>\n",
       "  <tbody>\n",
       "    <tr>\n",
       "      <th>0</th>\n",
       "      <td>balance &gt;= 750000</td>\n",
       "      <td>2669</td>\n",
       "      <td>927</td>\n",
       "      <td>0.347321</td>\n",
       "      <td>1.916420</td>\n",
       "    </tr>\n",
       "    <tr>\n",
       "      <th>1</th>\n",
       "      <td>(age &gt;= 50) &amp; (age &lt;= 60)</td>\n",
       "      <td>1761</td>\n",
       "      <td>465</td>\n",
       "      <td>0.264055</td>\n",
       "      <td>1.456979</td>\n",
       "    </tr>\n",
       "    <tr>\n",
       "      <th>2</th>\n",
       "      <td>equity &gt;= 3</td>\n",
       "      <td>5547</td>\n",
       "      <td>1457</td>\n",
       "      <td>0.262665</td>\n",
       "      <td>1.449309</td>\n",
       "    </tr>\n",
       "    <tr>\n",
       "      <th>3</th>\n",
       "      <td>credit_card == 0</td>\n",
       "      <td>3180</td>\n",
       "      <td>811</td>\n",
       "      <td>0.255031</td>\n",
       "      <td>1.407192</td>\n",
       "    </tr>\n",
       "    <tr>\n",
       "      <th>4</th>\n",
       "      <td>last_activity == 1</td>\n",
       "      <td>5210</td>\n",
       "      <td>1265</td>\n",
       "      <td>0.242802</td>\n",
       "      <td>1.339715</td>\n",
       "    </tr>\n",
       "    <tr>\n",
       "      <th>5</th>\n",
       "      <td>(score &gt;= 830) &amp; (score &lt;= 910)</td>\n",
       "      <td>4277</td>\n",
       "      <td>1037</td>\n",
       "      <td>0.242460</td>\n",
       "      <td>1.337824</td>\n",
       "    </tr>\n",
       "    <tr>\n",
       "      <th>6</th>\n",
       "      <td>products &gt;= 2</td>\n",
       "      <td>6629</td>\n",
       "      <td>1572</td>\n",
       "      <td>0.237140</td>\n",
       "      <td>1.308471</td>\n",
       "    </tr>\n",
       "    <tr>\n",
       "      <th>7</th>\n",
       "      <td>gender == \"М\"</td>\n",
       "      <td>4976</td>\n",
       "      <td>1170</td>\n",
       "      <td>0.235129</td>\n",
       "      <td>1.297374</td>\n",
       "    </tr>\n",
       "    <tr>\n",
       "      <th>8</th>\n",
       "      <td>(age &gt;= 25) &amp; (age &lt;= 35)</td>\n",
       "      <td>3044</td>\n",
       "      <td>660</td>\n",
       "      <td>0.216820</td>\n",
       "      <td>1.196352</td>\n",
       "    </tr>\n",
       "    <tr>\n",
       "      <th>9</th>\n",
       "      <td>city_is_Ярославль == 1</td>\n",
       "      <td>5855</td>\n",
       "      <td>1104</td>\n",
       "      <td>0.188557</td>\n",
       "      <td>1.040403</td>\n",
       "    </tr>\n",
       "  </tbody>\n",
       "</table>\n",
       "</div>"
      ],
      "text/plain": [
       "                         condition volume churn_volume  churn_rate  \\\n",
       "0                balance >= 750000   2669          927    0.347321   \n",
       "1        (age >= 50) & (age <= 60)   1761          465    0.264055   \n",
       "2                      equity >= 3   5547         1457    0.262665   \n",
       "3                 credit_card == 0   3180          811    0.255031   \n",
       "4               last_activity == 1   5210         1265    0.242802   \n",
       "5  (score >= 830) & (score <= 910)   4277         1037    0.242460   \n",
       "6                    products >= 2   6629         1572    0.237140   \n",
       "7                    gender == \"М\"   4976         1170    0.235129   \n",
       "8        (age >= 25) & (age <= 35)   3044          660    0.216820   \n",
       "9           city_is_Ярославль == 1   5855         1104    0.188557   \n",
       "\n",
       "   relative_churn_rate  \n",
       "0             1.916420  \n",
       "1             1.456979  \n",
       "2             1.449309  \n",
       "3             1.407192  \n",
       "4             1.339715  \n",
       "5             1.337824  \n",
       "6             1.308471  \n",
       "7             1.297374  \n",
       "8             1.196352  \n",
       "9             1.040403  "
      ]
     },
     "execution_count": 33,
     "metadata": {},
     "output_type": "execute_result"
    }
   ],
   "source": [
    "# creating the table for a list of segments\n",
    "simple_segments = pd.DataFrame(columns=['condition', 'volume', 'churn_volume', 'churn_rate', 'relative_churn_rate'])\n",
    "\n",
    "# writing the churn rate of all the data to a variable\n",
    "av_churn_rate = data['churn'].mean()\n",
    "\n",
    "# applying the fuction to the list of conditions, adding relative churn rate\n",
    "for condition in condition_list:\n",
    "    condition, segment_volume, churn_volume, churn_rate = segment_creator(data, condition)\n",
    "    relative_churn_rate = churn_rate / av_churn_rate\n",
    "    simple_segments.loc[len(simple_segments)] = [condition, segment_volume, churn_volume, churn_rate, relative_churn_rate]\n",
    "\n",
    "# printing total churn rate\n",
    "print('Total churn rate: {0:.3f}'.format(av_churn_rate))\n",
    "\n",
    "# printing the table with a sorting by the churn rate\n",
    "simple_segments = simple_segments.sort_values('churn_rate', ascending=False).reset_index().drop(columns='index')\n",
    "simple_segments"
   ]
  },
  {
   "cell_type": "markdown",
   "metadata": {},
   "source": [
    "**CONCLUSIONS:**\n",
    "* For each of the 10 churn segments, we calculated the number of customers, the number of left customers, churn and relative churn. Segments were prioritized by churn rate.\n",
    "* The strongest of the churn factors is the balance of more than 750,000 rubles. Also strong factors are age 50-60, property score >= 3 and no credit card.\n",
    "* The weakest factor is Yaroslavl. Also, a low relative rate of refinement is for the age of 25-35."
   ]
  },
  {
   "cell_type": "markdown",
   "metadata": {},
   "source": [
    "<a id=\"pairs\"></a> \n",
    "### Applying factors together in pairs to obtain overall scores for every pair of factors"
   ]
  },
  {
   "cell_type": "code",
   "execution_count": 34,
   "metadata": {},
   "outputs": [],
   "source": [
    "# making a heading for a table\n",
    "columns = ['condition']\n",
    "for cond in simple_segments['condition'].values:\n",
    "    columns.append(cond)\n",
    "\n",
    "# making tables of intersections\n",
    "table_churn = pd.DataFrame(columns=columns)\n",
    "table_cooperation = pd.DataFrame(columns=columns)\n",
    "table_volume = pd.DataFrame(columns=columns)\n",
    "table_churn_volume = pd.DataFrame(columns=columns)\n",
    "\n",
    "# starting the cycle\n",
    "for i, row1 in simple_segments.iterrows():\n",
    "    \n",
    "    # filling the value of the condition column\n",
    "    table_churn.loc[i, 'condition'] = row1['condition']\n",
    "    table_cooperation.loc[i, 'condition'] = row1['condition']\n",
    "    table_volume.loc[i, 'condition'] = row1['condition']\n",
    "    table_churn_volume.loc[i, 'condition'] = row1['condition']\n",
    "\n",
    "    # filling the table\n",
    "    for j, row2 in simple_segments.iterrows():\n",
    "\n",
    "        # filtering rows\n",
    "        filtered_rows = data.query(row1['condition']).query(row2['condition'])\n",
    "\n",
    "        # calculating the amount of clients\n",
    "        volume = len(filtered_rows)\n",
    "\n",
    "        # calculating the amount of left clients and the churn rate\n",
    "        total_churn = filtered_rows['churn'].sum()\n",
    "        total_churn_rate = filtered_rows['churn'].mean()\n",
    "        \n",
    "        # calculating relative churn rate\n",
    "        relative_churn_rate = total_churn_rate / av_churn_rate\n",
    "\n",
    "        # calculating the product of churn rates of factors for comparing with a final relative churn rate\n",
    "        churn_target = row1['relative_churn_rate'] * row2['relative_churn_rate']\n",
    "\n",
    "        # calculating the cooperation rate\n",
    "        cooperation = relative_churn_rate / churn_target\n",
    "\n",
    "        # filling tables\n",
    "        if volume >= 500:\n",
    "            table_churn.loc[i, row2['condition']] = total_churn_rate\n",
    "            table_cooperation.loc[i, row2['condition']] = cooperation\n",
    "            table_volume.loc[i, row2['condition']] = volume\n",
    "            table_churn_volume.loc[i, row2['condition']] = total_churn\n",
    "        else:\n",
    "            table_churn.loc[i, row2['condition']] = np.NaN\n",
    "            table_cooperation.loc[i, row2['condition']] = np.NaN\n",
    "            table_volume.loc[i, row2['condition']] = np.NaN\n",
    "            table_churn_volume.loc[i, row2['condition']] = np.NaN\n",
    "\n",
    "# putting conditions to indexes and converting values to the type \"float\"\n",
    "table_churn = table_churn.set_index('condition').astype('float')\n",
    "table_cooperation = table_cooperation.set_index('condition').astype('float')\n",
    "table_volume = table_volume.set_index('condition').astype('float')\n",
    "table_churn_volume = table_churn_volume.set_index('condition').astype('float')"
   ]
  },
  {
   "cell_type": "code",
   "execution_count": 35,
   "metadata": {
    "scrolled": false
   },
   "outputs": [
    {
     "data": {
      "image/png": "[encoded data removed]",
      "text/plain": [
       "<Figure size 1296x864 with 8 Axes>"
      ]
     },
     "metadata": {
      "needs_background": "light"
     },
     "output_type": "display_data"
    }
   ],
   "source": [
    "# making heatmaps\n",
    "fig, ((ax1, ax2), (ax3, ax4)) = plt.subplots(2, 2, figsize=(18, 12))\n",
    "sns.heatmap(table_churn, cmap='coolwarm', annot= True , fmt='.3g', ax=ax1)\n",
    "ax1.set_title('Churn rate for pairs of conditions')\n",
    "sns.heatmap(table_cooperation, cmap='coolwarm', annot= True , fmt='.3g', ax=ax2)\n",
    "ax2.set_title('Cooperation rate for pairs of conditions')\n",
    "sns.heatmap(table_volume, cmap='coolwarm', annot= True , fmt='.0f', ax=ax3)\n",
    "ax3.set_title('Amount of clients for pairs of conditions')\n",
    "sns.heatmap(table_churn_volume, cmap='coolwarm', annot= True , fmt='.0f', ax=ax4)\n",
    "ax4.set_title('Amount of left clients for pairs of conditions')\n",
    "plt.tight_layout()\n",
    "plt.show()"
   ]
  },
  {
   "cell_type": "markdown",
   "metadata": {},
   "source": [
    "**CONCLUSIONS:**\n",
    "* For the balance, the best intersection is with age 25-35.\n",
    "* Age 50-60 have no ideal intersections, the best are with men, property evaluation, lack of a credit card, number of products.\n",
    "* Property evaluation has good intersections with activity, men and age 25-35.\n",
    "* The absence of a credit card has the best intersection with the age of 25-35, also good is with men.\n",
    "* Activity and scoring have better overlap with each other.\n",
    "* The number of products has good intersections with activity and men.\n",
    "* Men have the best crossing with the absence of the credit card. Also good crossing are with the valuation of the property and the number of products.\n",
    "* Age 25-35 has better intersections with balance and no credit card.\n",
    "\n",
    "**Making segments:**\n",
    "* Crossing the balance over 750,000 and age 25-35.\n",
    "* Combine activity and scoring 830-910. This is a large sample, we can consider another limitation.\n",
    "* Products don't overlap well with the rest, but they can be used to improve activity and scoring results.\n",
    "* In other cases, two options are possible: male + property valuation >=3 and age 50-60 + no credit card or male + no credit card and age 50-60 + property valuation >=3. Let's check out these options."
   ]
  },
  {
   "cell_type": "markdown",
   "metadata": {},
   "source": [
    "<a id=\"all_intersections\"></a> \n",
    "### Collecting intersections of two and three conditions into separate dataframes, calculate conditions for them"
   ]
  },
  {
   "cell_type": "code",
   "execution_count": 36,
   "metadata": {},
   "outputs": [
    {
     "data": {
      "text/html": [
       "<div>\n",
       "<style scoped>\n",
       "    .dataframe tbody tr th:only-of-type {\n",
       "        vertical-align: middle;\n",
       "    }\n",
       "\n",
       "    .dataframe tbody tr th {\n",
       "        vertical-align: top;\n",
       "    }\n",
       "\n",
       "    .dataframe thead th {\n",
       "        text-align: right;\n",
       "    }\n",
       "</style>\n",
       "<table border=\"1\" class=\"dataframe\">\n",
       "  <thead>\n",
       "    <tr style=\"text-align: right;\">\n",
       "      <th></th>\n",
       "      <th>condition_1</th>\n",
       "      <th>condition_2</th>\n",
       "      <th>volume</th>\n",
       "      <th>churn_volume</th>\n",
       "      <th>churn_rate</th>\n",
       "      <th>relative_churn_rate</th>\n",
       "      <th>cooperation</th>\n",
       "    </tr>\n",
       "  </thead>\n",
       "  <tbody>\n",
       "    <tr>\n",
       "      <th>0</th>\n",
       "      <td>balance &gt;= 750000</td>\n",
       "      <td>(age &gt;= 50) &amp; (age &lt;= 60)</td>\n",
       "      <td>608</td>\n",
       "      <td>271</td>\n",
       "      <td>0.445724</td>\n",
       "      <td>2.459378</td>\n",
       "      <td>0.880808</td>\n",
       "    </tr>\n",
       "    <tr>\n",
       "      <th>1</th>\n",
       "      <td>balance &gt;= 750000</td>\n",
       "      <td>equity &gt;= 3</td>\n",
       "      <td>2445</td>\n",
       "      <td>867</td>\n",
       "      <td>0.354601</td>\n",
       "      <td>1.956590</td>\n",
       "      <td>0.704447</td>\n",
       "    </tr>\n",
       "    <tr>\n",
       "      <th>2</th>\n",
       "      <td>balance &gt;= 750000</td>\n",
       "      <td>credit_card == 0</td>\n",
       "      <td>1196</td>\n",
       "      <td>506</td>\n",
       "      <td>0.423077</td>\n",
       "      <td>2.334419</td>\n",
       "      <td>0.865635</td>\n",
       "    </tr>\n",
       "    <tr>\n",
       "      <th>3</th>\n",
       "      <td>balance &gt;= 750000</td>\n",
       "      <td>last_activity == 1</td>\n",
       "      <td>1394</td>\n",
       "      <td>674</td>\n",
       "      <td>0.483501</td>\n",
       "      <td>2.667821</td>\n",
       "      <td>1.039091</td>\n",
       "    </tr>\n",
       "    <tr>\n",
       "      <th>4</th>\n",
       "      <td>balance &gt;= 750000</td>\n",
       "      <td>(score &gt;= 830) &amp; (score &lt;= 910)</td>\n",
       "      <td>1364</td>\n",
       "      <td>549</td>\n",
       "      <td>0.402493</td>\n",
       "      <td>2.220841</td>\n",
       "      <td>0.866219</td>\n",
       "    </tr>\n",
       "  </tbody>\n",
       "</table>\n",
       "</div>"
      ],
      "text/plain": [
       "         condition_1                      condition_2 volume churn_volume  \\\n",
       "0  balance >= 750000        (age >= 50) & (age <= 60)    608          271   \n",
       "1  balance >= 750000                      equity >= 3   2445          867   \n",
       "2  balance >= 750000                 credit_card == 0   1196          506   \n",
       "3  balance >= 750000               last_activity == 1   1394          674   \n",
       "4  balance >= 750000  (score >= 830) & (score <= 910)   1364          549   \n",
       "\n",
       "   churn_rate  relative_churn_rate  cooperation  \n",
       "0    0.445724             2.459378     0.880808  \n",
       "1    0.354601             1.956590     0.704447  \n",
       "2    0.423077             2.334419     0.865635  \n",
       "3    0.483501             2.667821     1.039091  \n",
       "4    0.402493             2.220841     0.866219  "
      ]
     },
     "execution_count": 36,
     "metadata": {},
     "output_type": "execute_result"
    }
   ],
   "source": [
    "# creating the dataframe for final segments of the crossing of two segments\n",
    "complex_segments_2 = pd.DataFrame(\n",
    "    columns=['condition_1', 'condition_2', 'volume', 'churn_volume', 'churn_rate', 'relative_churn_rate', 'cooperation']\n",
    ")\n",
    "\n",
    "# running the cycle to all the combinations of two factors\n",
    "for i, row1 in simple_segments.iterrows():\n",
    "    for j, row2 in simple_segments.iterrows():\n",
    "\n",
    "        # filtering rows\n",
    "        filtered_rows = data.query(row1['condition']).query(row2['condition'])\n",
    "\n",
    "        # calculating the amount of customers\n",
    "        volume = len(filtered_rows)\n",
    "\n",
    "        # calculating the amount of left customers and the churn rate\n",
    "        total_churn = filtered_rows['churn'].sum()\n",
    "        total_churn_rate = filtered_rows['churn'].mean()\n",
    "        \n",
    "        # calculating the relative churn rate\n",
    "        relative_churn_rate = total_churn_rate / av_churn_rate\n",
    "\n",
    "        # calculating the product of churn rates of components for comparing with the relative churn rate\n",
    "        churn_target = row1['relative_churn_rate'] * row2['relative_churn_rate']\n",
    "\n",
    "        # calculating the cooperation rate\n",
    "        cooperation = relative_churn_rate / churn_target\n",
    "\n",
    "        # setting the selection condition and writing suitable combinations to the new dataframe\n",
    "        if i < j:\n",
    "            complex_segments_2.loc[len(complex_segments_2)] = [\n",
    "                row1['condition'], row2['condition'], volume, total_churn, total_churn_rate, relative_churn_rate, cooperation\n",
    "            ]\n",
    "\n",
    "# printing the table\n",
    "complex_segments_2.head()"
   ]
  },
  {
   "cell_type": "code",
   "execution_count": 37,
   "metadata": {},
   "outputs": [
    {
     "data": {
      "text/html": [
       "<div>\n",
       "<style scoped>\n",
       "    .dataframe tbody tr th:only-of-type {\n",
       "        vertical-align: middle;\n",
       "    }\n",
       "\n",
       "    .dataframe tbody tr th {\n",
       "        vertical-align: top;\n",
       "    }\n",
       "\n",
       "    .dataframe thead th {\n",
       "        text-align: right;\n",
       "    }\n",
       "</style>\n",
       "<table border=\"1\" class=\"dataframe\">\n",
       "  <thead>\n",
       "    <tr style=\"text-align: right;\">\n",
       "      <th></th>\n",
       "      <th>condition_1</th>\n",
       "      <th>condition_2</th>\n",
       "      <th>condition_3</th>\n",
       "      <th>volume</th>\n",
       "      <th>churn_volume</th>\n",
       "      <th>churn_rate</th>\n",
       "      <th>relative_churn_rate</th>\n",
       "      <th>cooperation</th>\n",
       "    </tr>\n",
       "  </thead>\n",
       "  <tbody>\n",
       "    <tr>\n",
       "      <th>0</th>\n",
       "      <td>balance &gt;= 750000</td>\n",
       "      <td>(age &gt;= 50) &amp; (age &lt;= 60)</td>\n",
       "      <td>equity &gt;= 3</td>\n",
       "      <td>557</td>\n",
       "      <td>251</td>\n",
       "      <td>0.450628</td>\n",
       "      <td>2.486441</td>\n",
       "      <td>0.614431</td>\n",
       "    </tr>\n",
       "    <tr>\n",
       "      <th>1</th>\n",
       "      <td>balance &gt;= 750000</td>\n",
       "      <td>(age &gt;= 50) &amp; (age &lt;= 60)</td>\n",
       "      <td>credit_card == 0</td>\n",
       "      <td>317</td>\n",
       "      <td>168</td>\n",
       "      <td>0.529968</td>\n",
       "      <td>2.924217</td>\n",
       "      <td>0.744239</td>\n",
       "    </tr>\n",
       "    <tr>\n",
       "      <th>2</th>\n",
       "      <td>balance &gt;= 750000</td>\n",
       "      <td>(age &gt;= 50) &amp; (age &lt;= 60)</td>\n",
       "      <td>last_activity == 1</td>\n",
       "      <td>328</td>\n",
       "      <td>187</td>\n",
       "      <td>0.570122</td>\n",
       "      <td>3.145773</td>\n",
       "      <td>0.840952</td>\n",
       "    </tr>\n",
       "    <tr>\n",
       "      <th>3</th>\n",
       "      <td>balance &gt;= 750000</td>\n",
       "      <td>(age &gt;= 50) &amp; (age &lt;= 60)</td>\n",
       "      <td>(score &gt;= 830) &amp; (score &lt;= 910)</td>\n",
       "      <td>333</td>\n",
       "      <td>168</td>\n",
       "      <td>0.504505</td>\n",
       "      <td>2.783714</td>\n",
       "      <td>0.745215</td>\n",
       "    </tr>\n",
       "    <tr>\n",
       "      <th>4</th>\n",
       "      <td>balance &gt;= 750000</td>\n",
       "      <td>(age &gt;= 50) &amp; (age &lt;= 60)</td>\n",
       "      <td>products &gt;= 2</td>\n",
       "      <td>542</td>\n",
       "      <td>256</td>\n",
       "      <td>0.472325</td>\n",
       "      <td>2.606155</td>\n",
       "      <td>0.713333</td>\n",
       "    </tr>\n",
       "  </tbody>\n",
       "</table>\n",
       "</div>"
      ],
      "text/plain": [
       "         condition_1                condition_2  \\\n",
       "0  balance >= 750000  (age >= 50) & (age <= 60)   \n",
       "1  balance >= 750000  (age >= 50) & (age <= 60)   \n",
       "2  balance >= 750000  (age >= 50) & (age <= 60)   \n",
       "3  balance >= 750000  (age >= 50) & (age <= 60)   \n",
       "4  balance >= 750000  (age >= 50) & (age <= 60)   \n",
       "\n",
       "                       condition_3 volume churn_volume  churn_rate  \\\n",
       "0                      equity >= 3    557          251    0.450628   \n",
       "1                 credit_card == 0    317          168    0.529968   \n",
       "2               last_activity == 1    328          187    0.570122   \n",
       "3  (score >= 830) & (score <= 910)    333          168    0.504505   \n",
       "4                    products >= 2    542          256    0.472325   \n",
       "\n",
       "   relative_churn_rate  cooperation  \n",
       "0             2.486441     0.614431  \n",
       "1             2.924217     0.744239  \n",
       "2             3.145773     0.840952  \n",
       "3             2.783714     0.745215  \n",
       "4             2.606155     0.713333  "
      ]
     },
     "execution_count": 37,
     "metadata": {},
     "output_type": "execute_result"
    }
   ],
   "source": [
    "# creating the dataframe for final segments of the crossing of three segments\n",
    "complex_segments_3 = pd.DataFrame(\n",
    "    columns=['condition_1', 'condition_2', 'condition_3', 'volume', 'churn_volume', 'churn_rate', 'relative_churn_rate', 'cooperation']\n",
    ")\n",
    "\n",
    "# running the cycle to all the combinations of two factors\n",
    "for i, row1 in simple_segments.iterrows():\n",
    "    for j, row2 in simple_segments.iterrows():\n",
    "        for k, row3 in simple_segments.iterrows():\n",
    "\n",
    "            # filtering rows\n",
    "            filtered_rows = data.query(row1['condition']).query(row2['condition']).query(row3['condition'])\n",
    "\n",
    "            # calculating the amount of customers\n",
    "            volume = len(filtered_rows)\n",
    "\n",
    "            # calculating the amount of left customers and the churn rate\n",
    "            total_churn = filtered_rows['churn'].sum()\n",
    "            total_churn_rate = filtered_rows['churn'].mean()\n",
    "        \n",
    "            # calculating the relative churn rate\n",
    "            relative_churn_rate = total_churn_rate / av_churn_rate\n",
    "\n",
    "            # calculating the product of churn rates of components for comparing with the relative churn rate\n",
    "            churn_target = row1['relative_churn_rate'] * row2['relative_churn_rate'] * row3['relative_churn_rate']\n",
    "\n",
    "            # calculating the cooperation rate\n",
    "            cooperation = relative_churn_rate / churn_target\n",
    "\n",
    "            # setting the selection condition and writing suitable combinations to the new dataframe\n",
    "            if i < j and j < k:\n",
    "                complex_segments_3.loc[len(complex_segments_3)] = [\n",
    "                    row1['condition'], row2['condition'], row3['condition'], volume, total_churn, total_churn_rate, relative_churn_rate, cooperation\n",
    "                ]\n",
    "\n",
    "# printing the table\n",
    "complex_segments_3.head()"
   ]
  },
  {
   "cell_type": "code",
   "execution_count": 38,
   "metadata": {},
   "outputs": [],
   "source": [
    "# writing the function for a dataframe of two segments filtration\n",
    "def segments_2_filter(condition_list):\n",
    "    '''\n",
    "    A list of lists is always passed to the function.\n",
    "    The function filters rows according to the data specified in the list.\n",
    "    Data inside nested lists is ORed, nested lists are ANDed.\n",
    "    '''\n",
    "    if len(condition_list) == 1:\n",
    "        filtered_segments = (\n",
    "            complex_segments_2.query('(condition_1 in @condition_list[0]) | (condition_2 in @condition_list[0])')\n",
    "            .sort_values('cooperation', ascending=False)\n",
    "        )\n",
    "    elif len(condition_list) == 2:\n",
    "        filtered_segments = (\n",
    "            complex_segments_2.query('(condition_1 in @condition_list[0]) | (condition_2 in @condition_list[0])')\n",
    "            .query('(condition_1 in @condition_list[1]) | (condition_2 in @condition_list[1])')\n",
    "            .sort_values('cooperation', ascending=False)\n",
    "        )\n",
    "    return filtered_segments"
   ]
  },
  {
   "cell_type": "code",
   "execution_count": 39,
   "metadata": {},
   "outputs": [],
   "source": [
    "# writing the function for a dataframe of three segments filtration\n",
    "def segments_3_filter(condition_list):\n",
    "    '''\n",
    "    A list of lists is always passed to the function.\n",
    "    The function filters rows according to the data specified in the list.\n",
    "    Data inside nested lists is ORed, nested lists are ANDed.\n",
    "    '''\n",
    "    if len(condition_list) == 1:\n",
    "        filtered_segments = (\n",
    "            complex_segments_3.query('(condition_1 in @condition_list[0]) | (condition_2 in @condition_list[0]) | (condition_3 in @condition_list[0])')\n",
    "            .sort_values('cooperation', ascending=False)\n",
    "        )\n",
    "    elif len(condition_list) == 2:\n",
    "        filtered_segments = (\n",
    "            complex_segments_3.query('(condition_1 in @condition_list[0]) | (condition_2 in @condition_list[0]) | (condition_3 in @condition_list[0])')\n",
    "            .query('(condition_1 in @condition_list[1]) | (condition_2 in @condition_list[1]) | (condition_3 in @condition_list[1])')\n",
    "            .sort_values('cooperation', ascending=False)\n",
    "        )\n",
    "    elif len(condition_list) == 3:\n",
    "        filtered_segments = (\n",
    "            complex_segments_3.query('(condition_1 in @condition_list[0]) | (condition_2 in @condition_list[0]) | (condition_3 in @condition_list[0])')\n",
    "            .query('(condition_1 in @condition_list[1]) | (condition_2 in @condition_list[1]) | (condition_3 in @condition_list[1])')\n",
    "            .query('(condition_1 in @condition_list[2]) | (condition_2 in @condition_list[2]) | (condition_3 in @condition_list[2])')\n",
    "            .sort_values('cooperation', ascending=False)\n",
    "        )\n",
    "    return filtered_segments"
   ]
  },
  {
   "cell_type": "markdown",
   "metadata": {},
   "source": [
    "**CONCLUSIONS:**\n",
    "* We prepared data for the final segments selection.\n",
    "* We prepared functions for a segments filtration."
   ]
  },
  {
   "cell_type": "markdown",
   "metadata": {},
   "source": [
    "<a id=\"final_segments\"></a> \n",
    "### Final segments selection"
   ]
  },
  {
   "cell_type": "code",
   "execution_count": 40,
   "metadata": {},
   "outputs": [
    {
     "data": {
      "text/html": [
       "<div>\n",
       "<style scoped>\n",
       "    .dataframe tbody tr th:only-of-type {\n",
       "        vertical-align: middle;\n",
       "    }\n",
       "\n",
       "    .dataframe tbody tr th {\n",
       "        vertical-align: top;\n",
       "    }\n",
       "\n",
       "    .dataframe thead th {\n",
       "        text-align: right;\n",
       "    }\n",
       "</style>\n",
       "<table border=\"1\" class=\"dataframe\">\n",
       "  <thead>\n",
       "    <tr style=\"text-align: right;\">\n",
       "      <th></th>\n",
       "      <th>condition_1</th>\n",
       "      <th>condition_2</th>\n",
       "      <th>condition_3</th>\n",
       "      <th>volume</th>\n",
       "      <th>churn_volume</th>\n",
       "      <th>churn_rate</th>\n",
       "      <th>relative_churn_rate</th>\n",
       "      <th>cooperation</th>\n",
       "    </tr>\n",
       "  </thead>\n",
       "  <tbody>\n",
       "    <tr>\n",
       "      <th>7</th>\n",
       "      <td>balance &gt;= 750000</td>\n",
       "      <td>(age &gt;= 25) &amp; (age &lt;= 35)</td>\n",
       "      <td>NaN</td>\n",
       "      <td>613</td>\n",
       "      <td>298</td>\n",
       "      <td>0.486134</td>\n",
       "      <td>2.682349</td>\n",
       "      <td>1.169946</td>\n",
       "    </tr>\n",
       "  </tbody>\n",
       "</table>\n",
       "</div>"
      ],
      "text/plain": [
       "         condition_1                condition_2 condition_3 volume  \\\n",
       "7  balance >= 750000  (age >= 25) & (age <= 35)         NaN    613   \n",
       "\n",
       "  churn_volume  churn_rate  relative_churn_rate  cooperation  \n",
       "7          298    0.486134             2.682349     1.169946  "
      ]
     },
     "execution_count": 40,
     "metadata": {},
     "output_type": "execute_result"
    }
   ],
   "source": [
    "# collecting the final list of segments\n",
    "final_segments = pd.DataFrame(\n",
    "    columns=['condition_1', 'condition_2', 'condition_3', 'volume', 'churn_volume', 'churn_rate', 'relative_churn_rate', 'cooperation']\n",
    ")\n",
    "\n",
    "# adding the crossing of the balance above 750k and age 25-35\n",
    "condition_list = [['balance >= 750000'], ['(age >= 25) & (age <= 35)']]\n",
    "segment = segments_2_filter(condition_list)\n",
    "\n",
    "final_segments = pd.concat([final_segments, segment])\n",
    "final_segments"
   ]
  },
  {
   "cell_type": "markdown",
   "metadata": {},
   "source": [
    "Checking if the amount of products >=2 improve the crossing of activity and scoring in 830-910"
   ]
  },
  {
   "cell_type": "code",
   "execution_count": 41,
   "metadata": {},
   "outputs": [
    {
     "data": {
      "text/html": [
       "<div>\n",
       "<style scoped>\n",
       "    .dataframe tbody tr th:only-of-type {\n",
       "        vertical-align: middle;\n",
       "    }\n",
       "\n",
       "    .dataframe tbody tr th {\n",
       "        vertical-align: top;\n",
       "    }\n",
       "\n",
       "    .dataframe thead th {\n",
       "        text-align: right;\n",
       "    }\n",
       "</style>\n",
       "<table border=\"1\" class=\"dataframe\">\n",
       "  <thead>\n",
       "    <tr style=\"text-align: right;\">\n",
       "      <th></th>\n",
       "      <th>condition_1</th>\n",
       "      <th>condition_2</th>\n",
       "      <th>volume</th>\n",
       "      <th>churn_volume</th>\n",
       "      <th>churn_rate</th>\n",
       "      <th>relative_churn_rate</th>\n",
       "      <th>cooperation</th>\n",
       "    </tr>\n",
       "  </thead>\n",
       "  <tbody>\n",
       "    <tr>\n",
       "      <th>30</th>\n",
       "      <td>last_activity == 1</td>\n",
       "      <td>(score &gt;= 830) &amp; (score &lt;= 910)</td>\n",
       "      <td>2154</td>\n",
       "      <td>796</td>\n",
       "      <td>0.369545</td>\n",
       "      <td>2.039046</td>\n",
       "      <td>1.137668</td>\n",
       "    </tr>\n",
       "  </tbody>\n",
       "</table>\n",
       "</div>"
      ],
      "text/plain": [
       "           condition_1                      condition_2 volume churn_volume  \\\n",
       "30  last_activity == 1  (score >= 830) & (score <= 910)   2154          796   \n",
       "\n",
       "    churn_rate  relative_churn_rate  cooperation  \n",
       "30    0.369545             2.039046     1.137668  "
      ]
     },
     "execution_count": 41,
     "metadata": {},
     "output_type": "execute_result"
    }
   ],
   "source": [
    "# only activity and scoring\n",
    "condition_list = [['last_activity == 1'], ['(score >= 830) & (score <= 910)']]\n",
    "segments_2_filter(condition_list)"
   ]
  },
  {
   "cell_type": "code",
   "execution_count": 42,
   "metadata": {},
   "outputs": [
    {
     "data": {
      "text/html": [
       "<div>\n",
       "<style scoped>\n",
       "    .dataframe tbody tr th:only-of-type {\n",
       "        vertical-align: middle;\n",
       "    }\n",
       "\n",
       "    .dataframe tbody tr th {\n",
       "        vertical-align: top;\n",
       "    }\n",
       "\n",
       "    .dataframe thead th {\n",
       "        text-align: right;\n",
       "    }\n",
       "</style>\n",
       "<table border=\"1\" class=\"dataframe\">\n",
       "  <thead>\n",
       "    <tr style=\"text-align: right;\">\n",
       "      <th></th>\n",
       "      <th>condition_1</th>\n",
       "      <th>condition_2</th>\n",
       "      <th>condition_3</th>\n",
       "      <th>volume</th>\n",
       "      <th>churn_volume</th>\n",
       "      <th>churn_rate</th>\n",
       "      <th>relative_churn_rate</th>\n",
       "      <th>cooperation</th>\n",
       "    </tr>\n",
       "  </thead>\n",
       "  <tbody>\n",
       "    <tr>\n",
       "      <th>100</th>\n",
       "      <td>last_activity == 1</td>\n",
       "      <td>(score &gt;= 830) &amp; (score &lt;= 910)</td>\n",
       "      <td>products &gt;= 2</td>\n",
       "      <td>1527</td>\n",
       "      <td>712</td>\n",
       "      <td>0.466274</td>\n",
       "      <td>2.572767</td>\n",
       "      <td>1.097046</td>\n",
       "    </tr>\n",
       "  </tbody>\n",
       "</table>\n",
       "</div>"
      ],
      "text/plain": [
       "            condition_1                      condition_2    condition_3  \\\n",
       "100  last_activity == 1  (score >= 830) & (score <= 910)  products >= 2   \n",
       "\n",
       "    volume churn_volume  churn_rate  relative_churn_rate  cooperation  \n",
       "100   1527          712    0.466274             2.572767     1.097046  "
      ]
     },
     "execution_count": 42,
     "metadata": {},
     "output_type": "execute_result"
    }
   ],
   "source": [
    "# now see the crossing of activity, scoring, and amount of products\n",
    "condition_list = [['last_activity == 1'], ['(score >= 830) & (score <= 910)'], ['products >= 2']]\n",
    "segments_3_filter(condition_list)"
   ]
  },
  {
   "cell_type": "markdown",
   "metadata": {},
   "source": [
    "Despite the fact that the cooperation rate has decreased slightly, the churn rate has increased significantly. Therefore, we add this option to the final list."
   ]
  },
  {
   "cell_type": "code",
   "execution_count": 43,
   "metadata": {},
   "outputs": [
    {
     "data": {
      "text/html": [
       "<div>\n",
       "<style scoped>\n",
       "    .dataframe tbody tr th:only-of-type {\n",
       "        vertical-align: middle;\n",
       "    }\n",
       "\n",
       "    .dataframe tbody tr th {\n",
       "        vertical-align: top;\n",
       "    }\n",
       "\n",
       "    .dataframe thead th {\n",
       "        text-align: right;\n",
       "    }\n",
       "</style>\n",
       "<table border=\"1\" class=\"dataframe\">\n",
       "  <thead>\n",
       "    <tr style=\"text-align: right;\">\n",
       "      <th></th>\n",
       "      <th>condition_1</th>\n",
       "      <th>condition_2</th>\n",
       "      <th>condition_3</th>\n",
       "      <th>volume</th>\n",
       "      <th>churn_volume</th>\n",
       "      <th>churn_rate</th>\n",
       "      <th>relative_churn_rate</th>\n",
       "      <th>cooperation</th>\n",
       "    </tr>\n",
       "  </thead>\n",
       "  <tbody>\n",
       "    <tr>\n",
       "      <th>7</th>\n",
       "      <td>balance &gt;= 750000</td>\n",
       "      <td>(age &gt;= 25) &amp; (age &lt;= 35)</td>\n",
       "      <td>NaN</td>\n",
       "      <td>613</td>\n",
       "      <td>298</td>\n",
       "      <td>0.486134</td>\n",
       "      <td>2.682349</td>\n",
       "      <td>1.169946</td>\n",
       "    </tr>\n",
       "    <tr>\n",
       "      <th>100</th>\n",
       "      <td>last_activity == 1</td>\n",
       "      <td>(score &gt;= 830) &amp; (score &lt;= 910)</td>\n",
       "      <td>products &gt;= 2</td>\n",
       "      <td>1527</td>\n",
       "      <td>712</td>\n",
       "      <td>0.466274</td>\n",
       "      <td>2.572767</td>\n",
       "      <td>1.097046</td>\n",
       "    </tr>\n",
       "  </tbody>\n",
       "</table>\n",
       "</div>"
      ],
      "text/plain": [
       "            condition_1                      condition_2    condition_3  \\\n",
       "7     balance >= 750000        (age >= 25) & (age <= 35)            NaN   \n",
       "100  last_activity == 1  (score >= 830) & (score <= 910)  products >= 2   \n",
       "\n",
       "    volume churn_volume  churn_rate  relative_churn_rate  cooperation  \n",
       "7      613          298    0.486134             2.682349     1.169946  \n",
       "100   1527          712    0.466274             2.572767     1.097046  "
      ]
     },
     "execution_count": 43,
     "metadata": {},
     "output_type": "execute_result"
    }
   ],
   "source": [
    "# adding the crossing of activity, scoring, and amount of products\n",
    "condition_list = [['last_activity == 1'], ['(score >= 830) & (score <= 910)'], ['products >= 2']]\n",
    "segment = segments_3_filter(condition_list)\n",
    "\n",
    "final_segments = pd.concat([final_segments, segment])\n",
    "final_segments"
   ]
  },
  {
   "cell_type": "markdown",
   "metadata": {},
   "source": [
    "Seeing the crossing of men and age in 50-60 with the property valuation and abcense of the credit card."
   ]
  },
  {
   "cell_type": "code",
   "execution_count": 44,
   "metadata": {},
   "outputs": [
    {
     "data": {
      "text/html": [
       "<div>\n",
       "<style scoped>\n",
       "    .dataframe tbody tr th:only-of-type {\n",
       "        vertical-align: middle;\n",
       "    }\n",
       "\n",
       "    .dataframe tbody tr th {\n",
       "        vertical-align: top;\n",
       "    }\n",
       "\n",
       "    .dataframe thead th {\n",
       "        text-align: right;\n",
       "    }\n",
       "</style>\n",
       "<table border=\"1\" class=\"dataframe\">\n",
       "  <thead>\n",
       "    <tr style=\"text-align: right;\">\n",
       "      <th></th>\n",
       "      <th>condition_1</th>\n",
       "      <th>condition_2</th>\n",
       "      <th>volume</th>\n",
       "      <th>churn_volume</th>\n",
       "      <th>churn_rate</th>\n",
       "      <th>relative_churn_rate</th>\n",
       "      <th>cooperation</th>\n",
       "    </tr>\n",
       "  </thead>\n",
       "  <tbody>\n",
       "    <tr>\n",
       "      <th>27</th>\n",
       "      <td>credit_card == 0</td>\n",
       "      <td>gender == \"М\"</td>\n",
       "      <td>1293</td>\n",
       "      <td>452</td>\n",
       "      <td>0.349575</td>\n",
       "      <td>1.928854</td>\n",
       "      <td>1.056528</td>\n",
       "    </tr>\n",
       "    <tr>\n",
       "      <th>21</th>\n",
       "      <td>equity &gt;= 3</td>\n",
       "      <td>gender == \"М\"</td>\n",
       "      <td>2699</td>\n",
       "      <td>954</td>\n",
       "      <td>0.353464</td>\n",
       "      <td>1.950316</td>\n",
       "      <td>1.037240</td>\n",
       "    </tr>\n",
       "    <tr>\n",
       "      <th>10</th>\n",
       "      <td>(age &gt;= 50) &amp; (age &lt;= 60)</td>\n",
       "      <td>credit_card == 0</td>\n",
       "      <td>702</td>\n",
       "      <td>249</td>\n",
       "      <td>0.354701</td>\n",
       "      <td>1.957140</td>\n",
       "      <td>0.954587</td>\n",
       "    </tr>\n",
       "    <tr>\n",
       "      <th>9</th>\n",
       "      <td>(age &gt;= 50) &amp; (age &lt;= 60)</td>\n",
       "      <td>equity &gt;= 3</td>\n",
       "      <td>1025</td>\n",
       "      <td>366</td>\n",
       "      <td>0.357073</td>\n",
       "      <td>1.970229</td>\n",
       "      <td>0.933045</td>\n",
       "    </tr>\n",
       "  </tbody>\n",
       "</table>\n",
       "</div>"
      ],
      "text/plain": [
       "                  condition_1       condition_2 volume churn_volume  \\\n",
       "27           credit_card == 0     gender == \"М\"   1293          452   \n",
       "21                equity >= 3     gender == \"М\"   2699          954   \n",
       "10  (age >= 50) & (age <= 60)  credit_card == 0    702          249   \n",
       "9   (age >= 50) & (age <= 60)       equity >= 3   1025          366   \n",
       "\n",
       "    churn_rate  relative_churn_rate  cooperation  \n",
       "27    0.349575             1.928854     1.056528  \n",
       "21    0.353464             1.950316     1.037240  \n",
       "10    0.354701             1.957140     0.954587  \n",
       "9     0.357073             1.970229     0.933045  "
      ]
     },
     "execution_count": 44,
     "metadata": {},
     "output_type": "execute_result"
    }
   ],
   "source": [
    "# first pair is men and age in 50-60, second pair is the property valuation and abcense of the credit card\n",
    "condition_list = [['gender == \"М\"', '(age >= 50) & (age <= 60)'], ['credit_card == 0', 'equity >= 3']]\n",
    "segments_2_filter(condition_list)"
   ]
  },
  {
   "cell_type": "markdown",
   "metadata": {},
   "source": [
    "Generally, the abcense of the credit card give a slightly better effect than the property valuation. There is no big difference, how to cross. Let's add Yaroslavl."
   ]
  },
  {
   "cell_type": "code",
   "execution_count": 45,
   "metadata": {},
   "outputs": [
    {
     "data": {
      "text/html": [
       "<div>\n",
       "<style scoped>\n",
       "    .dataframe tbody tr th:only-of-type {\n",
       "        vertical-align: middle;\n",
       "    }\n",
       "\n",
       "    .dataframe tbody tr th {\n",
       "        vertical-align: top;\n",
       "    }\n",
       "\n",
       "    .dataframe thead th {\n",
       "        text-align: right;\n",
       "    }\n",
       "</style>\n",
       "<table border=\"1\" class=\"dataframe\">\n",
       "  <thead>\n",
       "    <tr style=\"text-align: right;\">\n",
       "      <th></th>\n",
       "      <th>condition_1</th>\n",
       "      <th>condition_2</th>\n",
       "      <th>condition_3</th>\n",
       "      <th>volume</th>\n",
       "      <th>churn_volume</th>\n",
       "      <th>churn_rate</th>\n",
       "      <th>relative_churn_rate</th>\n",
       "      <th>cooperation</th>\n",
       "    </tr>\n",
       "  </thead>\n",
       "  <tbody>\n",
       "    <tr>\n",
       "      <th>98</th>\n",
       "      <td>credit_card == 0</td>\n",
       "      <td>gender == \"М\"</td>\n",
       "      <td>city_is_Ярославль == 1</td>\n",
       "      <td>628</td>\n",
       "      <td>251</td>\n",
       "      <td>0.399682</td>\n",
       "      <td>2.205330</td>\n",
       "      <td>1.161057</td>\n",
       "    </tr>\n",
       "    <tr>\n",
       "      <th>48</th>\n",
       "      <td>(age &gt;= 50) &amp; (age &lt;= 60)</td>\n",
       "      <td>credit_card == 0</td>\n",
       "      <td>city_is_Ярославль == 1</td>\n",
       "      <td>347</td>\n",
       "      <td>140</td>\n",
       "      <td>0.403458</td>\n",
       "      <td>2.226169</td>\n",
       "      <td>1.043638</td>\n",
       "    </tr>\n",
       "    <tr>\n",
       "      <th>83</th>\n",
       "      <td>equity &gt;= 3</td>\n",
       "      <td>gender == \"М\"</td>\n",
       "      <td>city_is_Ярославль == 1</td>\n",
       "      <td>1572</td>\n",
       "      <td>575</td>\n",
       "      <td>0.365776</td>\n",
       "      <td>2.018250</td>\n",
       "      <td>1.031685</td>\n",
       "    </tr>\n",
       "    <tr>\n",
       "      <th>42</th>\n",
       "      <td>(age &gt;= 50) &amp; (age &lt;= 60)</td>\n",
       "      <td>equity &gt;= 3</td>\n",
       "      <td>city_is_Ярославль == 1</td>\n",
       "      <td>562</td>\n",
       "      <td>215</td>\n",
       "      <td>0.382562</td>\n",
       "      <td>2.110871</td>\n",
       "      <td>0.960828</td>\n",
       "    </tr>\n",
       "  </tbody>\n",
       "</table>\n",
       "</div>"
      ],
      "text/plain": [
       "                  condition_1       condition_2             condition_3  \\\n",
       "98           credit_card == 0     gender == \"М\"  city_is_Ярославль == 1   \n",
       "48  (age >= 50) & (age <= 60)  credit_card == 0  city_is_Ярославль == 1   \n",
       "83                equity >= 3     gender == \"М\"  city_is_Ярославль == 1   \n",
       "42  (age >= 50) & (age <= 60)       equity >= 3  city_is_Ярославль == 1   \n",
       "\n",
       "   volume churn_volume  churn_rate  relative_churn_rate  cooperation  \n",
       "98    628          251    0.399682             2.205330     1.161057  \n",
       "48    347          140    0.403458             2.226169     1.043638  \n",
       "83   1572          575    0.365776             2.018250     1.031685  \n",
       "42    562          215    0.382562             2.110871     0.960828  "
      ]
     },
     "execution_count": 45,
     "metadata": {},
     "output_type": "execute_result"
    }
   ],
   "source": [
    "# adding Yaroslavl to a previous segments\n",
    "condition_list = [['gender == \"М\"', '(age >= 50) & (age <= 60)'], ['credit_card == 0', 'equity >= 3'], ['city_is_Ярославль == 1']]\n",
    "segments_3_filter(condition_list)"
   ]
  },
  {
   "cell_type": "markdown",
   "metadata": {},
   "source": [
    "The combination of men, lack of a credit card and Yaroslavl gives the best effect. We approve this option, and according to the residual principle, we will collect the age of 50-60 and the property valuation >= 3."
   ]
  },
  {
   "cell_type": "code",
   "execution_count": 46,
   "metadata": {},
   "outputs": [
    {
     "data": {
      "text/html": [
       "<div>\n",
       "<style scoped>\n",
       "    .dataframe tbody tr th:only-of-type {\n",
       "        vertical-align: middle;\n",
       "    }\n",
       "\n",
       "    .dataframe tbody tr th {\n",
       "        vertical-align: top;\n",
       "    }\n",
       "\n",
       "    .dataframe thead th {\n",
       "        text-align: right;\n",
       "    }\n",
       "</style>\n",
       "<table border=\"1\" class=\"dataframe\">\n",
       "  <thead>\n",
       "    <tr style=\"text-align: right;\">\n",
       "      <th></th>\n",
       "      <th>condition_1</th>\n",
       "      <th>condition_2</th>\n",
       "      <th>condition_3</th>\n",
       "      <th>volume</th>\n",
       "      <th>churn_volume</th>\n",
       "      <th>churn_rate</th>\n",
       "      <th>relative_churn_rate</th>\n",
       "      <th>cooperation</th>\n",
       "    </tr>\n",
       "  </thead>\n",
       "  <tbody>\n",
       "    <tr>\n",
       "      <th>7</th>\n",
       "      <td>balance &gt;= 750000</td>\n",
       "      <td>(age &gt;= 25) &amp; (age &lt;= 35)</td>\n",
       "      <td>NaN</td>\n",
       "      <td>613</td>\n",
       "      <td>298</td>\n",
       "      <td>0.486134</td>\n",
       "      <td>2.682349</td>\n",
       "      <td>1.169946</td>\n",
       "    </tr>\n",
       "    <tr>\n",
       "      <th>100</th>\n",
       "      <td>last_activity == 1</td>\n",
       "      <td>(score &gt;= 830) &amp; (score &lt;= 910)</td>\n",
       "      <td>products &gt;= 2</td>\n",
       "      <td>1527</td>\n",
       "      <td>712</td>\n",
       "      <td>0.466274</td>\n",
       "      <td>2.572767</td>\n",
       "      <td>1.097046</td>\n",
       "    </tr>\n",
       "    <tr>\n",
       "      <th>98</th>\n",
       "      <td>credit_card == 0</td>\n",
       "      <td>gender == \"М\"</td>\n",
       "      <td>city_is_Ярославль == 1</td>\n",
       "      <td>628</td>\n",
       "      <td>251</td>\n",
       "      <td>0.399682</td>\n",
       "      <td>2.205330</td>\n",
       "      <td>1.161057</td>\n",
       "    </tr>\n",
       "    <tr>\n",
       "      <th>9</th>\n",
       "      <td>(age &gt;= 50) &amp; (age &lt;= 60)</td>\n",
       "      <td>equity &gt;= 3</td>\n",
       "      <td>NaN</td>\n",
       "      <td>1025</td>\n",
       "      <td>366</td>\n",
       "      <td>0.357073</td>\n",
       "      <td>1.970229</td>\n",
       "      <td>0.933045</td>\n",
       "    </tr>\n",
       "  </tbody>\n",
       "</table>\n",
       "</div>"
      ],
      "text/plain": [
       "                   condition_1                      condition_2  \\\n",
       "7            balance >= 750000        (age >= 25) & (age <= 35)   \n",
       "100         last_activity == 1  (score >= 830) & (score <= 910)   \n",
       "98            credit_card == 0                    gender == \"М\"   \n",
       "9    (age >= 50) & (age <= 60)                      equity >= 3   \n",
       "\n",
       "                condition_3 volume churn_volume  churn_rate  \\\n",
       "7                       NaN    613          298    0.486134   \n",
       "100           products >= 2   1527          712    0.466274   \n",
       "98   city_is_Ярославль == 1    628          251    0.399682   \n",
       "9                       NaN   1025          366    0.357073   \n",
       "\n",
       "     relative_churn_rate  cooperation  \n",
       "7               2.682349     1.169946  \n",
       "100             2.572767     1.097046  \n",
       "98              2.205330     1.161057  \n",
       "9               1.970229     0.933045  "
      ]
     },
     "execution_count": 46,
     "metadata": {},
     "output_type": "execute_result"
    }
   ],
   "source": [
    "# adding the combination of men, lack of a credit card and Yaroslavl\n",
    "condition_list = [['gender == \"М\"'], ['credit_card == 0'], ['city_is_Ярославль == 1']]\n",
    "segment = segments_3_filter(condition_list)\n",
    "\n",
    "final_segments = pd.concat([final_segments, segment])\n",
    "\n",
    "# adding the crossing of age in 50-60 and the property valuation\n",
    "condition_list = [['(age >= 50) & (age <= 60)'], ['equity >= 3']]\n",
    "segment = segments_2_filter(condition_list)\n",
    "\n",
    "final_segments = pd.concat([final_segments, segment])\n",
    "final_segments"
   ]
  },
  {
   "cell_type": "markdown",
   "metadata": {},
   "source": [
    "**CONCLUSIONS:**\n",
    "\n",
    "We have formed four outflow segments:\n",
    "* Clients aged 25-35 with a balance above 750,000 rubles,\n",
    "* Active customers with a score of 830 to 910 using two or more products,\n",
    "* Men served by the Yaroslavl branch of the bank who do not have a credit card,\n",
    "* Clients aged 50-60 with a property rating of 3 or higher."
   ]
  },
  {
   "cell_type": "markdown",
   "metadata": {},
   "source": [
    "<a id=\"final_conclusions\"></a> \n",
    "## Final conclutions"
   ]
  },
  {
   "cell_type": "markdown",
   "metadata": {},
   "source": [
    "<a id=\"final_conc_segments\"></a> \n",
    "### Final conclutions by the segments\n",
    "\n",
    "**Customers aged 25-35 with a balance above 750,000 rubles**\n",
    "\n",
    "Segment with the highest churn rate. There are few such clients (since there are not many people who have more than 750,000 rubles in their account), but they are important for the bank, because the bank can get more income from such clients. Due to their young age and quite a lot of money, these people may have a need to actively manage their finances through the application. Perhaps there are some problems with it.\n",
    "\n",
    "**Active customers with a score of 830 to 910 using two or more products**\n",
    "\n",
    "Largest of the churn segments with the highest number of left customers. These are people who are quite active and use banking services a lot. The fact that they often leave indicates that they are either dissatisfied with some services or other banks offer more favorable conditions to active users. Also, these people have a fairly high scoring, so these clients can also be quite important for the bank.\n",
    "\n",
    "**Men served by the Yaroslavl branch of the bank who do not have a credit card**\n",
    "\n",
    "A small segment with the least number of lost customers.\n",
    "\n",
    "**Customers aged 50-60 with a property rating of 3 or higher**\n",
    "\n",
    "Quite a large segment, the second in terms of number and the second in terms of the number of customers who left, although it is also the smallest in terms of churn rate. You should try to keep these people while they are at this age because older clients are likely to be more conservative and less willing to leave. Perhaps these clients have some specific requirements for the bank, possibly related to coming retirement."
   ]
  },
  {
   "cell_type": "markdown",
   "metadata": {},
   "source": [
    "<a id=\"prioritization\"></a> \n",
    "###  Churn segments prioritization"
   ]
  },
  {
   "cell_type": "markdown",
   "metadata": {},
   "source": [
    "Prioritization of churn segments depends on the strategy the bank chooses to use.\n",
    "\n",
    "If the bank prefers to use the strategy of offering customers some special conditions personally by calling them, then it is recommended to prioritize the segments by churn rate, because a call to each client will potentially be more important and the bank does not have automated call and mailing systems. In this case, the priorities are:\n",
    "1. Clients aged 25-35 with a balance above 750,000 rubles\n",
    "2. Active customers with a score of 830 to 910 using two or more products\n",
    "3. Men served by the Yaroslavl branch of the bank who do not have a credit card\n",
    "4. Clients aged 50-60 with a property rating of 3 or higher\n",
    "\n",
    "If the bank decides to use a less individual approach to develop mass offers to customers then segments should be prioritized by the number of customers who have left, because segment size will matter:\n",
    "1. Active customers with a score of 830 to 910 using two or more products\n",
    "2. Clients aged 50-60 with a property rating of 3 or higher\n",
    "3. Clients aged 25-35 with a balance above 750,000 rubles\n",
    "4. Men served by the Yaroslavl branch of the bank who do not have a credit card"
   ]
  },
  {
   "cell_type": "markdown",
   "metadata": {},
   "source": [
    "<a id=\"reco\"></a> \n",
    "### Recommendations"
   ]
  },
  {
   "cell_type": "markdown",
   "metadata": {},
   "source": [
    "1. Conduct telephone interviews or focus groups with representatives of the segments \"Customers aged 25-35 with a balance above 750,000 rubles\" and \"Active customers with a score of 830 to 910 using two or more products\" in order to identify problems in the current services or conditions of the bank. These clients are likely to leave because they do not receive the required range or quality of services from the bank.\n",
    "1. Analyze competitors' offers for an active and highly profitable audience.\n",
    "1. Based on points 1-2, identify room for improvement and improve conditions or services for customers from these segments.\n",
    "1. To offer men who are served in the Yaroslavl branch of the bank and who do not have a credit card to issue one. Organize a call with the appropriate offer.\n",
    "1. Analyze the offers of competitors related to servicing people of pre-retirement age. Based on this analysis, prepare a proposal for this audience."
   ]
  }
 ],
 "metadata": {
  "ExecuteTimeLog": [
   {
    "duration": 88,
    "start_time": "2023-06-24T15:55:13.764Z"
   },
   {
    "duration": 1537,
    "start_time": "2023-07-01T18:48:25.154Z"
   },
   {
    "duration": 104,
    "start_time": "2023-07-01T18:49:59.739Z"
   },
   {
    "duration": 40,
    "start_time": "2023-07-01T18:50:41.886Z"
   },
   {
    "duration": 23,
    "start_time": "2023-07-01T18:50:44.021Z"
   },
   {
    "duration": 4,
    "start_time": "2023-07-01T18:52:23.889Z"
   },
   {
    "duration": 20,
    "start_time": "2023-07-01T18:52:50.848Z"
   },
   {
    "duration": 29,
    "start_time": "2023-07-01T18:53:37.275Z"
   },
   {
    "duration": 8,
    "start_time": "2023-07-01T18:54:43.417Z"
   },
   {
    "duration": 101,
    "start_time": "2023-07-01T18:54:44.727Z"
   },
   {
    "duration": 120,
    "start_time": "2023-07-01T18:54:54.908Z"
   },
   {
    "duration": 102,
    "start_time": "2023-07-01T18:56:21.456Z"
   },
   {
    "duration": 300,
    "start_time": "2023-07-01T18:58:13.298Z"
   },
   {
    "duration": 271,
    "start_time": "2023-07-01T19:02:12.711Z"
   },
   {
    "duration": 4,
    "start_time": "2023-07-01T19:04:21.196Z"
   },
   {
    "duration": 312,
    "start_time": "2023-07-01T19:04:27.390Z"
   },
   {
    "duration": 197,
    "start_time": "2023-07-01T19:05:47.134Z"
   },
   {
    "duration": 42,
    "start_time": "2023-07-01T19:06:26.035Z"
   },
   {
    "duration": 3,
    "start_time": "2023-07-01T19:08:06.336Z"
   },
   {
    "duration": 242,
    "start_time": "2023-07-01T19:08:31.684Z"
   },
   {
    "duration": 235,
    "start_time": "2023-07-01T19:41:54.893Z"
   },
   {
    "duration": 252,
    "start_time": "2023-07-01T19:42:10.963Z"
   },
   {
    "duration": 15,
    "start_time": "2023-07-01T19:45:37.044Z"
   },
   {
    "duration": 29,
    "start_time": "2023-07-01T19:49:15.854Z"
   },
   {
    "duration": 29,
    "start_time": "2023-07-01T19:50:31.078Z"
   },
   {
    "duration": 32,
    "start_time": "2023-07-01T19:51:25.600Z"
   },
   {
    "duration": 31,
    "start_time": "2023-07-01T19:51:45.929Z"
   },
   {
    "duration": 30,
    "start_time": "2023-07-01T19:52:04.151Z"
   },
   {
    "duration": 32,
    "start_time": "2023-07-01T19:53:27.901Z"
   },
   {
    "duration": 61,
    "start_time": "2023-07-01T19:54:22.587Z"
   },
   {
    "duration": 69,
    "start_time": "2023-07-01T19:54:26.485Z"
   },
   {
    "duration": 31,
    "start_time": "2023-07-01T19:54:32.657Z"
   },
   {
    "duration": 29,
    "start_time": "2023-07-01T19:54:55.782Z"
   },
   {
    "duration": 29,
    "start_time": "2023-07-01T19:56:44.243Z"
   },
   {
    "duration": 29,
    "start_time": "2023-07-01T19:57:08.097Z"
   },
   {
    "duration": 29,
    "start_time": "2023-07-01T19:57:46.158Z"
   },
   {
    "duration": 20,
    "start_time": "2023-07-01T19:58:00.396Z"
   },
   {
    "duration": 5,
    "start_time": "2023-07-01T19:58:23.902Z"
   },
   {
    "duration": 14,
    "start_time": "2023-07-01T19:58:38.968Z"
   },
   {
    "duration": 14,
    "start_time": "2023-07-01T19:59:42.151Z"
   },
   {
    "duration": 1237,
    "start_time": "2023-07-01T20:00:47.548Z"
   },
   {
    "duration": 2,
    "start_time": "2023-07-01T20:00:49.498Z"
   },
   {
    "duration": 41,
    "start_time": "2023-07-01T20:00:50.066Z"
   },
   {
    "duration": 27,
    "start_time": "2023-07-01T20:00:51.257Z"
   },
   {
    "duration": 3,
    "start_time": "2023-07-01T20:00:52.776Z"
   },
   {
    "duration": 25,
    "start_time": "2023-07-01T20:00:53.827Z"
   },
   {
    "duration": 24,
    "start_time": "2023-07-01T20:00:54.869Z"
   },
   {
    "duration": 8,
    "start_time": "2023-07-01T20:00:56.401Z"
   },
   {
    "duration": 100,
    "start_time": "2023-07-01T20:00:57.155Z"
   },
   {
    "duration": 90,
    "start_time": "2023-07-01T20:00:57.534Z"
   },
   {
    "duration": 260,
    "start_time": "2023-07-01T20:01:01.012Z"
   },
   {
    "duration": 258,
    "start_time": "2023-07-01T20:01:03.670Z"
   },
   {
    "duration": 16,
    "start_time": "2023-07-01T20:01:05.609Z"
   },
   {
    "duration": 16,
    "start_time": "2023-07-01T20:01:07.001Z"
   },
   {
    "duration": 26,
    "start_time": "2023-07-01T20:01:08.890Z"
   },
   {
    "duration": 1989,
    "start_time": "2023-07-01T20:01:34.431Z"
   },
   {
    "duration": 1385,
    "start_time": "2023-07-01T20:02:38.795Z"
   },
   {
    "duration": 1946,
    "start_time": "2023-07-01T20:06:52.488Z"
   },
   {
    "duration": 2408,
    "start_time": "2023-07-01T20:07:47.964Z"
   },
   {
    "duration": 2405,
    "start_time": "2023-07-01T20:13:53.960Z"
   },
   {
    "duration": 137,
    "start_time": "2023-07-01T20:14:54.830Z"
   },
   {
    "duration": 408,
    "start_time": "2023-07-01T20:15:33.050Z"
   },
   {
    "duration": 6,
    "start_time": "2023-07-01T20:16:58.050Z"
   },
   {
    "duration": 4,
    "start_time": "2023-07-01T20:16:58.622Z"
   },
   {
    "duration": 107,
    "start_time": "2023-07-01T20:16:59.088Z"
   },
   {
    "duration": 10,
    "start_time": "2023-07-01T20:18:24.865Z"
   },
   {
    "duration": 10,
    "start_time": "2023-07-01T20:20:13.712Z"
   },
   {
    "duration": 13,
    "start_time": "2023-07-01T20:22:45.012Z"
   },
   {
    "duration": 12,
    "start_time": "2023-07-01T20:22:54.351Z"
   },
   {
    "duration": 14,
    "start_time": "2023-07-01T20:23:01.085Z"
   },
   {
    "duration": 3,
    "start_time": "2023-07-01T20:24:50.041Z"
   },
   {
    "duration": 3,
    "start_time": "2023-07-01T20:24:50.671Z"
   },
   {
    "duration": 84,
    "start_time": "2023-07-01T20:25:07.553Z"
   },
   {
    "duration": 3,
    "start_time": "2023-07-01T20:25:36.700Z"
   },
   {
    "duration": 87,
    "start_time": "2023-07-01T20:25:38.767Z"
   },
   {
    "duration": 3,
    "start_time": "2023-07-01T20:25:59.035Z"
   },
   {
    "duration": 90,
    "start_time": "2023-07-01T20:26:01.378Z"
   },
   {
    "duration": 558,
    "start_time": "2023-07-01T20:29:16.373Z"
   },
   {
    "duration": 4059,
    "start_time": "2023-07-01T20:29:20.233Z"
   },
   {
    "duration": 5,
    "start_time": "2023-07-01T20:54:26.607Z"
   },
   {
    "duration": 4,
    "start_time": "2023-07-01T20:54:40.532Z"
   },
   {
    "duration": 112,
    "start_time": "2023-07-01T20:54:43.573Z"
   },
   {
    "duration": 3761,
    "start_time": "2023-07-01T21:09:02.821Z"
   },
   {
    "duration": 662,
    "start_time": "2023-07-01T21:09:19.428Z"
   },
   {
    "duration": 5519,
    "start_time": "2023-07-01T21:09:22.251Z"
   },
   {
    "duration": 630,
    "start_time": "2023-07-01T21:13:46.531Z"
   },
   {
    "duration": 683,
    "start_time": "2023-07-01T21:20:14.920Z"
   },
   {
    "duration": 8021,
    "start_time": "2023-07-01T21:21:40.934Z"
   },
   {
    "duration": 6,
    "start_time": "2023-07-01T21:24:26.654Z"
   },
   {
    "duration": 5,
    "start_time": "2023-07-01T21:24:28.665Z"
   },
   {
    "duration": 98,
    "start_time": "2023-07-01T21:25:15.199Z"
   },
   {
    "duration": 65,
    "start_time": "2023-07-01T21:25:49.976Z"
   },
   {
    "duration": 122,
    "start_time": "2023-07-01T21:25:58.168Z"
   },
   {
    "duration": 122,
    "start_time": "2023-07-01T21:26:29.433Z"
   },
   {
    "duration": 57,
    "start_time": "2023-07-01T21:26:54.283Z"
   },
   {
    "duration": 110,
    "start_time": "2023-07-01T21:27:31.910Z"
   },
   {
    "duration": 634,
    "start_time": "2023-07-01T21:28:33.765Z"
   },
   {
    "duration": 7456,
    "start_time": "2023-07-01T21:28:34.802Z"
   },
   {
    "duration": 4,
    "start_time": "2023-07-01T21:28:42.260Z"
   },
   {
    "duration": 4,
    "start_time": "2023-07-01T21:28:42.266Z"
   },
   {
    "duration": 59,
    "start_time": "2023-07-01T21:28:51.543Z"
   },
   {
    "duration": 58,
    "start_time": "2023-07-01T21:28:53.253Z"
   },
   {
    "duration": 112,
    "start_time": "2023-07-01T21:28:54.609Z"
   },
   {
    "duration": 121,
    "start_time": "2023-07-01T21:29:04.954Z"
   },
   {
    "duration": 4,
    "start_time": "2023-07-01T21:31:00.872Z"
   },
   {
    "duration": 4,
    "start_time": "2023-07-01T21:31:02.213Z"
   },
   {
    "duration": 111,
    "start_time": "2023-07-01T21:31:07.638Z"
   },
   {
    "duration": 636,
    "start_time": "2023-07-01T21:32:19.386Z"
   },
   {
    "duration": 5497,
    "start_time": "2023-07-01T21:32:21.291Z"
   },
   {
    "duration": 651,
    "start_time": "2023-07-01T21:33:09.111Z"
   },
   {
    "duration": 7658,
    "start_time": "2023-07-01T21:33:59.957Z"
   },
   {
    "duration": 7502,
    "start_time": "2023-07-01T21:35:09.060Z"
   },
   {
    "duration": 5,
    "start_time": "2023-07-01T21:35:27.422Z"
   },
   {
    "duration": 5,
    "start_time": "2023-07-01T21:35:28.293Z"
   },
   {
    "duration": 64,
    "start_time": "2023-07-01T21:35:34.130Z"
   },
   {
    "duration": 59,
    "start_time": "2023-07-01T21:35:36.274Z"
   },
   {
    "duration": 114,
    "start_time": "2023-07-01T21:35:37.546Z"
   },
   {
    "duration": 113,
    "start_time": "2023-07-01T21:35:49.607Z"
   },
   {
    "duration": 65,
    "start_time": "2023-07-01T21:35:56.418Z"
   },
   {
    "duration": 117,
    "start_time": "2023-07-01T21:36:07.727Z"
   },
   {
    "duration": 176,
    "start_time": "2023-07-01T21:36:46.630Z"
   },
   {
    "duration": 5,
    "start_time": "2023-07-01T22:34:11.579Z"
   },
   {
    "duration": 1211,
    "start_time": "2023-07-01T23:51:47.674Z"
   },
   {
    "duration": 3,
    "start_time": "2023-07-01T23:51:48.887Z"
   },
   {
    "duration": 42,
    "start_time": "2023-07-01T23:51:49.671Z"
   },
   {
    "duration": 28,
    "start_time": "2023-07-01T23:51:50.167Z"
   },
   {
    "duration": 4,
    "start_time": "2023-07-01T23:51:50.783Z"
   },
   {
    "duration": 19,
    "start_time": "2023-07-01T23:51:51.234Z"
   },
   {
    "duration": 21,
    "start_time": "2023-07-01T23:51:51.537Z"
   },
   {
    "duration": 8,
    "start_time": "2023-07-01T23:51:52.013Z"
   },
   {
    "duration": 92,
    "start_time": "2023-07-01T23:51:52.168Z"
   },
   {
    "duration": 98,
    "start_time": "2023-07-01T23:51:52.329Z"
   },
   {
    "duration": 253,
    "start_time": "2023-07-01T23:51:53.108Z"
   },
   {
    "duration": 254,
    "start_time": "2023-07-01T23:51:53.744Z"
   },
   {
    "duration": 15,
    "start_time": "2023-07-01T23:51:54.058Z"
   },
   {
    "duration": 17,
    "start_time": "2023-07-01T23:51:54.380Z"
   },
   {
    "duration": 5,
    "start_time": "2023-07-01T23:51:54.546Z"
   },
   {
    "duration": 25,
    "start_time": "2023-07-01T23:51:55.017Z"
   },
   {
    "duration": 1966,
    "start_time": "2023-07-01T23:51:55.654Z"
   },
   {
    "duration": 1359,
    "start_time": "2023-07-01T23:51:57.622Z"
   },
   {
    "duration": 2482,
    "start_time": "2023-07-01T23:51:58.984Z"
   },
   {
    "duration": 147,
    "start_time": "2023-07-01T23:52:01.470Z"
   },
   {
    "duration": 429,
    "start_time": "2023-07-01T23:52:01.619Z"
   },
   {
    "duration": 7,
    "start_time": "2023-07-01T23:52:02.054Z"
   },
   {
    "duration": 33,
    "start_time": "2023-07-01T23:52:02.063Z"
   },
   {
    "duration": 20,
    "start_time": "2023-07-01T23:52:02.098Z"
   },
   {
    "duration": 23,
    "start_time": "2023-07-01T23:52:02.119Z"
   },
   {
    "duration": 19,
    "start_time": "2023-07-01T23:52:02.145Z"
   },
   {
    "duration": 20,
    "start_time": "2023-07-01T23:52:02.165Z"
   },
   {
    "duration": 12,
    "start_time": "2023-07-01T23:52:02.187Z"
   },
   {
    "duration": 12,
    "start_time": "2023-07-01T23:52:02.200Z"
   },
   {
    "duration": 4,
    "start_time": "2023-07-01T23:52:02.213Z"
   },
   {
    "duration": 35,
    "start_time": "2023-07-01T23:52:02.219Z"
   },
   {
    "duration": 119,
    "start_time": "2023-07-01T23:52:02.256Z"
   },
   {
    "duration": 564,
    "start_time": "2023-07-01T23:52:02.520Z"
   },
   {
    "duration": 5700,
    "start_time": "2023-07-01T23:52:03.086Z"
   },
   {
    "duration": 643,
    "start_time": "2023-07-01T23:52:08.788Z"
   },
   {
    "duration": 7336,
    "start_time": "2023-07-01T23:52:09.432Z"
   },
   {
    "duration": 4,
    "start_time": "2023-07-01T23:52:16.770Z"
   },
   {
    "duration": 15,
    "start_time": "2023-07-01T23:52:16.776Z"
   },
   {
    "duration": 177,
    "start_time": "2023-07-01T23:52:16.793Z"
   },
   {
    "duration": 61,
    "start_time": "2023-07-01T23:52:16.972Z"
   },
   {
    "duration": 128,
    "start_time": "2023-07-01T23:52:17.053Z"
   },
   {
    "duration": 126,
    "start_time": "2023-07-01T23:52:17.183Z"
   },
   {
    "duration": 77,
    "start_time": "2023-07-01T23:52:17.312Z"
   },
   {
    "duration": 140,
    "start_time": "2023-07-01T23:52:17.391Z"
   },
   {
    "duration": 157,
    "start_time": "2023-07-01T23:52:17.533Z"
   },
   {
    "duration": 1306,
    "start_time": "2023-07-03T16:27:21.196Z"
   },
   {
    "duration": 4,
    "start_time": "2023-07-03T16:27:22.556Z"
   },
   {
    "duration": 98,
    "start_time": "2023-07-03T16:27:23.293Z"
   },
   {
    "duration": 25,
    "start_time": "2023-07-03T16:27:28.310Z"
   },
   {
    "duration": 4,
    "start_time": "2023-07-03T16:27:30.592Z"
   },
   {
    "duration": 19,
    "start_time": "2023-07-03T16:27:32.297Z"
   },
   {
    "duration": 19,
    "start_time": "2023-07-03T16:27:33.298Z"
   },
   {
    "duration": 7,
    "start_time": "2023-07-03T16:27:34.844Z"
   },
   {
    "duration": 92,
    "start_time": "2023-07-03T16:27:35.523Z"
   },
   {
    "duration": 105,
    "start_time": "2023-07-03T16:27:36.025Z"
   },
   {
    "duration": 249,
    "start_time": "2023-07-03T16:27:41.700Z"
   },
   {
    "duration": 267,
    "start_time": "2023-07-03T16:27:47.922Z"
   },
   {
    "duration": 17,
    "start_time": "2023-07-03T16:27:51.077Z"
   },
   {
    "duration": 17,
    "start_time": "2023-07-03T16:27:54.182Z"
   },
   {
    "duration": 4,
    "start_time": "2023-07-03T16:27:54.850Z"
   },
   {
    "duration": 21,
    "start_time": "2023-07-03T16:27:58.837Z"
   },
   {
    "duration": 1843,
    "start_time": "2023-07-03T16:28:06.779Z"
   },
   {
    "duration": 1561,
    "start_time": "2023-07-03T16:28:15.032Z"
   },
   {
    "duration": 2183,
    "start_time": "2023-07-03T16:28:25.804Z"
   },
   {
    "duration": 2282,
    "start_time": "2023-07-03T16:41:15.742Z"
   },
   {
    "duration": 15,
    "start_time": "2023-07-03T16:44:56.117Z"
   },
   {
    "duration": 2111,
    "start_time": "2023-07-03T16:45:18.232Z"
   },
   {
    "duration": 2051,
    "start_time": "2023-07-03T16:45:42.537Z"
   },
   {
    "duration": 477,
    "start_time": "2023-07-03T16:48:32.074Z"
   },
   {
    "duration": 34,
    "start_time": "2023-07-03T16:48:59.239Z"
   },
   {
    "duration": 620,
    "start_time": "2023-07-03T16:49:17.686Z"
   },
   {
    "duration": 481,
    "start_time": "2023-07-03T16:49:54.984Z"
   },
   {
    "duration": 487,
    "start_time": "2023-07-03T16:50:13.004Z"
   },
   {
    "duration": 1138,
    "start_time": "2023-07-03T16:51:18.198Z"
   },
   {
    "duration": 111,
    "start_time": "2023-07-03T16:53:16.130Z"
   },
   {
    "duration": 412,
    "start_time": "2023-07-03T16:54:50.100Z"
   },
   {
    "duration": 1719,
    "start_time": "2023-07-25T11:20:15.499Z"
   },
   {
    "duration": 4,
    "start_time": "2023-07-25T11:20:17.348Z"
   },
   {
    "duration": 108,
    "start_time": "2023-07-25T11:20:18.144Z"
   },
   {
    "duration": 43,
    "start_time": "2023-07-25T11:20:20.685Z"
   },
   {
    "duration": 8,
    "start_time": "2023-07-25T11:20:23.378Z"
   },
   {
    "duration": 30,
    "start_time": "2023-07-25T11:20:24.853Z"
   },
   {
    "duration": 23,
    "start_time": "2023-07-25T11:20:26.440Z"
   },
   {
    "duration": 8,
    "start_time": "2023-07-25T11:20:30.801Z"
   },
   {
    "duration": 118,
    "start_time": "2023-07-25T11:20:45.011Z"
   },
   {
    "duration": 116,
    "start_time": "2023-07-25T11:21:03.223Z"
   },
   {
    "duration": 349,
    "start_time": "2023-07-25T11:21:12.080Z"
   },
   {
    "duration": 304,
    "start_time": "2023-07-25T11:21:18.699Z"
   },
   {
    "duration": 16,
    "start_time": "2023-07-25T11:21:22.937Z"
   },
   {
    "duration": 16,
    "start_time": "2023-07-25T11:21:29.293Z"
   },
   {
    "duration": 6,
    "start_time": "2023-07-25T11:21:31.099Z"
   },
   {
    "duration": 25,
    "start_time": "2023-07-25T11:22:11.496Z"
   },
   {
    "duration": 2298,
    "start_time": "2023-07-25T11:22:17.544Z"
   },
   {
    "duration": 2656,
    "start_time": "2023-07-25T11:22:28.393Z"
   },
   {
    "duration": 2625,
    "start_time": "2023-07-25T11:22:36.458Z"
   },
   {
    "duration": 1395,
    "start_time": "2023-07-25T11:22:40.765Z"
   },
   {
    "duration": 173,
    "start_time": "2023-07-25T11:22:47.335Z"
   },
   {
    "duration": 471,
    "start_time": "2023-07-25T11:22:51.405Z"
   },
   {
    "duration": 13,
    "start_time": "2023-07-25T11:22:54.918Z"
   },
   {
    "duration": 4,
    "start_time": "2023-07-25T11:22:57.039Z"
   },
   {
    "duration": 7,
    "start_time": "2023-07-25T11:22:57.710Z"
   },
   {
    "duration": 20,
    "start_time": "2023-07-25T11:22:59.057Z"
   },
   {
    "duration": 13,
    "start_time": "2023-07-25T11:23:10.800Z"
   },
   {
    "duration": 16,
    "start_time": "2023-07-25T11:23:20.542Z"
   },
   {
    "duration": 15,
    "start_time": "2023-07-25T11:23:25.527Z"
   },
   {
    "duration": 13,
    "start_time": "2023-07-25T11:23:29.604Z"
   },
   {
    "duration": 4,
    "start_time": "2023-07-25T11:23:55.735Z"
   },
   {
    "duration": 3,
    "start_time": "2023-07-25T11:23:57.204Z"
   },
   {
    "duration": 137,
    "start_time": "2023-07-25T11:23:57.839Z"
   },
   {
    "duration": 674,
    "start_time": "2023-07-25T11:24:01.443Z"
   },
   {
    "duration": 6374,
    "start_time": "2023-07-25T11:24:04.605Z"
   },
   {
    "duration": 735,
    "start_time": "2023-07-25T11:24:35.405Z"
   },
   {
    "duration": 8978,
    "start_time": "2023-07-25T11:24:36.539Z"
   },
   {
    "duration": 4,
    "start_time": "2023-07-25T11:24:45.519Z"
   },
   {
    "duration": 26,
    "start_time": "2023-07-25T11:24:45.525Z"
   },
   {
    "duration": 244,
    "start_time": "2023-07-25T11:24:45.554Z"
   },
   {
    "duration": 87,
    "start_time": "2023-07-25T11:24:49.240Z"
   },
   {
    "duration": 142,
    "start_time": "2023-07-25T11:24:50.601Z"
   },
   {
    "duration": 128,
    "start_time": "2023-07-25T11:24:53.500Z"
   },
   {
    "duration": 60,
    "start_time": "2023-07-25T11:24:56.006Z"
   },
   {
    "duration": 125,
    "start_time": "2023-07-25T11:24:58.507Z"
   },
   {
    "duration": 202,
    "start_time": "2023-07-25T11:25:01.299Z"
   }
  ],
  "kernelspec": {
   "display_name": "Python 3 (ipykernel)",
   "language": "python",
   "name": "python3"
  },
  "language_info": {
   "codemirror_mode": {
    "name": "ipython",
    "version": 3
   },
   "file_extension": ".py",
   "mimetype": "text/x-python",
   "name": "python",
   "nbconvert_exporter": "python",
   "pygments_lexer": "ipython3",
   "version": "3.9.5"
  },
  "toc": {
   "base_numbering": 1,
   "nav_menu": {},
   "number_sections": true,
   "sideBar": true,
   "skip_h1_title": true,
   "title_cell": "Table of Contents",
   "title_sidebar": "Contents",
   "toc_cell": false,
   "toc_position": {
    "height": "700px",
    "left": "41px",
    "top": "111.125px",
    "width": "336px"
   },
   "toc_section_display": true,
   "toc_window_display": true
  }
 },
 "nbformat": 4,
 "nbformat_minor": 2
}
